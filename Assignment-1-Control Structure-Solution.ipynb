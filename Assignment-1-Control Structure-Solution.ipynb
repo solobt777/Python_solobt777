{
  "cells": [
    {
      "cell_type": "markdown",
      "metadata": {
        "id": "view-in-github",
        "colab_type": "text"
      },
      "source": [
        "<a href=\"https://colab.research.google.com/github/solobt777/Python_solobt777/blob/main/Assignment-1-Control%20Structure-Solution.ipynb\" target=\"_parent\"><img src=\"https://colab.research.google.com/assets/colab-badge.svg\" alt=\"Open In Colab\"/></a>"
      ]
    },
    {
      "cell_type": "markdown",
      "id": "b242f07d",
      "metadata": {
        "id": "b242f07d"
      },
      "source": [
        "Body Mass Index (BMI) is a simple calculation used to determine if a person has a healthy weight for their height. It's like a quick screening tool that gives you a general idea of whether you're underweight, normal weight, overweight, or obese.\n",
        "How BMI is Calculated\n",
        "Formula: BMI = Weight (kg) ÷ Height (m)²\n",
        "Or in pounds and inches: BMI = (Weight in pounds ÷ Height in inches²) × 703\n",
        "Example:\n",
        "\n",
        "- Person weighs 70 kg and is 1.75 meters tall\n",
        "- BMI = 70 ÷ (1.75 × 1.75) = 70 ÷ 3.06 = 22.9\n",
        "\n",
        "### **BMI Categories**\n",
        "\n",
        "- Underweight: Below 18.5\n",
        "- Normal weight: 18.5-24.9\n",
        "- Overweight: 25-29.9\n",
        "- Obese: 30 and above\n",
        "\n"
      ]
    },
    {
      "cell_type": "code",
      "source": [
        "### find the body index\n",
        "def calculate_bmi(weight, height):\n",
        "    bmi = weight / (height ** 2)\n",
        "    return bmi\n",
        "weight = float(input(\"Enter your weight in kilograms: \"))\n",
        "height = float(input(\"Enter your height in meters: \"))\n",
        "bmi = calculate_bmi(weight, height)\n",
        "print(f\"Your BMI is: {bmi:.2f}\")"
      ],
      "metadata": {
        "id": "dkiosjTdbKXK",
        "outputId": "74750f38-2c84-4bf8-8fd4-2e6afa3a7ad6",
        "colab": {
          "base_uri": "https://localhost:8080/"
        }
      },
      "id": "dkiosjTdbKXK",
      "execution_count": 4,
      "outputs": [
        {
          "output_type": "stream",
          "name": "stdout",
          "text": [
            "Enter your weight in kilograms: 70\n",
            "Enter your height in meters: 2.0\n",
            "Your BMI is: 17.50\n"
          ]
        }
      ]
    }
  ],
  "metadata": {
    "language_info": {
      "name": "python"
    },
    "colab": {
      "provenance": [],
      "include_colab_link": true
    },
    "kernelspec": {
      "name": "python3",
      "display_name": "Python 3"
    }
  },
  "nbformat": 4,
  "nbformat_minor": 5
}