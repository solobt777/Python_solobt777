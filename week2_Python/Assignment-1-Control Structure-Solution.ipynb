{
  "cells": [
    {
      "cell_type": "markdown",
      "metadata": {
        "id": "view-in-github",
        "colab_type": "text"
      },
      "source": [
        "<a href=\"https://colab.research.google.com/github/solobt777/Python_solobt777/blob/main/Assignment-1-Control%20Structure-Solution.ipynb\" target=\"_parent\"><img src=\"https://colab.research.google.com/assets/colab-badge.svg\" alt=\"Open In Colab\"/></a>"
      ]
    },
    {
      "cell_type": "markdown",
      "source": [],
      "metadata": {
        "id": "mjjzysSucUZw"
      },
      "id": "mjjzysSucUZw"
    },
    {
      "cell_type": "markdown",
      "source": [
        "#### **Assignment 1-1**"
      ],
      "metadata": {
        "id": "P9r2U-J6cYB7"
      },
      "id": "P9r2U-J6cYB7"
    },
    {
      "cell_type": "code",
      "source": [
        "print(\"Welcome to Assignment-1\")"
      ],
      "metadata": {
        "id": "Az2nKqqPchXF"
      },
      "id": "Az2nKqqPchXF",
      "execution_count": null,
      "outputs": []
    },
    {
      "cell_type": "markdown",
      "source": [
        "#### **Assignment 1-2**"
      ],
      "metadata": {
        "id": "Bh9HEAnfcjic"
      },
      "id": "Bh9HEAnfcjic"
    },
    {
      "cell_type": "markdown",
      "id": "b242f07d",
      "metadata": {
        "id": "b242f07d"
      },
      "source": [
        "Body Mass Index (BMI) is a simple calculation used to determine if a person has a healthy weight for their height. It's like a quick screening tool that gives you a general idea of whether you're underweight, normal weight, overweight, or obese.\n",
        "How BMI is Calculated\n",
        "Formula: BMI = Weight (kg) ÷ Height (m)²\n",
        "Or in pounds and inches: BMI = (Weight in pounds ÷ Height in inches²) × 703\n",
        "Example:\n",
        "\n",
        "- Person weighs 70 kg and is 1.75 meters tall\n",
        "- BMI = 70 ÷ (1.75 × 1.75) = 70 ÷ 3.06 = 22.9\n",
        "\n",
        "### **BMI Categories**\n",
        "\n",
        "- Underweight: Below 18.5\n",
        "- Normal weight: 18.5-24.9\n",
        "- Overweight: 25-29.9\n",
        "- Obese: 30 and above\n",
        "\n"
      ]
    },
    {
      "cell_type": "code",
      "source": [
        "### find the body index\n",
        "def calculate_bmi(weight, height):\n",
        "    bmi = weight / (height ** 2)\n",
        "    return bmi\n",
        "weight = float(input(\"Enter your weight in kilograms: \"))\n",
        "height = float(input(\"Enter your height in meters: \"))\n",
        "bmi = calculate_bmi(weight, height)\n",
        "print(f\"Your BMI is: {bmi:.2f}\")"
      ],
      "metadata": {
        "id": "dkiosjTdbKXK"
      },
      "id": "dkiosjTdbKXK",
      "execution_count": null,
      "outputs": []
    }
  ],
  "metadata": {
    "language_info": {
      "name": "python"
    },
    "colab": {
      "provenance": [],
      "include_colab_link": true
    },
    "kernelspec": {
      "name": "python3",
      "display_name": "Python 3"
    }
  },
  "nbformat": 4,
  "nbformat_minor": 5
}