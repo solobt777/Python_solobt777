{
 "cells": [
  {
   "cell_type": "code",
   "execution_count": null,
   "id": "6d3d013e",
   "metadata": {},
   "outputs": [],
   "source": [
    "!pip install langchain"
   ]
  },
  {
   "cell_type": "code",
   "execution_count": 1,
   "id": "0803670a",
   "metadata": {},
   "outputs": [],
   "source": [
    "import os\n",
    "\n",
    "os.makedirs('data/text_files', exist_ok=True)\n",
    "\n",
    "sample_text = {\"data/text_files/sample_text.txt\": \"\"\"Python Programmming Introduction\n",
    "               Python is ahigh-level, interpreted programming language known for its readability and versatility.\n",
    "                It supports multiple programming paradigms, including procedural, object-oriented, and functional programming.\n",
    "                Python has a vast standard library and a large ecosystem of third-party packages, making it suitable for web development, data analysis, artificial intelligence, scientific computing, and more.\n",
    "                Its syntax emphasizes code readability, allowing developers to express concepts in fewer lines of code compared to other languages.\n",
    "                Python's dynamic typing and automatic memory management make it easy to learn and use, even for beginners.\n",
    "               \"\"\"}\n",
    "\n",
    "for file_path, content in sample_text.items():\n",
    "    with open(file_path, 'w') as file:\n",
    "        file.write(content)"
   ]
  },
  {
   "cell_type": "code",
   "execution_count": 7,
   "id": "b8092f94",
   "metadata": {},
   "outputs": [
    {
     "name": "stdout",
     "output_type": "stream",
     "text": [
      "page_content='Python Programmming Introduction\n",
      "               Python is ahigh-level, interpreted programming language known for its readability and versatility.\n",
      "                It supports multiple programming paradigms, including procedural, object-oriented, and functional programming.\n",
      "                Python has a vast standard library and a large ecosystem of third-party packages, making it suitable for web development, data analysis, artificial intelligence, scientific computing, and more.\n",
      "                Its syntax emphasizes code readability, allowing developers to express concepts in fewer lines of code compared to other languages.\n",
      "                Python's dynamic typing and automatic memory management make it easy to learn and use, even for beginners.\n",
      "               ' metadata={'source': 'sample_text.txt', 'author': 'Hope AI', 'length': 89, 'topic': 'Python Programming', 'language': 'English', 'year': 2024, 'keywords': ['Python', 'programming', 'introduction', 'language', 'versatility'], 'license': 'CC BY-SA 4.0', 'summary': 'An introductory text about Python programming language.', 'difficulty_level': 'Beginner', 'publication': 'Hope AI Learning Resources', 'reviewed': False, 'rating': 4.5, 'comments': [], 'related_topics': ['Programming Languages', 'Software Development', 'Data Science'], 'last_updated': '2024-06-01'}\n"
     ]
    }
   ],
   "source": [
    "from langchain_core.documents import Document\n",
    "\n",
    "\n",
    "doc = Document(page_content=open(\"data/text_files/sample_text.txt\").read(),\n",
    "               metadata={\n",
    "                   \"source\": \"sample_text.txt\",\n",
    "                     \"author\": \"Hope AI\",\n",
    "                        \"length\": len(open(\"data/text_files/sample_text.txt\").read().split()),\n",
    "                        \"topic\": \"Python Programming\",\n",
    "                        \"language\": \"English\",\n",
    "                        \"year\": 2024,\n",
    "                        \"keywords\": [\"Python\", \"programming\", \"introduction\", \"language\", \"versatility\"],\n",
    "                        \"license\": \"CC BY-SA 4.0\",\n",
    "                        \"summary\": \"An introductory text about Python programming language.\",\n",
    "                        \"difficulty_level\": \"Beginner\",\n",
    "                        \"publication\": \"Hope AI Learning Resources\",\n",
    "                        \"reviewed\": False,\n",
    "                        \"rating\": 4.5,\n",
    "                        \"comments\": [],\n",
    "                        \"related_topics\": [\"Programming Languages\", \"Software Development\", \"Data Science\"],\n",
    "                        \"last_updated\": \"2024-06-01\"\n",
    "               })\n",
    "print(doc)"
   ]
  }
 ],
 "metadata": {
  "kernelspec": {
   "display_name": "myevn",
   "language": "python",
   "name": "python3"
  },
  "language_info": {
   "codemirror_mode": {
    "name": "ipython",
    "version": 3
   },
   "file_extension": ".py",
   "mimetype": "text/x-python",
   "name": "python",
   "nbconvert_exporter": "python",
   "pygments_lexer": "ipython3",
   "version": "3.13.0"
  }
 },
 "nbformat": 4,
 "nbformat_minor": 5
}
