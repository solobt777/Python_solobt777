{
  "cells": [
    {
      "cell_type": "markdown",
      "metadata": {
        "id": "view-in-github",
        "colab_type": "text"
      },
      "source": [
        "<a href=\"https://colab.research.google.com/github/solobt777/Python_solobt777/blob/main/Lesson_002_Variable_N_Assignment.ipynb\" target=\"_parent\"><img src=\"https://colab.research.google.com/assets/colab-badge.svg\" alt=\"Open In Colab\"/></a>"
      ]
    },
    {
      "cell_type": "markdown",
      "source": [
        "#### **Variable and Assignment**"
      ],
      "metadata": {
        "id": "3n6_s24p9OKV"
      },
      "id": "3n6_s24p9OKV"
    },
    {
      "cell_type": "code",
      "execution_count": 3,
      "id": "d1454a64",
      "metadata": {
        "colab": {
          "base_uri": "https://localhost:8080/"
        },
        "id": "d1454a64",
        "outputId": "497b140e-900d-4b3b-d530-e8f2471ca481"
      },
      "outputs": [
        {
          "output_type": "stream",
          "name": "stdout",
          "text": [
            "add\n",
            "30\n"
          ]
        }
      ],
      "source": [
        "#### num1 and num2 are two variables each one hold two different nummber\n",
        "### add is another variable which holds num1 + num2 as a resultant of adding 10 + 20 => 30\n",
        "### here the program will execute line by line\n",
        "num1 = 10\n",
        "num2 = 20\n",
        "add = num1 + num2\n",
        "print(\"add\"); print(add)"
      ]
    },
    {
      "cell_type": "markdown",
      "source": [
        "#### **Python Variable Naming - Do's and Don'ts**\n"
      ],
      "metadata": {
        "id": "QRpPRK0n_OFr"
      },
      "id": "QRpPRK0n_OFr"
    },
    {
      "cell_type": "markdown",
      "source": [
        "✅ DO\n",
        "\n",
        "- Use snake_case for variables and functions\n",
        "- Use SCREAMING_SNAKE_CASE for constants\n",
        "- Use PascalCase for class names\n",
        "- Choose descriptive, meaningful names that explain purpose\n",
        "- Use is/has/can prefixes for boolean variables\n",
        "- Use plural nouns for collections (lists, sets, dictionaries)\n",
        "- Keep names readable and pronounceable\n",
        "- Use full words instead of abbreviations when possible\n",
        "- Match naming style consistently throughout your codebase\n",
        "- Use context-appropriate length (shorter for small scopes, longer for broader scopes)\n",
        "\n",
        "❌ DON'T\n",
        "\n",
        "- Don't use single letters except for short loop counters (i, j, k)\n",
        "- Don't use Python keywords (class, def, if, for, etc.)\n",
        "- Don't shadow built-in functions (list, dict, str, int, etc.)\n",
        "- Don't use abbreviations or acronyms unless widely understood\n",
        "- Don't mix naming conventions in the same project\n",
        "- Don't use special characters or spaces in variable names\n",
        "- Don't start variable names with numbers\n",
        "- Don't use overly long names that make code hard to read\n",
        "- Don't use misleading names that don't match the variable's purpose\n",
        "- Don't use generic names like data, info, temp, var without context\n",
        "\n"
      ],
      "metadata": {
        "id": "aXJCyfUbAxB_"
      },
      "id": "aXJCyfUbAxB_"
    },
    {
      "cell_type": "markdown",
      "source": [
        "### **Good practice**\n",
        "- always generate meaning ful variable names"
      ],
      "metadata": {
        "id": "ImOgresXBGai"
      },
      "id": "ImOgresXBGai"
    },
    {
      "cell_type": "code",
      "source": [
        "Num1 = 10\n",
        "Num2 = 20\n",
        "Add = Num1 + Num2\n",
        "print(\"Add\"); print(Add)\n"
      ],
      "metadata": {
        "id": "orxRKbteA079",
        "outputId": "c1b5982b-d600-42c1-a566-09b9912a7aeb",
        "colab": {
          "base_uri": "https://localhost:8080/"
        }
      },
      "id": "orxRKbteA079",
      "execution_count": 6,
      "outputs": [
        {
          "output_type": "stream",
          "name": "stdout",
          "text": [
            "Add\n",
            "30\n"
          ]
        }
      ]
    },
    {
      "cell_type": "markdown",
      "source": [
        "#### **Bad practice**\n",
        "- DO NOT use random variable as shown below"
      ],
      "metadata": {
        "id": "tDh25CX9BMUv"
      },
      "id": "tDh25CX9BMUv"
    },
    {
      "cell_type": "code",
      "source": [
        "## EXAMPLE 1 DON'T\n",
        "a = 10\n",
        "b = 20\n",
        "c = a + b"
      ],
      "metadata": {
        "id": "C3ovMBSjBTrT"
      },
      "id": "C3ovMBSjBTrT",
      "execution_count": 7,
      "outputs": []
    },
    {
      "cell_type": "code",
      "source": [
        "## EXAMPLE 2 DON'T - while executing it will throw error\n",
        "First Name = \"Solomon\""
      ],
      "metadata": {
        "id": "bDxfOIUuCv7i",
        "outputId": "27454f3d-1215-4127-d14a-7e5bfb064e8a",
        "colab": {
          "base_uri": "https://localhost:8080/",
          "height": 108
        }
      },
      "id": "bDxfOIUuCv7i",
      "execution_count": 9,
      "outputs": [
        {
          "output_type": "error",
          "ename": "SyntaxError",
          "evalue": "invalid syntax (ipython-input-437404330.py, line 2)",
          "traceback": [
            "\u001b[0;36m  File \u001b[0;32m\"/tmp/ipython-input-437404330.py\"\u001b[0;36m, line \u001b[0;32m2\u001b[0m\n\u001b[0;31m    First Name = \"Solomon\"\u001b[0m\n\u001b[0m          ^\u001b[0m\n\u001b[0;31mSyntaxError\u001b[0m\u001b[0;31m:\u001b[0m invalid syntax\n"
          ]
        }
      ]
    },
    {
      "cell_type": "code",
      "source": [
        "## EXAMPLE 3 DON'T - do not prefix with the variable with number\n",
        "1st_name = \"Solomon\""
      ],
      "metadata": {
        "id": "zDsHuYKcDEj6",
        "outputId": "72bbbf79-62e0-4949-f047-9f7911d21b88",
        "colab": {
          "base_uri": "https://localhost:8080/",
          "height": 108
        }
      },
      "id": "zDsHuYKcDEj6",
      "execution_count": 10,
      "outputs": [
        {
          "output_type": "error",
          "ename": "SyntaxError",
          "evalue": "invalid decimal literal (ipython-input-564258959.py, line 2)",
          "traceback": [
            "\u001b[0;36m  File \u001b[0;32m\"/tmp/ipython-input-564258959.py\"\u001b[0;36m, line \u001b[0;32m2\u001b[0m\n\u001b[0;31m    1st_name = \"Solomon\"\u001b[0m\n\u001b[0m    ^\u001b[0m\n\u001b[0;31mSyntaxError\u001b[0m\u001b[0;31m:\u001b[0m invalid decimal literal\n"
          ]
        }
      ]
    },
    {
      "cell_type": "code",
      "source": [],
      "metadata": {
        "id": "bzf7QNZjCxMu"
      },
      "id": "bzf7QNZjCxMu",
      "execution_count": null,
      "outputs": []
    },
    {
      "cell_type": "markdown",
      "source": [
        "#### **How to write Efficient code**"
      ],
      "metadata": {
        "id": "UVTKhs-aDaJl"
      },
      "id": "UVTKhs-aDaJl"
    },
    {
      "cell_type": "code",
      "source": [
        "print(\"The Addition of two numbers\")\n",
        "num1 = 10\n",
        "print(\"print num1: \",num1)\n",
        "num2 = 20\n",
        "print(\"print num2: \",num1)\n",
        "print(\"print num1 + num2\", num1+num2)\n",
        "add = num1 + num2\n",
        "print(\"add\"); print(add)"
      ],
      "metadata": {
        "id": "hSp_nAPXDeym",
        "outputId": "f60a16d2-e8b2-4d15-a2f5-8f3c2a0e5019",
        "colab": {
          "base_uri": "https://localhost:8080/"
        }
      },
      "id": "hSp_nAPXDeym",
      "execution_count": 14,
      "outputs": [
        {
          "output_type": "stream",
          "name": "stdout",
          "text": [
            "The Addition of two numbers\n",
            "print num1:  10\n",
            "print num2:  10\n",
            "print num1 + num2 30\n",
            "add\n",
            "30\n"
          ]
        }
      ]
    },
    {
      "cell_type": "markdown",
      "source": [
        "#### **Let's see how to consume the input directly from the user**"
      ],
      "metadata": {
        "id": "462_AbtSEoub"
      },
      "id": "462_AbtSEoub"
    },
    {
      "cell_type": "code",
      "source": [
        "num1 = int(input(\"Enter the first number: \"))\n",
        "num2 = int(input(\"Enter the second number: \"))\n",
        "add = num1 + num2\n",
        "print(\"add\"); print(add)"
      ],
      "metadata": {
        "id": "tZl06ZNgEw9K",
        "outputId": "72043768-22f2-4faf-c9db-c2932c43244f",
        "colab": {
          "base_uri": "https://localhost:8080/"
        }
      },
      "id": "tZl06ZNgEw9K",
      "execution_count": 16,
      "outputs": [
        {
          "output_type": "stream",
          "name": "stdout",
          "text": [
            "Enter the first number: 1\n",
            "Enter the second number: 2\n",
            "add\n",
            "3\n"
          ]
        }
      ]
    },
    {
      "cell_type": "markdown",
      "source": [
        "### **Important!**\n",
        "- make sure the assigned variable is declared if not you will get error\n",
        "- make sure brakets started is closed at the end approprietly"
      ],
      "metadata": {
        "id": "CbIIOG-BFbDE"
      },
      "id": "CbIIOG-BFbDE"
    }
  ],
  "metadata": {
    "colab": {
      "provenance": [],
      "include_colab_link": true
    },
    "kernelspec": {
      "display_name": "3.13.0",
      "language": "python",
      "name": "python3"
    },
    "language_info": {
      "codemirror_mode": {
        "name": "ipython",
        "version": 3
      },
      "file_extension": ".py",
      "mimetype": "text/x-python",
      "name": "python",
      "nbconvert_exporter": "python",
      "pygments_lexer": "ipython3",
      "version": "3.13.0"
    }
  },
  "nbformat": 4,
  "nbformat_minor": 5
}