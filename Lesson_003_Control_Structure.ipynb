{
  "cells": [
    {
      "cell_type": "markdown",
      "metadata": {
        "id": "view-in-github",
        "colab_type": "text"
      },
      "source": [
        "<a href=\"https://colab.research.google.com/github/solobt777/Python_solobt777/blob/main/Lesson_003_Control_Structure.ipynb\" target=\"_parent\"><img src=\"https://colab.research.google.com/assets/colab-badge.svg\" alt=\"Open In Colab\"/></a>"
      ]
    },
    {
      "cell_type": "markdown",
      "id": "b242f07d",
      "metadata": {
        "id": "b242f07d"
      },
      "source": [
        "#### **Control Structure**"
      ]
    },
    {
      "cell_type": "markdown",
      "source": [
        "### if Statement\n",
        "- always don't forget to give colon after if statament since it is mandatory required to write the 2nd statement of code"
      ],
      "metadata": {
        "id": "Aim0OiFmKD6k"
      },
      "id": "Aim0OiFmKD6k"
    },
    {
      "cell_type": "code",
      "source": [
        "### if semicolon is missed you will get error stating - SyntaxError: expected ':'\n",
        "### where ever you are using control structure make sure to add semicolon\n",
        "name=\"Hello\"\n",
        "if(name==\"Hello\"):\n",
        "    print(\"Hello World\")"
      ],
      "metadata": {
        "colab": {
          "base_uri": "https://localhost:8080/"
        },
        "id": "YevUx4ywJ8GW",
        "outputId": "4e15b2bd-58be-490f-cf24-4121a77a8363"
      },
      "id": "YevUx4ywJ8GW",
      "execution_count": 3,
      "outputs": [
        {
          "output_type": "stream",
          "name": "stdout",
          "text": [
            "Hello World\n"
          ]
        }
      ]
    }
  ],
  "metadata": {
    "language_info": {
      "name": "python"
    },
    "colab": {
      "provenance": [],
      "include_colab_link": true
    },
    "kernelspec": {
      "name": "python3",
      "display_name": "Python 3"
    }
  },
  "nbformat": 4,
  "nbformat_minor": 5
}