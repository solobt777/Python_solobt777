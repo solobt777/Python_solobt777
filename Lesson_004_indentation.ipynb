{
  "cells": [
    {
      "cell_type": "markdown",
      "metadata": {
        "id": "view-in-github",
        "colab_type": "text"
      },
      "source": [
        "<a href=\"https://colab.research.google.com/github/solobt777/Python_solobt777/blob/main/Lesson_004_indentation.ipynb\" target=\"_parent\"><img src=\"https://colab.research.google.com/assets/colab-badge.svg\" alt=\"Open In Colab\"/></a>"
      ]
    },
    {
      "cell_type": "markdown",
      "id": "b242f07d",
      "metadata": {
        "id": "b242f07d"
      },
      "source": [
        "#### **Indentation**"
      ]
    },
    {
      "cell_type": "code",
      "source": [
        "condition = True\n",
        "if(condition):\n",
        "  print(\"hello\")\n",
        "else:\n",
        "  print(\"bye\")"
      ],
      "metadata": {
        "colab": {
          "base_uri": "https://localhost:8080/"
        },
        "id": "w9AxRuseMmEJ",
        "outputId": "e626dcb2-0437-487b-e7ee-0255afb1b691"
      },
      "id": "w9AxRuseMmEJ",
      "execution_count": 5,
      "outputs": [
        {
          "output_type": "stream",
          "name": "stdout",
          "text": [
            "bye\n"
          ]
        }
      ]
    },
    {
      "cell_type": "code",
      "source": [
        "### for loop\n",
        "for temp in range(5,10):\n",
        "  print(temp)"
      ],
      "metadata": {
        "colab": {
          "base_uri": "https://localhost:8080/"
        },
        "id": "WoX80W6JRQ6Q",
        "outputId": "f7753c8d-49de-4b74-edea-cb4cf3a0620d"
      },
      "id": "WoX80W6JRQ6Q",
      "execution_count": 6,
      "outputs": [
        {
          "output_type": "stream",
          "name": "stdout",
          "text": [
            "5\n",
            "6\n",
            "7\n",
            "8\n",
            "9\n"
          ]
        }
      ]
    }
  ],
  "metadata": {
    "language_info": {
      "name": "python"
    },
    "colab": {
      "provenance": [],
      "include_colab_link": true
    },
    "kernelspec": {
      "name": "python3",
      "display_name": "Python 3"
    }
  },
  "nbformat": 4,
  "nbformat_minor": 5
}