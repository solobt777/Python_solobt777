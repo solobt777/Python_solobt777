{
  "cells": [
    {
      "cell_type": "markdown",
      "metadata": {
        "id": "view-in-github",
        "colab_type": "text"
      },
      "source": [
        "<a href=\"https://colab.research.google.com/github/solobt777/Python_solobt777/blob/main/Extra%20Assignments/Extra_Assignment_Question_003.ipynb\" target=\"_parent\"><img src=\"https://colab.research.google.com/assets/colab-badge.svg\" alt=\"Open In Colab\"/></a>"
      ]
    },
    {
      "cell_type": "markdown",
      "id": "56cbb7f8",
      "metadata": {
        "id": "56cbb7f8"
      },
      "source": [
        "#### **# print 'CORRECT' if i == 10**"
      ]
    },
    {
      "cell_type": "code",
      "source": [
        "## print 'CORRECT' if i == 10\n",
        "for i in range(1,11):\n",
        "    if i == 10:\n",
        "        print(i,' CORRECT')"
      ],
      "metadata": {
        "colab": {
          "base_uri": "https://localhost:8080/"
        },
        "id": "ezlUtK66X7vh",
        "outputId": "494db28d-3df8-41d2-e073-b3b200ce9345"
      },
      "id": "ezlUtK66X7vh",
      "execution_count": 4,
      "outputs": [
        {
          "output_type": "stream",
          "name": "stdout",
          "text": [
            "10  CORRECT\n"
          ]
        }
      ]
    },
    {
      "cell_type": "markdown",
      "source": [
        "####  **Check the password, using if and else**"
      ],
      "metadata": {
        "id": "cSH6CG4RYNeY"
      },
      "id": "cSH6CG4RYNeY"
    },
    {
      "cell_type": "code",
      "source": [
        "## Check the password, using if and else\n",
        "password = 'HOPE@123'\n",
        "if password == 'HOPE@123':\n",
        "    print('Your password is correct')\n",
        "else:\n",
        "    print('In Correct Password entered')"
      ],
      "metadata": {
        "colab": {
          "base_uri": "https://localhost:8080/"
        },
        "id": "_SaeFotEYQI5",
        "outputId": "e8ccfc60-54af-4a4c-d384-b4a347aeb2b4"
      },
      "id": "_SaeFotEYQI5",
      "execution_count": 5,
      "outputs": [
        {
          "output_type": "stream",
          "name": "stdout",
          "text": [
            "Your password is correct\n"
          ]
        }
      ]
    },
    {
      "cell_type": "markdown",
      "source": [
        "#### **Catagory the people by their age like children, adult, citizen, senior citizen...**"
      ],
      "metadata": {
        "id": "8cNTa7qWYiYB"
      },
      "id": "8cNTa7qWYiYB"
    },
    {
      "cell_type": "code",
      "source": [
        "## # Catagory the people by their age like children, adult, citizen, senior citizen...\n",
        "age = int(input('Enter your age: '))\n",
        "if age < 18:\n",
        "    print('Children')\n",
        "elif age < 35:\n",
        "    print('Adult')\n",
        "elif age < 59:\n",
        "    print('Citizen')\n",
        "else:\n",
        "    print('Senior Citizen')"
      ],
      "metadata": {
        "colab": {
          "base_uri": "https://localhost:8080/"
        },
        "id": "lNs_0fF7Yk_z",
        "outputId": "d112106b-bd96-4a14-f5ee-153c9805e000"
      },
      "id": "lNs_0fF7Yk_z",
      "execution_count": 6,
      "outputs": [
        {
          "output_type": "stream",
          "name": "stdout",
          "text": [
            "Enter your age: 19\n",
            "Adult\n"
          ]
        }
      ]
    },
    {
      "cell_type": "code",
      "source": [
        "age = [17,34,58,70]\n",
        "for i in age:\n",
        "    if i < 18:\n",
        "        print('Children')\n",
        "    elif i < 35:\n",
        "        print('Adult')\n",
        "    elif i < 59:\n",
        "        print('Citizen')\n",
        "    else:\n",
        "        print('Senior Citizen')\n"
      ],
      "metadata": {
        "colab": {
          "base_uri": "https://localhost:8080/"
        },
        "id": "aWYi5EX3Y3ft",
        "outputId": "14156ff9-e383-4d2d-c3bc-22cb58214ac2"
      },
      "id": "aWYi5EX3Y3ft",
      "execution_count": 7,
      "outputs": [
        {
          "output_type": "stream",
          "name": "stdout",
          "text": [
            "Children\n",
            "Adult\n",
            "Citizen\n",
            "Senior Citizen\n"
          ]
        }
      ]
    },
    {
      "cell_type": "markdown",
      "source": [
        "####  **Find whether given number is positive or negative**"
      ],
      "metadata": {
        "id": "kj6deNghZGIP"
      },
      "id": "kj6deNghZGIP"
    },
    {
      "cell_type": "code",
      "source": [
        "## # Find whether given number is positive or negative\n",
        "num = int(input('Enter any number: '))\n",
        "if num > 0:\n",
        "    print('Number is positive')\n",
        "else:\n",
        "    print('Number is negative')"
      ],
      "metadata": {
        "id": "0n6NDqU9ZKqS",
        "outputId": "d25c026b-fe13-44d7-aeb2-01d439d89623",
        "colab": {
          "base_uri": "https://localhost:8080/"
        }
      },
      "id": "0n6NDqU9ZKqS",
      "execution_count": 9,
      "outputs": [
        {
          "output_type": "stream",
          "name": "stdout",
          "text": [
            "Enter any number: -100\n",
            "Number is negative\n"
          ]
        }
      ]
    },
    {
      "cell_type": "markdown",
      "source": [
        "####  **Check whether the given number is divisible by 5**"
      ],
      "metadata": {
        "id": "neNK091WZRMr"
      },
      "id": "neNK091WZRMr"
    },
    {
      "cell_type": "code",
      "source": [
        "## # Check whether the given number is divisible by 5\n",
        "num = int(input('Enter a number to check: '))\n",
        "if num % 5 == 0:\n",
        "    print('Number is divisible by 5')\n",
        "else:\n",
        "    print('Number is not divisible by 5')"
      ],
      "metadata": {
        "id": "1clwAtv_ZT5e",
        "outputId": "97a1212f-9d79-436a-c813-3da9a3bb596d",
        "colab": {
          "base_uri": "https://localhost:8080/"
        }
      },
      "id": "1clwAtv_ZT5e",
      "execution_count": 11,
      "outputs": [
        {
          "output_type": "stream",
          "name": "stdout",
          "text": [
            "Enter a number to check: 19\n",
            "Number is not divisible by 5\n"
          ]
        }
      ]
    }
  ],
  "metadata": {
    "language_info": {
      "name": "python"
    },
    "colab": {
      "provenance": [],
      "include_colab_link": true
    },
    "kernelspec": {
      "name": "python3",
      "display_name": "Python 3"
    }
  },
  "nbformat": 4,
  "nbformat_minor": 5
}