{
  "cells": [
    {
      "cell_type": "markdown",
      "metadata": {
        "id": "view-in-github",
        "colab_type": "text"
      },
      "source": [
        "<a href=\"https://colab.research.google.com/github/solobt777/Python_solobt777/blob/main/Extra%20Assignments/Extra_Assignment_Question_002.ipynb\" target=\"_parent\"><img src=\"https://colab.research.google.com/assets/colab-badge.svg\" alt=\"Open In Colab\"/></a>"
      ]
    },
    {
      "cell_type": "markdown",
      "id": "56cbb7f8",
      "metadata": {
        "id": "56cbb7f8"
      },
      "source": [
        "#### **print 0 to 20 by using range**"
      ]
    },
    {
      "cell_type": "code",
      "source": [
        "# print 0 to 20 by using range\n",
        "for i in range(21):\n",
        "    print(i)"
      ],
      "metadata": {
        "id": "SmGYFSl-iELh",
        "outputId": "31b73880-ae4e-4e0c-9b82-0f16c8c622f0",
        "colab": {
          "base_uri": "https://localhost:8080/"
        }
      },
      "id": "SmGYFSl-iELh",
      "execution_count": 1,
      "outputs": [
        {
          "output_type": "stream",
          "name": "stdout",
          "text": [
            "0\n",
            "1\n",
            "2\n",
            "3\n",
            "4\n",
            "5\n",
            "6\n",
            "7\n",
            "8\n",
            "9\n",
            "10\n",
            "11\n",
            "12\n",
            "13\n",
            "14\n",
            "15\n",
            "16\n",
            "17\n",
            "18\n",
            "19\n",
            "20\n"
          ]
        }
      ]
    },
    {
      "cell_type": "markdown",
      "source": [
        "## **# print range 10 to 20**"
      ],
      "metadata": {
        "id": "CfWYSi1SiWhm"
      },
      "id": "CfWYSi1SiWhm"
    },
    {
      "cell_type": "code",
      "source": [
        "# print range 10 to 20\n",
        "for i in range(10,20):\n",
        "    print(i)"
      ],
      "metadata": {
        "id": "B7cbDLgCiZ5H",
        "outputId": "ff20cc9f-28ea-47b7-e660-7cb456c15648",
        "colab": {
          "base_uri": "https://localhost:8080/"
        }
      },
      "id": "B7cbDLgCiZ5H",
      "execution_count": 2,
      "outputs": [
        {
          "output_type": "stream",
          "name": "stdout",
          "text": [
            "10\n",
            "11\n",
            "12\n",
            "13\n",
            "14\n",
            "15\n",
            "16\n",
            "17\n",
            "18\n",
            "19\n"
          ]
        }
      ]
    },
    {
      "cell_type": "markdown",
      "source": [
        "## **Print number of items in the list by using 'len'**"
      ],
      "metadata": {
        "id": "F5HzMayQilRI"
      },
      "id": "F5HzMayQilRI"
    },
    {
      "cell_type": "code",
      "source": [
        "## Print number of items in the list by using 'len'\n",
        "list = [10, 20, 14, 55, 43, 87, 76]\n",
        "for i in range(len(list)):\n",
        "    print(list[i])"
      ],
      "metadata": {
        "id": "DFN29LR6ii2i",
        "outputId": "92cbce13-3fac-4c09-bb01-d651b862a2c5",
        "colab": {
          "base_uri": "https://localhost:8080/"
        }
      },
      "id": "DFN29LR6ii2i",
      "execution_count": 5,
      "outputs": [
        {
          "output_type": "stream",
          "name": "stdout",
          "text": [
            "10\n",
            "20\n",
            "14\n",
            "55\n",
            "43\n",
            "87\n",
            "76\n"
          ]
        }
      ]
    },
    {
      "cell_type": "markdown",
      "source": [
        "## **print \"Artificial Intelligence\" text as each char**"
      ],
      "metadata": {
        "id": "62E4qqxLjAMl"
      },
      "id": "62E4qqxLjAMl"
    },
    {
      "cell_type": "code",
      "source": [
        "string = \"Artificial Intelligence\"\n",
        "for i in range(len(string)):\n",
        "    print(string[i])"
      ],
      "metadata": {
        "id": "W1MT4ye8jGwu",
        "outputId": "aec31c20-8f15-4859-b2c2-dde5dc88e36e",
        "colab": {
          "base_uri": "https://localhost:8080/"
        }
      },
      "id": "W1MT4ye8jGwu",
      "execution_count": 6,
      "outputs": [
        {
          "output_type": "stream",
          "name": "stdout",
          "text": [
            "A\n",
            "r\n",
            "t\n",
            "i\n",
            "f\n",
            "i\n",
            "c\n",
            "i\n",
            "a\n",
            "l\n",
            " \n",
            "I\n",
            "n\n",
            "t\n",
            "e\n",
            "l\n",
            "l\n",
            "i\n",
            "g\n",
            "e\n",
            "n\n",
            "c\n",
            "e\n"
          ]
        }
      ]
    },
    {
      "cell_type": "code",
      "source": [
        "## or"
      ],
      "metadata": {
        "id": "6zvlHNkgi-L9"
      },
      "id": "6zvlHNkgi-L9",
      "execution_count": null,
      "outputs": []
    },
    {
      "cell_type": "code",
      "source": [
        "string = \"Artificial Intelligence\"\n",
        "for i in string:\n",
        "    print(i)"
      ],
      "metadata": {
        "id": "5dWlaBuRjQbp",
        "outputId": "2387add4-99a1-468e-d1eb-3321e2f228fe",
        "colab": {
          "base_uri": "https://localhost:8080/"
        }
      },
      "id": "5dWlaBuRjQbp",
      "execution_count": 7,
      "outputs": [
        {
          "output_type": "stream",
          "name": "stdout",
          "text": [
            "A\n",
            "r\n",
            "t\n",
            "i\n",
            "f\n",
            "i\n",
            "c\n",
            "i\n",
            "a\n",
            "l\n",
            " \n",
            "I\n",
            "n\n",
            "t\n",
            "e\n",
            "l\n",
            "l\n",
            "i\n",
            "g\n",
            "e\n",
            "n\n",
            "c\n",
            "e\n"
          ]
        }
      ]
    },
    {
      "cell_type": "code",
      "source": [
        "## or"
      ],
      "metadata": {
        "id": "HDAFXJDijT9u"
      },
      "id": "HDAFXJDijT9u",
      "execution_count": null,
      "outputs": []
    },
    {
      "cell_type": "code",
      "source": [
        "string = \"Artificial Intelligence\"\n",
        "for index, char in enumerate(string):\n",
        "    print(f\"{index}: {char}\")\n"
      ],
      "metadata": {
        "id": "Zl_tW9RCjVHD",
        "outputId": "7eb9ea2d-2b4b-4542-b4a3-395c45541fe9",
        "colab": {
          "base_uri": "https://localhost:8080/"
        }
      },
      "id": "Zl_tW9RCjVHD",
      "execution_count": 8,
      "outputs": [
        {
          "output_type": "stream",
          "name": "stdout",
          "text": [
            "0: A\n",
            "1: r\n",
            "2: t\n",
            "3: i\n",
            "4: f\n",
            "5: i\n",
            "6: c\n",
            "7: i\n",
            "8: a\n",
            "9: l\n",
            "10:  \n",
            "11: I\n",
            "12: n\n",
            "13: t\n",
            "14: e\n",
            "15: l\n",
            "16: l\n",
            "17: i\n",
            "18: g\n",
            "19: e\n",
            "20: n\n",
            "21: c\n",
            "22: e\n"
          ]
        }
      ]
    },
    {
      "cell_type": "markdown",
      "source": [
        "### **Pring you Name, Age, Profession**"
      ],
      "metadata": {
        "id": "HPr7m6UGj5WC"
      },
      "id": "HPr7m6UGj5WC"
    },
    {
      "cell_type": "code",
      "source": [
        "age = input(\"Enter your age: \")\n",
        "name = input(\"Enter your name: \")\n",
        "profession = input(\"Enter your profession: \")\n",
        "print(  name, age, profession)"
      ],
      "metadata": {
        "id": "avlMeWfZj_ZK",
        "outputId": "ea70e96b-5772-497b-9ff0-ef83fca79639",
        "colab": {
          "base_uri": "https://localhost:8080/"
        }
      },
      "id": "avlMeWfZj_ZK",
      "execution_count": 10,
      "outputs": [
        {
          "output_type": "stream",
          "name": "stdout",
          "text": [
            "Enter your age: 50\n",
            "Enter your name: Solomon\n",
            "Enter your profession: Architect\n",
            "Solomon 50 Architect\n"
          ]
        }
      ]
    },
    {
      "cell_type": "markdown",
      "source": [
        "## **Print this mixered datatype using Tuples**"
      ],
      "metadata": {
        "id": "prafqEN_jt0h"
      },
      "id": "prafqEN_jt0h"
    },
    {
      "cell_type": "code",
      "source": [
        "my_tuple = (1, 'Welcome', 2, 'Hope')\n",
        "print(my_tuple)"
      ],
      "metadata": {
        "id": "t_EI45CXjuYG",
        "outputId": "a4a95349-6152-4314-827c-8af98bda33ef",
        "colab": {
          "base_uri": "https://localhost:8080/"
        }
      },
      "id": "t_EI45CXjuYG",
      "execution_count": 9,
      "outputs": [
        {
          "output_type": "stream",
          "name": "stdout",
          "text": [
            "(1, 'Welcome', 2, 'Hope')\n"
          ]
        }
      ]
    },
    {
      "cell_type": "code",
      "source": [],
      "metadata": {
        "id": "86bQPooWkc9F"
      },
      "id": "86bQPooWkc9F",
      "execution_count": null,
      "outputs": []
    },
    {
      "cell_type": "code",
      "source": [
        "my_tuple2 = (1, 'Welcome', 2, 'Hope', ('python', 'HOPE'))\n",
        "print(my_tuple2)"
      ],
      "metadata": {
        "id": "qtfo3AQ1kcsN",
        "outputId": "a3aecb5c-e976-44b9-aac7-9eaf7c38f8b8",
        "colab": {
          "base_uri": "https://localhost:8080/"
        }
      },
      "id": "qtfo3AQ1kcsN",
      "execution_count": 12,
      "outputs": [
        {
          "output_type": "stream",
          "name": "stdout",
          "text": [
            "(1, 'Welcome', 2, 'Hope', ('python', 'HOPE'))\n"
          ]
        }
      ]
    },
    {
      "cell_type": "markdown",
      "source": [
        "## **print Odd Numbers in the list**"
      ],
      "metadata": {
        "id": "RZIHIQjTkmZa"
      },
      "id": "RZIHIQjTkmZa"
    },
    {
      "cell_type": "code",
      "source": [
        "## print Odd Numbers in the list\n",
        "list = [20,10,16,19,25,1,276,188]\n",
        "for i in list:\n",
        "    if i%2!=0:\n",
        "        print(i)"
      ],
      "metadata": {
        "id": "eZBFLkRgkn3V",
        "outputId": "e98be4cc-e775-41a6-e47f-749dececbad7",
        "colab": {
          "base_uri": "https://localhost:8080/"
        }
      },
      "id": "eZBFLkRgkn3V",
      "execution_count": 13,
      "outputs": [
        {
          "output_type": "stream",
          "name": "stdout",
          "text": [
            "19\n",
            "25\n",
            "1\n"
          ]
        }
      ]
    },
    {
      "cell_type": "markdown",
      "source": [
        "## **print Even numbers in the list**"
      ],
      "metadata": {
        "id": "NL95xMJ8kxK6"
      },
      "id": "NL95xMJ8kxK6"
    },
    {
      "cell_type": "code",
      "source": [
        "## print Even numbers in the list\n",
        "list = [20,10,16,19,25,1,276,188]\n",
        "for i in list:\n",
        "    if i%2==0:\n",
        "        print(i)"
      ],
      "metadata": {
        "id": "Lw7XMOC3kwiZ",
        "outputId": "3f5af5f8-6284-42c9-e71e-528730b6016e",
        "colab": {
          "base_uri": "https://localhost:8080/"
        }
      },
      "id": "Lw7XMOC3kwiZ",
      "execution_count": 14,
      "outputs": [
        {
          "output_type": "stream",
          "name": "stdout",
          "text": [
            "20\n",
            "10\n",
            "16\n",
            "276\n",
            "188\n"
          ]
        }
      ]
    }
  ],
  "metadata": {
    "language_info": {
      "name": "python"
    },
    "colab": {
      "provenance": [],
      "include_colab_link": true
    },
    "kernelspec": {
      "name": "python3",
      "display_name": "Python 3"
    }
  },
  "nbformat": 4,
  "nbformat_minor": 5
}