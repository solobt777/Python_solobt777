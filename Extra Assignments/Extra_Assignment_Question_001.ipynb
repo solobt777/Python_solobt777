{
  "cells": [
    {
      "cell_type": "markdown",
      "metadata": {
        "id": "view-in-github",
        "colab_type": "text"
      },
      "source": [
        "<a href=\"https://colab.research.google.com/github/solobt777/Python_solobt777/blob/main/Extra%20Assignments/Extra_Assignment_Question_001.ipynb\" target=\"_parent\"><img src=\"https://colab.research.google.com/assets/colab-badge.svg\" alt=\"Open In Colab\"/></a>"
      ]
    },
    {
      "cell_type": "markdown",
      "source": [
        "#### **print Statement**"
      ],
      "metadata": {
        "id": "pYfkCFBxfLfg"
      },
      "id": "pYfkCFBxfLfg"
    },
    {
      "cell_type": "code",
      "source": [
        "print(\"Hope AI!\")"
      ],
      "metadata": {
        "colab": {
          "base_uri": "https://localhost:8080/"
        },
        "id": "U3kO6eWRfR9K",
        "outputId": "7e1777a3-ac9d-485d-8fa4-9bc5eeb2f87a"
      },
      "id": "U3kO6eWRfR9K",
      "execution_count": null,
      "outputs": [
        {
          "output_type": "stream",
          "name": "stdout",
          "text": [
            "Hope AI!\n"
          ]
        }
      ]
    },
    {
      "cell_type": "markdown",
      "source": [
        "#### **By input - Enter your institute name? : HOPE AI**"
      ],
      "metadata": {
        "id": "b9GkTFg5fdMi"
      },
      "id": "b9GkTFg5fdMi"
    },
    {
      "cell_type": "code",
      "source": [
        "institute_name = input(\"Enter your institute name? : \")"
      ],
      "metadata": {
        "colab": {
          "base_uri": "https://localhost:8080/"
        },
        "id": "mffyh23nfcyd",
        "outputId": "31792b2e-4fce-4577-b74b-b9fa4f4c3dda"
      },
      "id": "mffyh23nfcyd",
      "execution_count": null,
      "outputs": [
        {
          "name": "stdout",
          "output_type": "stream",
          "text": [
            "Enter your institute name? : Mckesson Health care\n"
          ]
        }
      ]
    },
    {
      "cell_type": "markdown",
      "source": [
        "####  **Addition** add 2 numbers"
      ],
      "metadata": {
        "id": "RSi-CE_Hfkok"
      },
      "id": "RSi-CE_Hfkok"
    },
    {
      "cell_type": "code",
      "source": [
        "a= 43\n",
        "b= 34\n",
        "add = a + b\n",
        "print(add)"
      ],
      "metadata": {
        "colab": {
          "base_uri": "https://localhost:8080/"
        },
        "id": "8MR-NArSfr0z",
        "outputId": "ddb2e990-eee0-474f-deb4-c9c0f64637d7"
      },
      "id": "8MR-NArSfr0z",
      "execution_count": null,
      "outputs": [
        {
          "output_type": "stream",
          "name": "stdout",
          "text": [
            "77\n"
          ]
        }
      ]
    },
    {
      "cell_type": "markdown",
      "source": [
        "#### **Subtraction two number**"
      ],
      "metadata": {
        "id": "ocvLoDGWfkmI"
      },
      "id": "ocvLoDGWfkmI"
    },
    {
      "cell_type": "code",
      "source": [
        "a= 43\n",
        "b= 34\n",
        "add = a - b\n",
        "print(add)\n"
      ],
      "metadata": {
        "colab": {
          "base_uri": "https://localhost:8080/"
        },
        "id": "jW_5YLSpf0VI",
        "outputId": "d73efdd2-b7b4-4125-bd3c-03b2ce94667e"
      },
      "id": "jW_5YLSpf0VI",
      "execution_count": null,
      "outputs": [
        {
          "output_type": "stream",
          "name": "stdout",
          "text": [
            "9\n"
          ]
        }
      ]
    },
    {
      "cell_type": "markdown",
      "source": [
        "#### **Multiplication two numbers**"
      ],
      "metadata": {
        "id": "3QSSe1vtfkj1"
      },
      "id": "3QSSe1vtfkj1"
    },
    {
      "cell_type": "code",
      "source": [
        "a= 63\n",
        "b= 97\n",
        "Mul = a * b\n",
        "print(Mul)"
      ],
      "metadata": {
        "colab": {
          "base_uri": "https://localhost:8080/"
        },
        "id": "UtLlYY_vgES-",
        "outputId": "5789d192-5116-4727-8717-083cf7c14fac"
      },
      "id": "UtLlYY_vgES-",
      "execution_count": null,
      "outputs": [
        {
          "output_type": "stream",
          "name": "stdout",
          "text": [
            "6111\n"
          ]
        }
      ]
    },
    {
      "cell_type": "markdown",
      "source": [
        "#### **Division**"
      ],
      "metadata": {
        "id": "qSbkxIB_fkhc"
      },
      "id": "qSbkxIB_fkhc"
    },
    {
      "cell_type": "code",
      "source": [
        "a= 76\n",
        "b= 31\n",
        "Div = a / b\n",
        "print( Div)\n"
      ],
      "metadata": {
        "colab": {
          "base_uri": "https://localhost:8080/"
        },
        "id": "qiSqNTpugTBu",
        "outputId": "b126947d-1d0e-46c1-bf68-446b140ed9ed"
      },
      "id": "qiSqNTpugTBu",
      "execution_count": null,
      "outputs": [
        {
          "output_type": "stream",
          "name": "stdout",
          "text": [
            "2.4516129032258065\n"
          ]
        }
      ]
    },
    {
      "cell_type": "markdown",
      "source": [
        "### **Floor division**"
      ],
      "metadata": {
        "id": "nD2Q8DXxgStq"
      },
      "id": "nD2Q8DXxgStq"
    },
    {
      "cell_type": "code",
      "source": [
        "a= 76\n",
        "b= 31\n",
        "Div = a // b\n",
        "print( Div)"
      ],
      "metadata": {
        "colab": {
          "base_uri": "https://localhost:8080/"
        },
        "id": "XGBf2waKgdMZ",
        "outputId": "4df21e46-bbad-4a69-a8d8-1d3450f12680"
      },
      "id": "XGBf2waKgdMZ",
      "execution_count": null,
      "outputs": [
        {
          "output_type": "stream",
          "name": "stdout",
          "text": [
            "2\n"
          ]
        }
      ]
    },
    {
      "cell_type": "markdown",
      "source": [
        "####  **Modulo**"
      ],
      "metadata": {
        "id": "2mRY9meXgQiW"
      },
      "id": "2mRY9meXgQiW"
    },
    {
      "cell_type": "code",
      "source": [
        "a= 76\n",
        "b= 31\n",
        "Div = a % b\n",
        "print( Div)"
      ],
      "metadata": {
        "colab": {
          "base_uri": "https://localhost:8080/"
        },
        "id": "eUz473Kbgm1x",
        "outputId": "687c080e-be4d-49ee-b6c0-b398e5d6c38c"
      },
      "id": "eUz473Kbgm1x",
      "execution_count": null,
      "outputs": [
        {
          "output_type": "stream",
          "name": "stdout",
          "text": [
            "14\n"
          ]
        }
      ]
    },
    {
      "cell_type": "markdown",
      "source": [
        "####  **Power**"
      ],
      "metadata": {
        "id": "BWWee3IKfkfW"
      },
      "id": "BWWee3IKfkfW"
    },
    {
      "cell_type": "code",
      "source": [
        "a= 4\n",
        "b= 4\n",
        "Div = a ** b\n",
        "print( Div)"
      ],
      "metadata": {
        "colab": {
          "base_uri": "https://localhost:8080/"
        },
        "id": "nbcqBIvggrr9",
        "outputId": "ce6a96fe-028b-4e1a-9c8d-644606a61f46"
      },
      "id": "nbcqBIvggrr9",
      "execution_count": null,
      "outputs": [
        {
          "output_type": "stream",
          "name": "stdout",
          "text": [
            "256\n"
          ]
        }
      ]
    },
    {
      "cell_type": "markdown",
      "source": [],
      "metadata": {
        "id": "nA8UXl8JfkPG"
      },
      "id": "nA8UXl8JfkPG"
    }
  ],
  "metadata": {
    "language_info": {
      "name": "python"
    },
    "colab": {
      "provenance": [],
      "include_colab_link": true
    },
    "kernelspec": {
      "name": "python3",
      "display_name": "Python 3"
    }
  },
  "nbformat": 4,
  "nbformat_minor": 5
}