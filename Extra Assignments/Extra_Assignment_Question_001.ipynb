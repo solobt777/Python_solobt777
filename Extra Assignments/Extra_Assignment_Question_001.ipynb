{
  "cells": [
    {
      "cell_type": "markdown",
      "id": "63594e80",
      "metadata": {
        "colab_type": "text",
        "id": "view-in-github"
      },
      "source": [
        "<a href=\"https://colab.research.google.com/github/solobt777/Python_solobt777/blob/main/Extra%20Assignments/Extra_Assignment_Question_001.ipynb\" target=\"_parent\"><img src=\"https://colab.research.google.com/assets/colab-badge.svg\" alt=\"Open In Colab\"/></a>"
      ]
    },
    {
      "cell_type": "markdown",
      "id": "pYfkCFBxfLfg",
      "metadata": {
        "id": "pYfkCFBxfLfg"
      },
      "source": [
        "#### **print Statement**"
      ]
    },
    {
      "cell_type": "code",
      "execution_count": 1,
      "id": "U3kO6eWRfR9K",
      "metadata": {
        "colab": {
          "base_uri": "https://localhost:8080/"
        },
        "id": "U3kO6eWRfR9K",
        "outputId": "7e1777a3-ac9d-485d-8fa4-9bc5eeb2f87a"
      },
      "id": "U3kO6eWRfR9K",
      "execution_count": null,
      "outputs": [
        {
          "name": "stdout",
          "output_type": "stream",
          "text": [
            "Hope AI!\n"
          ]
        }
      ],
      "source": [
        "print(\"Hope AI!\")"
      ]
    },
    {
      "cell_type": "markdown",
      "id": "b9GkTFg5fdMi",
      "metadata": {
        "id": "b9GkTFg5fdMi"
      },
      "source": [
        "#### **By input - Enter your institute name? : HOPE AI**"
      ]
    },
    {
      "cell_type": "code",
      "execution_count": 2,
      "id": "mffyh23nfcyd",
      "metadata": {
        "colab": {
          "base_uri": "https://localhost:8080/"
        },
        "id": "mffyh23nfcyd",
        "outputId": "31792b2e-4fce-4577-b74b-b9fa4f4c3dda"
      },
      "id": "mffyh23nfcyd",
      "execution_count": null,
      "outputs": [
        {
          "name": "stdout",
          "output_type": "stream",
          "text": [
            "Enter your institute name? : Mckesson Health care\n"
          ]
        }
      ],
      "source": [
        "institute_name = input(\"Enter your institute name? : \")"
      ]
    },
    {
      "cell_type": "markdown",
      "id": "RSi-CE_Hfkok",
      "metadata": {
        "id": "RSi-CE_Hfkok"
      },
      "source": [
        "####  **Addition** add 2 numbers"
      ]
    },
    {
      "cell_type": "code",
      "execution_count": 4,
      "id": "8MR-NArSfr0z",
      "metadata": {
        "colab": {
          "base_uri": "https://localhost:8080/"
        },
        "id": "8MR-NArSfr0z",
        "outputId": "ddb2e990-eee0-474f-deb4-c9c0f64637d7"
      },
      "id": "8MR-NArSfr0z",
      "execution_count": null,
      "outputs": [
        {
          "name": "stdout",
          "output_type": "stream",
          "text": [
            "77\n"
          ]
        }
      ],
      "source": [
        "a= 43\n",
        "b= 34\n",
        "add = a + b\n",
        "print(add)"
      ]
    },
    {
      "cell_type": "markdown",
      "id": "ocvLoDGWfkmI",
      "metadata": {
        "id": "ocvLoDGWfkmI"
      },
      "source": [
        "#### **Subtraction two number**"
      ]
    },
    {
      "cell_type": "code",
      "execution_count": 5,
      "id": "jW_5YLSpf0VI",
      "metadata": {
        "colab": {
          "base_uri": "https://localhost:8080/"
        },
        "id": "jW_5YLSpf0VI",
        "outputId": "d73efdd2-b7b4-4125-bd3c-03b2ce94667e"
      },
      "id": "jW_5YLSpf0VI",
      "execution_count": null,
      "outputs": [
        {
          "name": "stdout",
          "output_type": "stream",
          "text": [
            "9\n"
          ]
        }
      ],
      "source": [
        "a= 43\n",
        "b= 34\n",
        "add = a - b\n",
        "print(add)\n"
      ]
    },
    {
      "cell_type": "markdown",
      "id": "3QSSe1vtfkj1",
      "metadata": {
        "id": "3QSSe1vtfkj1"
      },
      "source": [
        "#### **Multiplication two numbers**"
      ]
    },
    {
      "cell_type": "code",
      "execution_count": 6,
      "id": "UtLlYY_vgES-",
      "metadata": {
        "colab": {
          "base_uri": "https://localhost:8080/"
        },
        "id": "UtLlYY_vgES-",
        "outputId": "5789d192-5116-4727-8717-083cf7c14fac"
      },
      "id": "UtLlYY_vgES-",
      "execution_count": null,
      "outputs": [
        {
          "name": "stdout",
          "output_type": "stream",
          "text": [
            "6111\n"
          ]
        }
      ],
      "source": [
        "a= 63\n",
        "b= 97\n",
        "Mul = a * b\n",
        "print(Mul)"
      ]
    },
    {
      "cell_type": "markdown",
      "id": "qSbkxIB_fkhc",
      "metadata": {
        "id": "qSbkxIB_fkhc"
      },
      "source": [
        "#### **Division**"
      ]
    },
    {
      "cell_type": "code",
      "execution_count": 9,
      "id": "qiSqNTpugTBu",
      "metadata": {
        "colab": {
          "base_uri": "https://localhost:8080/"
        },
        "id": "qiSqNTpugTBu",
        "outputId": "b126947d-1d0e-46c1-bf68-446b140ed9ed"
      },
      "id": "qiSqNTpugTBu",
      "execution_count": null,
      "outputs": [
        {
          "name": "stdout",
          "output_type": "stream",
          "text": [
            "2.4516129032258065\n"
          ]
        }
      ],
      "source": [
        "a= 76\n",
        "b= 31\n",
        "Div = a / b\n",
        "print( Div)\n"
      ]
    },
    {
      "cell_type": "markdown",
      "id": "nD2Q8DXxgStq",
      "metadata": {
        "id": "nD2Q8DXxgStq"
      },
      "source": [
        "### **Floor division**"
      ]
    },
    {
      "cell_type": "code",
      "execution_count": 10,
      "id": "XGBf2waKgdMZ",
      "metadata": {
        "colab": {
          "base_uri": "https://localhost:8080/"
        },
        "id": "XGBf2waKgdMZ",
        "outputId": "4df21e46-bbad-4a69-a8d8-1d3450f12680"
      },
      "id": "XGBf2waKgdMZ",
      "execution_count": null,
      "outputs": [
        {
          "name": "stdout",
          "output_type": "stream",
          "text": [
            "2\n"
          ]
        }
      ],
      "source": [
        "a= 76\n",
        "b= 31\n",
        "Div = a // b\n",
        "print( Div)"
      ]
    },
    {
      "cell_type": "markdown",
      "id": "2mRY9meXgQiW",
      "metadata": {
        "id": "2mRY9meXgQiW"
      },
      "source": [
        "####  **Modulo**"
      ]
    },
    {
      "cell_type": "code",
      "execution_count": 11,
      "id": "eUz473Kbgm1x",
      "metadata": {
        "colab": {
          "base_uri": "https://localhost:8080/"
        },
        "id": "eUz473Kbgm1x",
        "outputId": "687c080e-be4d-49ee-b6c0-b398e5d6c38c"
      },
      "id": "eUz473Kbgm1x",
      "execution_count": null,
      "outputs": [
        {
          "name": "stdout",
          "output_type": "stream",
          "text": [
            "14\n"
          ]
        }
      ],
      "source": [
        "a= 76\n",
        "b= 31\n",
        "Div = a % b\n",
        "print( Div)"
      ]
    },
    {
      "cell_type": "markdown",
      "id": "BWWee3IKfkfW",
      "metadata": {
        "id": "BWWee3IKfkfW"
      },
      "source": [
        "####  **Power**"
      ]
    },
    {
      "cell_type": "code",
      "execution_count": 12,
      "id": "nbcqBIvggrr9",
      "metadata": {
        "colab": {
          "base_uri": "https://localhost:8080/"
        },
        "id": "nbcqBIvggrr9",
        "outputId": "ce6a96fe-028b-4e1a-9c8d-644606a61f46"
      },
      "id": "nbcqBIvggrr9",
      "execution_count": null,
      "outputs": [
        {
          "name": "stdout",
          "output_type": "stream",
          "text": [
            "256\n"
          ]
        }
      ],
      "source": [
        "a= 4\n",
        "b= 4\n",
        "Div = a ** b\n",
        "print( Div)"
      ]
    },
    {
      "cell_type": "markdown",
      "id": "nA8UXl8JfkPG",
      "metadata": {
        "id": "nA8UXl8JfkPG"
      },
      "source": []
    }
  ],
  "metadata": {
    "colab": {
      "include_colab_link": true,
      "provenance": []
    },
    "kernelspec": {
      "display_name": "Python 3",
      "name": "python3"
    },
    "language_info": {
      "name": "python"
    }
  },
  "nbformat": 4,
  "nbformat_minor": 5
}
