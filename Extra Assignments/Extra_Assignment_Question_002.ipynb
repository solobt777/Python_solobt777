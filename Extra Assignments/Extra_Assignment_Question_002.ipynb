{
 "cells": [
  {
   "cell_type": "markdown",
   "id": "56cbb7f8",
   "metadata": {},
   "source": [
    "#### extra assignment 2"
   ]
  }
 ],
 "metadata": {
  "language_info": {
   "name": "python"
  }
 },
 "nbformat": 4,
 "nbformat_minor": 5
}
