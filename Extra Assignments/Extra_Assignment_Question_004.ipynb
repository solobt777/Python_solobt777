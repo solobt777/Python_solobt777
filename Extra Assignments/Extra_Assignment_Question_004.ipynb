{
  "cells": [
    {
      "cell_type": "markdown",
      "metadata": {
        "id": "view-in-github",
        "colab_type": "text"
      },
      "source": [
        "<a href=\"https://colab.research.google.com/github/solobt777/Python_solobt777/blob/main/Extra%20Assignments/Extra_Assignment_Question_004.ipynb\" target=\"_parent\"><img src=\"https://colab.research.google.com/assets/colab-badge.svg\" alt=\"Open In Colab\"/></a>"
      ]
    },
    {
      "cell_type": "markdown",
      "id": "2e75be22",
      "metadata": {
        "id": "2e75be22"
      },
      "source": [
        "#### **Create a class and function, and list out the items in the list**"
      ]
    },
    {
      "cell_type": "code",
      "source": [
        "## # Create a class and function, and list out the items in the list\n",
        "#Sub-fields in AI are:\n",
        "aiDomains = [\"Machine Learning\",\"Neural Networks\",\"Vision\",\"Robotics\",\"Speech Processing\",\"Natural Language Processing\"]\n",
        "class AIDomains:\n",
        "    def __init__(self):\n",
        "      pass\n",
        "    def subFields(self):\n",
        "        print(\"Sub-fields in AI are:\")\n",
        "        for i in aiDomains:\n",
        "            print(i)\n",
        "AIDomains().subFields()"
      ],
      "metadata": {
        "colab": {
          "base_uri": "https://localhost:8080/"
        },
        "id": "HFN8UOFfbIwK",
        "outputId": "158b6cc4-10e9-4676-c60c-5a76e09ffa9b"
      },
      "id": "HFN8UOFfbIwK",
      "execution_count": null,
      "outputs": [
        {
          "output_type": "stream",
          "name": "stdout",
          "text": [
            "Sub-fields in AI are:\n",
            "Machine Learning\n",
            "Neural Networks\n",
            "Vision\n",
            "Robotics\n",
            "Speech Processing\n",
            "Natural Language Processing\n"
          ]
        }
      ]
    },
    {
      "cell_type": "markdown",
      "source": [
        "#### **Create a function that checks whether the given number is Odd or Even**"
      ],
      "metadata": {
        "id": "8jIOwj3ycAq6"
      },
      "id": "8jIOwj3ycAq6"
    },
    {
      "cell_type": "code",
      "source": [
        "## # Create a function that checks whether the given number is Odd or Even\n",
        "class OddEven:\n",
        "    def __init__(self):\n",
        "      pass\n",
        "    def oddEven(self):\n",
        "        num = int(input(\"Enter a number: \"))\n",
        "        if (num % 2) == 0:\n",
        "            print(num, \"is Even number\")\n",
        "        else:\n",
        "            print(num, \"is Odd number\")\n",
        "OddEven().oddEven()\n"
      ],
      "metadata": {
        "colab": {
          "base_uri": "https://localhost:8080/"
        },
        "id": "x3WTwfvtcCmn",
        "outputId": "bb0e5f54-e0c0-4497-b120-b6581ae7aa8c"
      },
      "id": "x3WTwfvtcCmn",
      "execution_count": null,
      "outputs": [
        {
          "output_type": "stream",
          "name": "stdout",
          "text": [
            "Enter a number: 2\n",
            "2 is Even number\n"
          ]
        }
      ]
    },
    {
      "cell_type": "markdown",
      "source": [
        "#### **Create a function that tells elegibility of marriage for male and female according to the age limit like 21 for male and 18 for female**"
      ],
      "metadata": {
        "id": "KKm4q92QcPI_"
      },
      "id": "KKm4q92QcPI_"
    },
    {
      "cell_type": "code",
      "source": [
        "## Create a function that tells elegibility of marriage for male and female according to the age limit like 21 for male and 18 for female\n",
        "class EligibilityForMarriage:\n",
        "    def __init__(self):\n",
        "      pass\n",
        "    def eligible(self):\n",
        "        gender = input(\"Your Gender: \")\n",
        "        age = int(input(\"Your Age: \"))\n",
        "        if gender == \"male\":\n",
        "            if age >= 21:\n",
        "                 print(gender, \" age: \", age, \" ELIGIBLE\")\n",
        "            else:\n",
        "                print(gender, \" age: \", age, \" NOT ELIGIBLE\")\n",
        "\n",
        "        elif gender == \"female\":\n",
        "            if age >= 18:\n",
        "                print(gender, \" age: \", age, \" ELIGIBLE\")\n",
        "            else:\n",
        "                print(gender, \" age: \", age, \" NOT ELIGIBLE\")\n",
        "        else:\n",
        "            print(\"Invalid Input\")\n",
        "\n",
        "\n",
        "EligibilityForMarriage().eligible()"
      ],
      "metadata": {
        "colab": {
          "base_uri": "https://localhost:8080/"
        },
        "id": "OhSICw6YcU_z",
        "outputId": "6d33fb04-7d85-4159-eca7-d87a681e1c32"
      },
      "id": "OhSICw6YcU_z",
      "execution_count": null,
      "outputs": [
        {
          "output_type": "stream",
          "name": "stdout",
          "text": [
            "Your Gender: male\n",
            "Your Age: 19\n",
            "male  age:  19  NOT ELIGIBLE\n"
          ]
        }
      ]
    },
    {
      "cell_type": "markdown",
      "source": [
        "#### **calculate the percentage of your 10th mark**"
      ],
      "metadata": {
        "id": "E5fCRt-kdmoP"
      },
      "id": "E5fCRt-kdmoP"
    },
    {
      "cell_type": "code",
      "source": [
        "## calculate the percentage of your 10th mark\n",
        "class FindPercent:\n",
        "    def __init__(self):\n",
        "      pass\n",
        "    def percentage(self):\n",
        "        sub1 = int(input(\"Math marks: \"))\n",
        "        sub2 = int(input(\"Physics marks: \"))\n",
        "        sub3 = int(input(\"Chemistry marks: \"))\n",
        "        sub4 = int(input(\"Biology marks: \"))\n",
        "        sub5 = int(input(\"English marks: \"))\n",
        "        total = sub1 + sub2 + sub3 + sub4 + sub5\n",
        "        print(\"Total: \", total)\n",
        "        percentage = (total / 500) * 100\n",
        "        print(\"Percentage: \", percentage)\n",
        "        if percentage >= 90:\n",
        "            print(\"Grade: A\")\n",
        "        elif percentage >= 80:\n",
        "            print(\"Grade: B\")\n",
        "        elif percentage >= 70:\n",
        "            print(\"Grade: C\")\n",
        "        elif percentage >= 60:\n",
        "            print(\"Grade: D\")\n",
        "\n",
        "FindPercent().percentage()\n"
      ],
      "metadata": {
        "id": "87Hwdk41dowH",
        "outputId": "8eb51ba9-0be6-4e00-821d-26e086d1a22e",
        "colab": {
          "base_uri": "https://localhost:8080/"
        }
      },
      "id": "87Hwdk41dowH",
      "execution_count": null,
      "outputs": [
        {
          "output_type": "stream",
          "name": "stdout",
          "text": [
            "Math marks: 90\n",
            "Physics marks: 91\n",
            "Chemistry marks: 95\n",
            "Biology marks: 99\n",
            "English marks: 98\n",
            "Total:  473\n",
            "Percentage:  94.6\n",
            "Grade: A\n"
          ]
        }
      ]
    },
    {
      "cell_type": "markdown",
      "source": [
        "#### **print area and perimeter of triangle using class and functions**"
      ],
      "metadata": {
        "id": "ep1tyTlCeSMS"
      },
      "id": "ep1tyTlCeSMS"
    },
    {
      "cell_type": "code",
      "source": [
        "## #print area and perimeter of triangle using class and functions\n",
        "class triangle:\n",
        "    def __init__(self):\n",
        "      pass\n",
        "    def areaofatriangle():\n",
        "        height = int(input(\"Height: \"))\n",
        "        breadth = int(input(\"Breadth: \"))\n",
        "        area = (height * breadth) / 2\n",
        "        print(\"Height: \", height)\n",
        "        print(\"Breadth: \", breadth)\n",
        "        print(\"Area of triangle: \", area)\n",
        "        print(\"Perimeter formula: \", height + breadth + area)\n",
        "\n",
        "        height = int(input(\"Height1: \"))\n",
        "        height2 = int(input(\"Height2: \"))\n",
        "        breadth = int(input(\"Breadth: \"))\n",
        "        perimeter = height + height2 + breadth\n",
        "        print(\"Height1: \", height)\n",
        "        print(\"Height2: \", height2)\n",
        "        print(\"Breadth: \", breadth)\n",
        "        print(\"Perimeter of Triangle: \", perimeter)\n",
        "\n",
        "triangle.areaofatriangle()\n",
        "\n",
        "\n",
        "\n"
      ],
      "metadata": {
        "id": "a_9H7BNAeUWX",
        "outputId": "9bf4118b-1fdd-4436-d511-380548878e4a",
        "colab": {
          "base_uri": "https://localhost:8080/"
        }
      },
      "id": "a_9H7BNAeUWX",
      "execution_count": null,
      "outputs": [
        {
          "output_type": "stream",
          "name": "stdout",
          "text": [
            "Height: 20\n",
            "Breadth: 30\n",
            "Height:  20\n",
            "Breadth:  30\n",
            "Area of triangle:  300.0\n",
            "Perimeter formula:  350.0\n",
            "Height1: 20\n",
            "Height2: 20\n",
            "Breadth: 45\n",
            "Height1:  20\n",
            "Height2:  20\n",
            "Breadth:  45\n",
            "Perimeter of Triangle:  85\n"
          ]
        }
      ]
    },
    {
      "cell_type": "code",
      "source": [
        "# A concise way to create lists using a single line of code with an expression and a loop\n",
        "mylist = [n for n in range(5)]\n",
        "print(mylist)"
      ],
      "metadata": {
        "colab": {
          "base_uri": "https://localhost:8080/"
        },
        "id": "2nQOs9slBG14",
        "outputId": "dc2dec2d-d8f5-4149-98fd-13a9a5284394"
      },
      "id": "2nQOs9slBG14",
      "execution_count": 2,
      "outputs": [
        {
          "output_type": "stream",
          "name": "stdout",
          "text": [
            "[0, 1, 2, 3, 4]\n"
          ]
        }
      ]
    }
  ],
  "metadata": {
    "language_info": {
      "name": "python"
    },
    "colab": {
      "provenance": [],
      "include_colab_link": true
    },
    "kernelspec": {
      "name": "python3",
      "display_name": "Python 3"
    }
  },
  "nbformat": 4,
  "nbformat_minor": 5
}