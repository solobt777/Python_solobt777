{
  "cells": [
    {
      "cell_type": "markdown",
      "metadata": {
        "id": "view-in-github",
        "colab_type": "text"
      },
      "source": [
        "<a href=\"https://colab.research.google.com/github/solobt777/Python_solobt777/blob/main/Extra%20Assignments/Extra_Assignment_Question_004.ipynb\" target=\"_parent\"><img src=\"https://colab.research.google.com/assets/colab-badge.svg\" alt=\"Open In Colab\"/></a>"
      ]
    },
    {
      "cell_type": "markdown",
      "id": "2e75be22",
      "metadata": {
        "id": "2e75be22"
      },
      "source": [
        "#### **Create a class and function, and list out the items in the list**"
      ]
    },
    {
      "cell_type": "code",
      "source": [
        "## # Create a class and function, and list out the items in the list\n",
        "#Sub-fields in AI are:\n",
        "aiDomains = [\"Machine Learning\",\"Neural Networks\",\"Vision\",\"Robotics\",\"Speech Processing\",\"Natural Language Processing\"]\n",
        "class AIDomains:\n",
        "    def __init__(self):\n",
        "      pass\n",
        "    def subFields(self):\n",
        "        print(\"Sub-fields in AI are:\")\n",
        "        for i in aiDomains:\n",
        "            print(i)\n",
        "AIDomains().subFields()"
      ],
      "metadata": {
        "colab": {
          "base_uri": "https://localhost:8080/"
        },
        "id": "HFN8UOFfbIwK",
        "outputId": "158b6cc4-10e9-4676-c60c-5a76e09ffa9b"
      },
      "id": "HFN8UOFfbIwK",
      "execution_count": 6,
      "outputs": [
        {
          "output_type": "stream",
          "name": "stdout",
          "text": [
            "Sub-fields in AI are:\n",
            "Machine Learning\n",
            "Neural Networks\n",
            "Vision\n",
            "Robotics\n",
            "Speech Processing\n",
            "Natural Language Processing\n"
          ]
        }
      ]
    },
    {
      "cell_type": "markdown",
      "source": [
        "#### **Create a function that checks whether the given number is Odd or Even**"
      ],
      "metadata": {
        "id": "8jIOwj3ycAq6"
      },
      "id": "8jIOwj3ycAq6"
    },
    {
      "cell_type": "code",
      "source": [
        "## # Create a function that checks whether the given number is Odd or Even\n",
        "class OddEven:\n",
        "    def __init__(self):\n",
        "      pass\n",
        "    def oddEven(self):\n",
        "        num = int(input(\"Enter a number: \"))\n",
        "        if (num % 2) == 0:\n",
        "            print(num, \"is Even number\")\n",
        "        else:\n",
        "            print(num, \"is Odd number\")\n",
        "OddEven().oddEven()\n"
      ],
      "metadata": {
        "colab": {
          "base_uri": "https://localhost:8080/"
        },
        "id": "x3WTwfvtcCmn",
        "outputId": "bb0e5f54-e0c0-4497-b120-b6581ae7aa8c"
      },
      "id": "x3WTwfvtcCmn",
      "execution_count": 7,
      "outputs": [
        {
          "output_type": "stream",
          "name": "stdout",
          "text": [
            "Enter a number: 2\n",
            "2 is Even number\n"
          ]
        }
      ]
    },
    {
      "cell_type": "markdown",
      "source": [
        "#### **Create a function that tells elegibility of marriage for male and female according to the age limit like 21 for male and 18 for female**"
      ],
      "metadata": {
        "id": "KKm4q92QcPI_"
      },
      "id": "KKm4q92QcPI_"
    },
    {
      "cell_type": "code",
      "source": [
        "## Create a function that tells elegibility of marriage for male and female according to the age limit like 21 for male and 18 for female\n",
        "class EligibilityForMarriage:\n",
        "    def __init__(self):\n",
        "      pass\n",
        "    def eligible(self):\n",
        "        gender = input(\"Your Gender: \")\n",
        "        age = int(input(\"Your Age: \"))\n",
        "        if gender == \"male\":\n",
        "            if age >= 21:\n",
        "                 print(gender, \" age: \", age, \" ELIGIBLE\")\n",
        "            else:\n",
        "                print(gender, \" age: \", age, \" NOT ELIGIBLE\")\n",
        "\n",
        "        elif gender == \"female\":\n",
        "            if age >= 18:\n",
        "                print(gender, \" age: \", age, \" ELIGIBLE\")\n",
        "            else:\n",
        "                print(gender, \" age: \", age, \" NOT ELIGIBLE\")\n",
        "        else:\n",
        "            print(\"Invalid Input\")\n",
        "\n",
        "\n",
        "EligibilityForMarriage().eligible()"
      ],
      "metadata": {
        "colab": {
          "base_uri": "https://localhost:8080/"
        },
        "id": "OhSICw6YcU_z",
        "outputId": "8f32e785-dce1-4b65-895a-5cb3422e8fac"
      },
      "id": "OhSICw6YcU_z",
      "execution_count": 20,
      "outputs": [
        {
          "output_type": "stream",
          "name": "stdout",
          "text": [
            "Your Gender: male\n",
            "Your Age: 27\n",
            "male  age:  27  NOT ELIGIBLE\n"
          ]
        }
      ]
    }
  ],
  "metadata": {
    "language_info": {
      "name": "python"
    },
    "colab": {
      "provenance": [],
      "include_colab_link": true
    },
    "kernelspec": {
      "name": "python3",
      "display_name": "Python 3"
    }
  },
  "nbformat": 4,
  "nbformat_minor": 5
}