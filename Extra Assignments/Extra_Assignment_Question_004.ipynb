{
  "cells": [
    {
      "cell_type": "markdown",
      "id": "3843f589",
      "metadata": {
        "colab_type": "text",
        "id": "view-in-github"
      },
      "source": [
        "<a href=\"https://colab.research.google.com/github/solobt777/Python_solobt777/blob/main/Extra%20Assignments/Extra_Assignment_Question_003.ipynb\" target=\"_parent\"><img src=\"https://colab.research.google.com/assets/colab-badge.svg\" alt=\"Open In Colab\"/></a>"
      ]
    },
    {
      "cell_type": "markdown",
      "id": "56cbb7f8",
      "metadata": {
        "id": "56cbb7f8"
      },
      "source": [
        "#### **# print 'CORRECT' if i == 10**"
      ]
    },
    {
      "cell_type": "code",
      "execution_count": 4,
      "id": "ezlUtK66X7vh",
      "metadata": {
        "colab": {
          "base_uri": "https://localhost:8080/"
        },
        "id": "ezlUtK66X7vh",
        "outputId": "494db28d-3df8-41d2-e073-b3b200ce9345"
      },
      "outputs": [
        {
          "name": "stdout",
          "output_type": "stream",
          "text": [
            "10  CORRECT\n"
          ]
        }
      ],
      "source": [
        "## print 'CORRECT' if i == 10\n",
        "for i in range(1,11):\n",
        "    if i == 10:\n",
        "        print(i,' CORRECT')"
      ]
    },
    {
      "cell_type": "markdown",
      "id": "cSH6CG4RYNeY",
      "metadata": {
        "id": "cSH6CG4RYNeY"
      },
      "source": [
        "####  **Check the password, using if and else**"
      ]
    },
    {
      "cell_type": "code",
      "execution_count": 5,
      "id": "_SaeFotEYQI5",
      "metadata": {
        "colab": {
          "base_uri": "https://localhost:8080/"
        },
        "id": "_SaeFotEYQI5",
        "outputId": "e8ccfc60-54af-4a4c-d384-b4a347aeb2b4"
      },
      "outputs": [
        {
          "name": "stdout",
          "output_type": "stream",
          "text": [
            "Your password is correct\n"
          ]
        }
      ],
      "source": [
        "## Check the password, using if and else\n",
        "password = 'HOPE@123'\n",
        "if password == 'HOPE@123':\n",
        "    print('Your password is correct')\n",
        "else:\n",
        "    print('In Correct Password entered')"
      ]
    },
    {
      "cell_type": "markdown",
      "id": "8cNTa7qWYiYB",
      "metadata": {
        "id": "8cNTa7qWYiYB"
      },
      "source": [
        "#### **Catagory the people by their age like children, adult, citizen, senior citizen...**"
      ]
    },
    {
      "cell_type": "code",
      "execution_count": 6,
      "id": "lNs_0fF7Yk_z",
      "metadata": {
        "colab": {
          "base_uri": "https://localhost:8080/"
        },
        "id": "lNs_0fF7Yk_z",
        "outputId": "d112106b-bd96-4a14-f5ee-153c9805e000"
      },
      "outputs": [
        {
          "name": "stdout",
          "output_type": "stream",
          "text": [
            "Enter your age: 19\n",
            "Adult\n"
          ]
        }
      ],
      "source": [
        "## # Catagory the people by their age like children, adult, citizen, senior citizen...\n",
        "age = int(input('Enter your age: '))\n",
        "if age < 18:\n",
        "    print('Children')\n",
        "elif age < 35:\n",
        "    print('Adult')\n",
        "elif age < 59:\n",
        "    print('Citizen')\n",
        "else:\n",
        "    print('Senior Citizen')"
      ]
    },
    {
      "cell_type": "code",
      "execution_count": 7,
      "id": "aWYi5EX3Y3ft",
      "metadata": {
        "colab": {
          "base_uri": "https://localhost:8080/"
        },
        "id": "aWYi5EX3Y3ft",
        "outputId": "14156ff9-e383-4d2d-c3bc-22cb58214ac2"
      },
      "outputs": [
        {
          "name": "stdout",
          "output_type": "stream",
          "text": [
            "Children\n",
            "Adult\n",
            "Citizen\n",
            "Senior Citizen\n"
          ]
        }
      ],
      "source": [
        "age = [17,34,58,70]\n",
        "for i in age:\n",
        "    if i < 18:\n",
        "        print('Children')\n",
        "    elif i < 35:\n",
        "        print('Adult')\n",
        "    elif i < 59:\n",
        "        print('Citizen')\n",
        "    else:\n",
        "        print('Senior Citizen')\n"
      ]
    },
    {
      "cell_type": "markdown",
      "id": "kj6deNghZGIP",
      "metadata": {
        "id": "kj6deNghZGIP"
      },
      "source": [
        "####  **Find whether given number is positive or negative**"
      ]
    },
    {
      "cell_type": "code",
      "execution_count": 9,
      "id": "0n6NDqU9ZKqS",
      "metadata": {
        "colab": {
          "base_uri": "https://localhost:8080/"
        },
        "id": "0n6NDqU9ZKqS",
        "outputId": "d25c026b-fe13-44d7-aeb2-01d439d89623"
      },
      "outputs": [
        {
          "name": "stdout",
          "output_type": "stream",
          "text": [
            "Enter any number: -100\n",
            "Number is negative\n"
          ]
        }
      ],
      "source": [
        "## # Find whether given number is positive or negative\n",
        "num = int(input('Enter any number: '))\n",
        "if num > 0:\n",
        "    print('Number is positive')\n",
        "else:\n",
        "    print('Number is negative')"
      ]
    },
    {
      "cell_type": "markdown",
      "id": "neNK091WZRMr",
      "metadata": {
        "id": "neNK091WZRMr"
      },
      "source": [
        "####  **Check whether the given number is divisible by 5**"
      ]
    },
    {
      "cell_type": "code",
      "execution_count": 11,
      "id": "1clwAtv_ZT5e",
      "metadata": {
        "colab": {
          "base_uri": "https://localhost:8080/"
        },
        "id": "1clwAtv_ZT5e",
        "outputId": "97a1212f-9d79-436a-c813-3da9a3bb596d"
      },
      "outputs": [
        {
          "name": "stdout",
          "output_type": "stream",
          "text": [
            "Enter a number to check: 19\n",
            "Number is not divisible by 5\n"
          ]
        }
      ],
      "source": [
        "## # Check whether the given number is divisible by 5\n",
        "num = int(input('Enter a number to check: '))\n",
        "if num % 5 == 0:\n",
        "    print('Number is divisible by 5')\n",
        "else:\n",
        "    print('Number is not divisible by 5')"
      ]
    }
  ],
  "metadata": {
    "colab": {
      "include_colab_link": true,
      "provenance": []
    },
    "kernelspec": {
      "display_name": "Python 3",
      "name": "python3"
    },
    "language_info": {
      "name": "python"
    }
  },
  "nbformat": 4,
  "nbformat_minor": 5
}
