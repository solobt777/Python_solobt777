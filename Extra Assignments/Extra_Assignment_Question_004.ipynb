{
  "cells": [
    {
      "cell_type": "markdown",
      "metadata": {
        "id": "view-in-github",
        "colab_type": "text"
      },
      "source": [
        "<a href=\"https://colab.research.google.com/github/solobt777/Python_solobt777/blob/main/Extra%20Assignments/Extra_Assignment_Question_004.ipynb\" target=\"_parent\"><img src=\"https://colab.research.google.com/assets/colab-badge.svg\" alt=\"Open In Colab\"/></a>"
      ]
    },
    {
      "cell_type": "markdown",
      "id": "2e75be22",
      "metadata": {
        "id": "2e75be22"
      },
      "source": [
        "#### **Create a class and function, and list out the items in the list**"
      ]
    },
    {
      "cell_type": "code",
      "source": [
        "## # Create a class and function, and list out the items in the list\n",
        "#Sub-fields in AI are:\n",
        "aiDomains = [\"Machine Learning\",\"Neural Networks\",\"Vision\",\"Robotics\",\"Speech Processing\",\"Natural Language Processing\"]\n",
        "class AIDomains:\n",
        "    def __init__(self):\n",
        "      pass\n",
        "    def subFields(self):\n",
        "        print(\"Sub-fields in AI are:\")\n",
        "        for i in aiDomains:\n",
        "            print(i)\n",
        "AIDomains().subFields()"
      ],
      "metadata": {
        "colab": {
          "base_uri": "https://localhost:8080/"
        },
        "id": "HFN8UOFfbIwK",
        "outputId": "158b6cc4-10e9-4676-c60c-5a76e09ffa9b"
      },
      "id": "HFN8UOFfbIwK",
      "execution_count": null,
      "outputs": [
        {
          "output_type": "stream",
          "name": "stdout",
          "text": [
            "Sub-fields in AI are:\n",
            "Machine Learning\n",
            "Neural Networks\n",
            "Vision\n",
            "Robotics\n",
            "Speech Processing\n",
            "Natural Language Processing\n"
          ]
        }
      ]
    },
    {
      "cell_type": "markdown",
      "source": [
        "#### **Create a function that checks whether the given number is Odd or Even**"
      ],
      "metadata": {
        "id": "8jIOwj3ycAq6"
      },
      "id": "8jIOwj3ycAq6"
    },
    {
      "cell_type": "code",
      "source": [
        "## # Create a function that checks whether the given number is Odd or Even\n",
        "class OddEven:\n",
        "    def __init__(self):\n",
        "      pass\n",
        "    def oddEven(self):\n",
        "        num = int(input(\"Enter a number: \"))\n",
        "        if (num % 2) == 0:\n",
        "            print(num, \"is Even number\")\n",
        "        else:\n",
        "            print(num, \"is Odd number\")\n",
        "OddEven().oddEven()\n"
      ],
      "metadata": {
        "colab": {
          "base_uri": "https://localhost:8080/"
        },
        "id": "x3WTwfvtcCmn",
        "outputId": "bb0e5f54-e0c0-4497-b120-b6581ae7aa8c"
      },
      "id": "x3WTwfvtcCmn",
      "execution_count": null,
      "outputs": [
        {
          "output_type": "stream",
          "name": "stdout",
          "text": [
            "Enter a number: 2\n",
            "2 is Even number\n"
          ]
        }
      ]
    },
    {
      "cell_type": "markdown",
      "source": [
        "#### **Create a function that tells elegibility of marriage for male and female according to the age limit like 21 for male and 18 for female**"
      ],
      "metadata": {
        "id": "KKm4q92QcPI_"
      },
      "id": "KKm4q92QcPI_"
    },
    {
      "cell_type": "code",
      "source": [
        "## Create a function that tells elegibility of marriage for male and female according to the age limit like 21 for male and 18 for female\n",
        "class EligibilityForMarriage:\n",
        "    def __init__(self):\n",
        "      pass\n",
        "    def eligible(self):\n",
        "        gender = input(\"Your Gender: \")\n",
        "        age = int(input(\"Your Age: \"))\n",
        "        if gender == \"male\":\n",
        "            if age >= 21:\n",
        "                 print(gender, \" age: \", age, \" ELIGIBLE\")\n",
        "            else:\n",
        "                print(gender, \" age: \", age, \" NOT ELIGIBLE\")\n",
        "\n",
        "        elif gender == \"female\":\n",
        "            if age >= 18:\n",
        "                print(gender, \" age: \", age, \" ELIGIBLE\")\n",
        "            else:\n",
        "                print(gender, \" age: \", age, \" NOT ELIGIBLE\")\n",
        "        else:\n",
        "            print(\"Invalid Input\")\n",
        "\n",
        "\n",
        "EligibilityForMarriage().eligible()"
      ],
      "metadata": {
        "colab": {
          "base_uri": "https://localhost:8080/"
        },
        "id": "OhSICw6YcU_z",
        "outputId": "6d33fb04-7d85-4159-eca7-d87a681e1c32"
      },
      "id": "OhSICw6YcU_z",
      "execution_count": null,
      "outputs": [
        {
          "output_type": "stream",
          "name": "stdout",
          "text": [
            "Your Gender: male\n",
            "Your Age: 19\n",
            "male  age:  19  NOT ELIGIBLE\n"
          ]
        }
      ]
    },
    {
      "cell_type": "markdown",
      "source": [
        "#### **calculate the percentage of your 10th mark**"
      ],
      "metadata": {
        "id": "E5fCRt-kdmoP"
      },
      "id": "E5fCRt-kdmoP"
    },
    {
      "cell_type": "code",
      "source": [
        "## calculate the percentage of your 10th mark\n",
        "class FindPercent:\n",
        "    def __init__(self):\n",
        "      pass\n",
        "    def percentage(self):\n",
        "        sub1 = int(input(\"Math marks: \"))\n",
        "        sub2 = int(input(\"Physics marks: \"))\n",
        "        sub3 = int(input(\"Chemistry marks: \"))\n",
        "        sub4 = int(input(\"Biology marks: \"))\n",
        "        sub5 = int(input(\"English marks: \"))\n",
        "        total = sub1 + sub2 + sub3 + sub4 + sub5\n",
        "        print(\"Total: \", total)\n",
        "        percentage = (total / 500) * 100\n",
        "        print(\"Percentage: \", percentage)\n",
        "        if percentage >= 90:\n",
        "            print(\"Grade: A\")\n",
        "        elif percentage >= 80:\n",
        "            print(\"Grade: B\")\n",
        "        elif percentage >= 70:\n",
        "            print(\"Grade: C\")\n",
        "        elif percentage >= 60:\n",
        "            print(\"Grade: D\")\n",
        "\n",
        "FindPercent().percentage()\n"
      ],
      "metadata": {
        "id": "87Hwdk41dowH",
        "outputId": "8eb51ba9-0be6-4e00-821d-26e086d1a22e",
        "colab": {
          "base_uri": "https://localhost:8080/"
        }
      },
      "id": "87Hwdk41dowH",
      "execution_count": null,
      "outputs": [
        {
          "output_type": "stream",
          "name": "stdout",
          "text": [
            "Math marks: 90\n",
            "Physics marks: 91\n",
            "Chemistry marks: 95\n",
            "Biology marks: 99\n",
            "English marks: 98\n",
            "Total:  473\n",
            "Percentage:  94.6\n",
            "Grade: A\n"
          ]
        }
      ]
    },
    {
      "cell_type": "markdown",
      "source": [
        "#### **print area and perimeter of triangle using class and functions**"
      ],
      "metadata": {
        "id": "ep1tyTlCeSMS"
      },
      "id": "ep1tyTlCeSMS"
    },
    {
      "cell_type": "code",
      "source": [
        "## #print area and perimeter of triangle using class and functions\n",
        "class triangle:\n",
        "    def __init__(self):\n",
        "      pass\n",
        "    def areaofatriangle():\n",
        "        height = int(input(\"Height: \"))\n",
        "        breadth = int(input(\"Breadth: \"))\n",
        "        area = (height * breadth) / 2\n",
        "        print(\"Height: \", height)\n",
        "        print(\"Breadth: \", breadth)\n",
        "        print(\"Area of triangle: \", area)\n",
        "        print(\"Perimeter formula: \", height + breadth + area)\n",
        "\n",
        "        height = int(input(\"Height1: \"))\n",
        "        height2 = int(input(\"Height2: \"))\n",
        "        breadth = int(input(\"Breadth: \"))\n",
        "        perimeter = height + height2 + breadth\n",
        "        print(\"Height1: \", height)\n",
        "        print(\"Height2: \", height2)\n",
        "        print(\"Breadth: \", breadth)\n",
        "        print(\"Perimeter of Triangle: \", perimeter)\n",
        "\n",
        "triangle.areaofatriangle()\n",
        "\n",
        "\n",
        "\n"
      ],
      "metadata": {
        "id": "a_9H7BNAeUWX",
        "outputId": "9bf4118b-1fdd-4436-d511-380548878e4a",
        "colab": {
          "base_uri": "https://localhost:8080/"
        }
      },
      "id": "a_9H7BNAeUWX",
      "execution_count": null,
      "outputs": [
        {
          "output_type": "stream",
          "name": "stdout",
          "text": [
            "Height: 20\n",
            "Breadth: 30\n",
            "Height:  20\n",
            "Breadth:  30\n",
            "Area of triangle:  300.0\n",
            "Perimeter formula:  350.0\n",
            "Height1: 20\n",
            "Height2: 20\n",
            "Breadth: 45\n",
            "Height1:  20\n",
            "Height2:  20\n",
            "Breadth:  45\n",
            "Perimeter of Triangle:  85\n"
          ]
        }
      ]
    },
    {
      "cell_type": "code",
      "source": [
        "# A concise way to create lists using a single line of code with an expression and a loop\n",
        "mylist = [n for n in range(5)]\n",
        "print(mylist)"
      ],
      "metadata": {
        "colab": {
          "base_uri": "https://localhost:8080/"
        },
        "id": "2nQOs9slBG14",
        "outputId": "dc2dec2d-d8f5-4149-98fd-13a9a5284394"
      },
      "id": "2nQOs9slBG14",
      "execution_count": 2,
      "outputs": [
        {
          "output_type": "stream",
          "name": "stdout",
          "text": [
            "[0, 1, 2, 3, 4]\n"
          ]
        }
      ]
    },
    {
      "cell_type": "code",
      "source": [
        "##43.What are python sets? Explain some of the properties of sets.\n",
        "# Creating a set\n",
        "my_set = {1, 2, 3, 2, 4}\n",
        "print(my_set)  # Output: {1, 2, 3, 4}\n",
        "\n",
        "# Adding an element\n",
        "my_set.add(5)\n",
        "print(my_set)  # Output: {1, 2, 3, 4, 5}\n",
        "\n",
        "# Removing an element\n",
        "my_set.remove(2)\n",
        "print(my_set)  # Output: {1, 3, 4, 5}\n",
        "\n",
        "# Checking for membership\n",
        "print(3 in my_set)  # Output: True\n",
        "print(6 in my_set)  # Output: False"
      ],
      "metadata": {
        "colab": {
          "base_uri": "https://localhost:8080/"
        },
        "id": "NXwbJL1fB-bL",
        "outputId": "72a3652f-ebf0-46ae-ba22-69e843cfd911"
      },
      "id": "NXwbJL1fB-bL",
      "execution_count": 4,
      "outputs": [
        {
          "output_type": "stream",
          "name": "stdout",
          "text": [
            "{1, 2, 3, 4}\n",
            "{1, 2, 3, 4, 5}\n",
            "{1, 3, 4, 5}\n",
            "True\n",
            "False\n"
          ]
        }
      ]
    },
    {
      "cell_type": "code",
      "source": [
        "# 45.What are Mutable data types and mutable data types?\n",
        "# Creating a set\n",
        "my_set = {1, 2, 3, 2, 4}\n",
        "print(my_set)  # Output: {1, 2, 3, 4}\n",
        "\n",
        "# Adding an element\n",
        "my_set.add(5)\n",
        "print(my_set)  # Output: {1, 2, 3, 4, 5}\n",
        "\n",
        "# Removing an element\n",
        "my_set.remove(2)\n",
        "print(my_set)  # Output: {1, 3, 4, 5}\n",
        "\n",
        "# Checking for membership\n",
        "print(3 in my_set)  # Output: True\n",
        "print(6 in my_set)  # Output: False"
      ],
      "metadata": {
        "id": "5sxYGhVMCKLJ"
      },
      "id": "5sxYGhVMCKLJ",
      "execution_count": null,
      "outputs": []
    },
    {
      "cell_type": "code",
      "source": [
        "#Immutable data types\n",
        "my_string = \"hello\"\n",
        "# my_string[0] = \"H\"  # This would raise a TypeError because strings are immutable\n",
        "new_string = my_string.upper()\n",
        "print(my_string)     # Output: hello - the original string remains unchanged\n",
        "print(new_string)    # Output: HELLO - a new string was created\n"
      ],
      "metadata": {
        "colab": {
          "base_uri": "https://localhost:8080/"
        },
        "id": "nvQUwoJvCocJ",
        "outputId": "06eb4e93-9615-4d4e-8f65-3e78e391966c"
      },
      "id": "nvQUwoJvCocJ",
      "execution_count": 5,
      "outputs": [
        {
          "output_type": "stream",
          "name": "stdout",
          "text": [
            "hello\n",
            "HELLO\n"
          ]
        }
      ]
    },
    {
      "cell_type": "code",
      "source": [
        "# A system checks if a user is eligible to vote based on their age."
      ],
      "metadata": {
        "id": "gxWH-AmBf-jV"
      },
      "id": "gxWH-AmBf-jV",
      "execution_count": null,
      "outputs": []
    },
    {
      "cell_type": "code",
      "metadata": {
        "colab": {
          "base_uri": "https://localhost:8080/"
        },
        "id": "72c9f069",
        "outputId": "ce712e8f-b355-482d-a690-b86e7093e660"
      },
      "source": [
        "# A system checks if a user is eligible to vote based on their age.\n",
        "\n",
        "def check_voting_eligibility():\n",
        "  \"\"\"Checks if a user is eligible to vote based on their age.\"\"\"\n",
        "  try:\n",
        "    age = int(input(\"Please enter your age: \"))\n",
        "    voting_age = 18 # You can change this to the relevant voting age\n",
        "\n",
        "    if age >= voting_age:\n",
        "      print(\"You are eligible to vote.\")\n",
        "    else:\n",
        "      print(f\"You are not eligible to vote yet. You can vote in {voting_age - age} years.\")\n",
        "  except ValueError:\n",
        "    print(\"Invalid input. Please enter a valid age as a number.\")\n",
        "\n",
        "check_voting_eligibility()"
      ],
      "id": "72c9f069",
      "execution_count": 22,
      "outputs": [
        {
          "output_type": "stream",
          "name": "stdout",
          "text": [
            "Please enter your age: 1a\n",
            "Invalid input. Please enter a valid age as a number.\n"
          ]
        }
      ]
    },
    {
      "cell_type": "code",
      "source": [
        "## Scenario: A program processes a list of numbers and needs to find the largest value.\n",
        " ## Write logic to identify and return the largest number from a given list."
      ],
      "metadata": {
        "id": "Dz0km2FGgk_6"
      },
      "id": "Dz0km2FGgk_6",
      "execution_count": null,
      "outputs": []
    },
    {
      "cell_type": "markdown",
      "metadata": {
        "id": "08dae305"
      },
      "source": [
        "Here are two ways to find the largest number in a list:"
      ],
      "id": "08dae305"
    },
    {
      "cell_type": "code",
      "metadata": {
        "colab": {
          "base_uri": "https://localhost:8080/"
        },
        "id": "147e01c8",
        "outputId": "f8c5bab3-1733-420e-ebaf-d7f598e7389a"
      },
      "source": [
        "# Method 1: Using a loop\n",
        "def find_largest_loop(numbers):\n",
        "  \"\"\"Finds the largest number in a list using a loop.\"\"\"\n",
        "  if not numbers:\n",
        "    return None  # Handle empty list case\n",
        "\n",
        "  largest = numbers[0]\n",
        "  for number in numbers:\n",
        "    print(number,\" > \",largest)\n",
        "    if number > largest:\n",
        "      largest = number\n",
        "  return largest\n",
        "\n",
        "my_list = [10, 5, 20, 15, 25]\n",
        "largest_number = find_largest_loop(my_list)\n",
        "print(f\"The largest number using a loop is: {largest_number}\")"
      ],
      "id": "147e01c8",
      "execution_count": 19,
      "outputs": [
        {
          "output_type": "stream",
          "name": "stdout",
          "text": [
            "10  >  10\n",
            "5  >  10\n",
            "20  >  10\n",
            "15  >  20\n",
            "25  >  20\n",
            "The largest number using a loop is: 25\n"
          ]
        }
      ]
    },
    {
      "cell_type": "code",
      "metadata": {
        "colab": {
          "base_uri": "https://localhost:8080/"
        },
        "id": "12196eb0",
        "outputId": "dc02703c-a63c-47ad-958a-9bfd0d3c8404"
      },
      "source": [
        "# Method 2: Using the built-in max() function\n",
        "def find_largest_max(numbers):\n",
        "  \"\"\"Finds the largest number in a list using the max() function.\"\"\"\n",
        "  if not numbers:\n",
        "    return None  # Handle empty list case\n",
        "\n",
        "  return max(numbers)\n",
        "\n",
        "my_list = [10, 5, 20, 15, 25]\n",
        "largest_number = find_largest_max(my_list)\n",
        "print(f\"The largest number using max() is: {largest_number}\")"
      ],
      "id": "12196eb0",
      "execution_count": 20,
      "outputs": [
        {
          "output_type": "stream",
          "name": "stdout",
          "text": [
            "The largest number using max() is: 25\n"
          ]
        }
      ]
    },
    {
      "cell_type": "markdown",
      "source": [
        "## 3.Scenario: A company provides employees with a 10% bonus if their salary exceeds $50,000.\n",
        "- Write logic to determine the bonus amount based on the given salary."
      ],
      "metadata": {
        "id": "Po-r_gU4k3hc"
      },
      "id": "Po-r_gU4k3hc"
    },
    {
      "cell_type": "code",
      "metadata": {
        "colab": {
          "base_uri": "https://localhost:8080/"
        },
        "id": "0dbace4a",
        "outputId": "e1a912f2-09b7-4d74-ea86-3316cb223362"
      },
      "source": [
        "# Scenario: A company provides employees with a 10% bonus if their salary exceeds $50,000.\n",
        "# Write logic to determine the bonus amount based on the given salary.\n",
        "\n",
        "def calculate_bonus(salary):\n",
        "  \"\"\"Calculates a 10% bonus for salaries over $50,000.\"\"\"\n",
        "  bonus = 0\n",
        "  if salary > 50000:\n",
        "    bonus = salary * 0.10\n",
        "  return bonus\n",
        "\n",
        "# Example usage:\n",
        "salary1 = 60000\n",
        "bonus1 = calculate_bonus(salary1)\n",
        "print(f\"For a salary of ${salary1}, the bonus is ${bonus1}\")\n",
        "\n",
        "salary2 = 45000\n",
        "bonus2 = calculate_bonus(salary2)\n",
        "print(f\"For a salary of ${salary2}, the bonus is ${bonus2}\")"
      ],
      "id": "0dbace4a",
      "execution_count": 23,
      "outputs": [
        {
          "output_type": "stream",
          "name": "stdout",
          "text": [
            "For a salary of $60000, the bonus is $6000.0\n",
            "For a salary of $45000, the bonus is $0\n"
          ]
        }
      ]
    },
    {
      "cell_type": "markdown",
      "source": [
        "## 4.Scenario: A program evaluates a number to determine if it is even or odd.\n",
        " - Write logic to check whether a given number is even or odd."
      ],
      "metadata": {
        "id": "8gg16OwQlSxB"
      },
      "id": "8gg16OwQlSxB"
    },
    {
      "cell_type": "code",
      "metadata": {
        "colab": {
          "base_uri": "https://localhost:8080/"
        },
        "id": "eb05b32a",
        "outputId": "0e50162d-7256-4d13-f949-e5c6ee7e5741"
      },
      "source": [
        "# Scenario: A program evaluates a number to determine if it is even or odd.\n",
        "# Write logic to check whether a given number is even or odd.\n",
        "\n",
        "def check_even_or_odd(number):\n",
        "  \"\"\"Checks if a number is even or odd.\"\"\"\n",
        "  if number % 2 == 0:\n",
        "    print(f\"{number} is an even number.\")\n",
        "  else:\n",
        "    print(f\"{number} is an odd number.\")\n",
        "\n",
        "# Example usage:\n",
        "check_even_or_odd(7)\n",
        "check_even_or_odd(10)"
      ],
      "id": "eb05b32a",
      "execution_count": 28,
      "outputs": [
        {
          "output_type": "stream",
          "name": "stdout",
          "text": [
            "7 is an odd number.\n",
            "10 is an even number.\n"
          ]
        }
      ]
    },
    {
      "cell_type": "markdown",
      "source": [
        "## 5. Scenario: A text-processing tool reverses a given word or sentence for formatting purposes.\n",
        "- Write logic to take a word or sentence as input and produce its reversed version."
      ],
      "metadata": {
        "id": "mPPJ7tGPmHUS"
      },
      "id": "mPPJ7tGPmHUS"
    },
    {
      "cell_type": "code",
      "source": [
        "5. Scenario: A text-processing tool reverses a given word or sentence for formatting purposes.\n",
        " Write logic to take a word or sentence as input and produce its reversed version."
      ],
      "metadata": {
        "id": "qc401dCUmM8H"
      },
      "id": "qc401dCUmM8H",
      "execution_count": null,
      "outputs": []
    },
    {
      "cell_type": "code",
      "metadata": {
        "colab": {
          "base_uri": "https://localhost:8080/"
        },
        "id": "857106c7",
        "outputId": "dc304309-7ee7-4e3d-b652-e7dfe52050a1"
      },
      "source": [
        "# Scenario: A text-processing tool reverses a given word or sentence for formatting purposes.\n",
        "# Write logic to take a word or sentence as input and produce its reversed version.\n",
        "## first : is start of the slice second : is end of the slice - The -1 is the step value. A step of -1 means that the slicing should proceed from right to left, effectively reversing the sequence.\n",
        "def reverse_text(text):\n",
        "  \"\"\"Reverses a given word or sentence.\"\"\"\n",
        "  return text[::-1]\n",
        "\n",
        "# Example usage:\n",
        "word = \"hello\"\n",
        "reversed_word = reverse_text(word)\n",
        "print(f\"The reversed word of '{word}' is '{reversed_word}'\")\n",
        "\n",
        "sentence = \"This is a sentence\"\n",
        "reversed_sentence = reverse_text(sentence)\n",
        "print(f\"The reversed sentence of '{sentence}' is '{reversed_sentence}'\")"
      ],
      "id": "857106c7",
      "execution_count": 30,
      "outputs": [
        {
          "output_type": "stream",
          "name": "stdout",
          "text": [
            "The reversed word of 'hello' is 'olleh'\n",
            "The reversed sentence of 'This is a sentence' is 'ecnetnes a si sihT'\n"
          ]
        }
      ]
    },
    {
      "cell_type": "markdown",
      "source": [
        "## 6.Scenario: A grading system determines whether a student has passed or failed based on their score.\n",
        "- Write logic to check if a student has passed a subject by scoring at least 40 marks."
      ],
      "metadata": {
        "id": "eFl61M4BnSoQ"
      },
      "id": "eFl61M4BnSoQ"
    },
    {
      "cell_type": "code",
      "source": [
        "6.Scenario: A grading system determines whether a student has passed or failed based on their score.\n",
        " Write logic to check if a student has passed a subject by scoring at least 40 marks."
      ],
      "metadata": {
        "id": "TBVNiaVnnXiA"
      },
      "id": "TBVNiaVnnXiA",
      "execution_count": null,
      "outputs": []
    },
    {
      "cell_type": "code",
      "metadata": {
        "colab": {
          "base_uri": "https://localhost:8080/"
        },
        "id": "badeadca",
        "outputId": "e9c51763-9223-4c5e-f49e-1f943a7f5fd3"
      },
      "source": [
        "# Scenario: A grading system determines whether a student has passed or failed based on their score.\n",
        "# Write logic to check if a student has passed a subject by scoring at least 40 marks.\n",
        "\n",
        "def check_pass_fail(score):\n",
        "  \"\"\"Checks if a student has passed based on a score of at least 40.\"\"\"\n",
        "  passing_score = 40\n",
        "  if score >= passing_score:\n",
        "    print(f\"With a score of {score}, the student has Passed.\")\n",
        "  else:\n",
        "    print(f\"With a score of {score}, the student has Failed.\")\n",
        "\n",
        "# Example usage:\n",
        "check_pass_fail(55)\n",
        "check_pass_fail(38)\n",
        "check_pass_fail(40)"
      ],
      "id": "badeadca",
      "execution_count": 31,
      "outputs": [
        {
          "output_type": "stream",
          "name": "stdout",
          "text": [
            "With a score of 55, the student has Passed.\n",
            "With a score of 38, the student has Failed.\n",
            "With a score of 40, the student has Passed.\n"
          ]
        }
      ]
    },
    {
      "cell_type": "markdown",
      "source": [
        "## 7. Scenario: A retail store offers a 20% discount if a customer’s total order exceeds $100. Write logic to calculate the final amount to be paid after applying the discount."
      ],
      "metadata": {
        "id": "IM1rhDrUnn1-"
      },
      "id": "IM1rhDrUnn1-"
    },
    {
      "cell_type": "code",
      "metadata": {
        "colab": {
          "base_uri": "https://localhost:8080/"
        },
        "id": "c030dca4",
        "outputId": "a602b6f9-a697-4b02-adcc-a3c8004c8ab0"
      },
      "source": [
        "# Scenario: A retail store offers a 20% discount if a customer’s total order exceeds $100.\n",
        "# Write logic to calculate the final amount to be paid after applying the discount.\n",
        "\n",
        "def calculate_final_amount(total_amount):\n",
        "  \"\"\"Calculates the final amount after applying a 20% discount if total exceeds $100.\"\"\"\n",
        "  discount_threshold = 100\n",
        "  discount_rate = 0.20 # 20%\n",
        "\n",
        "  final_amount = total_amount\n",
        "  if total_amount > discount_threshold:\n",
        "    discount_amount = total_amount * discount_rate\n",
        "    final_amount = total_amount - discount_amount\n",
        "\n",
        "  return final_amount\n",
        "\n",
        "# Example usage:\n",
        "order_total1 = 120\n",
        "final_price1 = calculate_final_amount(order_total1)\n",
        "print(f\"For an order total of ${order_total1}, the final amount is ${final_price1}\")\n",
        "\n",
        "order_total2 = 80\n",
        "final_price2 = calculate_final_amount(order_total2)\n",
        "print(f\"For an order total of ${order_total2}, the final amount is ${final_price2}\")"
      ],
      "id": "c030dca4",
      "execution_count": 32,
      "outputs": [
        {
          "output_type": "stream",
          "name": "stdout",
          "text": [
            "For an order total of $120, the final amount is $96.0\n",
            "For an order total of $80, the final amount is $80\n"
          ]
        }
      ]
    },
    {
      "cell_type": "markdown",
      "source": [
        "## 8.Scenario: A banking system processes withdrawal requests and ensures the user has enough balance.\n",
        "\n",
        "- Write logic to check if a user has enough balance before allowing a withdrawal and update the remaining balance accordingly."
      ],
      "metadata": {
        "id": "5FCkp8FGoKpj"
      },
      "id": "5FCkp8FGoKpj"
    },
    {
      "cell_type": "code",
      "metadata": {
        "id": "82ff8b43",
        "outputId": "485ef23b-2d92-4ad1-af34-e9626573909a",
        "colab": {
          "base_uri": "https://localhost:8080/"
        }
      },
      "source": [
        "# Scenario: A banking system processes withdrawal requests and ensures the user has enough balance.\n",
        "# Write logic to check if a user has enough balance before allowing a withdrawal and update the remaining balance accordingly.\n",
        "\n",
        "def withdraw(balance, amount):\n",
        "  \"\"\"Processes a withdrawal request, checking for sufficient balance.\"\"\"\n",
        "  if amount <= balance:\n",
        "    balance -= amount\n",
        "    print(f\"Withdrawal successful. Remaining balance: ${balance}\")\n",
        "  else:\n",
        "    print(\"Insufficient funds. Withdrawal denied.\")\n",
        "  return balance\n",
        "\n",
        "# Example usage:\n",
        "account_balance = 1000\n",
        "withdrawal_amount1 = 200\n",
        "account_balance = withdraw(account_balance, withdrawal_amount1)\n",
        "\n",
        "withdrawal_amount2 = 1500\n",
        "account_balance = withdraw(account_balance, withdrawal_amount2)\n",
        "\n",
        "withdrawal_amount3 = 500\n",
        "account_balance = withdraw(account_balance, withdrawal_amount3)"
      ],
      "id": "82ff8b43",
      "execution_count": 33,
      "outputs": [
        {
          "output_type": "stream",
          "name": "stdout",
          "text": [
            "Withdrawal successful. Remaining balance: $800\n",
            "Insufficient funds. Withdrawal denied.\n",
            "Withdrawal successful. Remaining balance: $300\n"
          ]
        }
      ]
    }
  ],
  "metadata": {
    "language_info": {
      "name": "python"
    },
    "colab": {
      "provenance": [],
      "include_colab_link": true
    },
    "kernelspec": {
      "name": "python3",
      "display_name": "Python 3"
    }
  },
  "nbformat": 4,
  "nbformat_minor": 5
}