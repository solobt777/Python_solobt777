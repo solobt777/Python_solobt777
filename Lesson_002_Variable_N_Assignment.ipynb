{
  "cells": [
    {
      "cell_type": "markdown",
      "metadata": {
        "id": "view-in-github",
        "colab_type": "text"
      },
      "source": [
        "<a href=\"https://colab.research.google.com/github/solobt777/Python_solobt777/blob/main/Lesson_002_Variable_N_Assignment.ipynb\" target=\"_parent\"><img src=\"https://colab.research.google.com/assets/colab-badge.svg\" alt=\"Open In Colab\"/></a>"
      ]
    },
    {
      "cell_type": "markdown",
      "source": [
        "#### **Variable and Assignment**"
      ],
      "metadata": {
        "id": "3n6_s24p9OKV"
      },
      "id": "3n6_s24p9OKV"
    },
    {
      "cell_type": "code",
      "execution_count": 2,
      "id": "d1454a64",
      "metadata": {
        "colab": {
          "base_uri": "https://localhost:8080/"
        },
        "id": "d1454a64",
        "outputId": "513d669d-2397-4808-ea3b-3c8e44a97550"
      },
      "outputs": [
        {
          "output_type": "stream",
          "name": "stdout",
          "text": [
            "30\n"
          ]
        }
      ],
      "source": [
        "#### num1 and num2 are two variables each one hold two different nummber\n",
        "### add is another variable which holds num1 + num2 as a resultant of adding 10 + 20 => 30\n",
        "### here the program will execute line by line\n",
        "num1 = 10\n",
        "num2 = 20\n",
        "add = num1 + num2\n",
        "print(add)"
      ]
    }
  ],
  "metadata": {
    "colab": {
      "provenance": [],
      "include_colab_link": true
    },
    "kernelspec": {
      "display_name": "3.13.0",
      "language": "python",
      "name": "python3"
    },
    "language_info": {
      "codemirror_mode": {
        "name": "ipython",
        "version": 3
      },
      "file_extension": ".py",
      "mimetype": "text/x-python",
      "name": "python",
      "nbconvert_exporter": "python",
      "pygments_lexer": "ipython3",
      "version": "3.13.0"
    }
  },
  "nbformat": 4,
  "nbformat_minor": 5
}