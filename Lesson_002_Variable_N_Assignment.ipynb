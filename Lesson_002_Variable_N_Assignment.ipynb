{
  "cells": [
    {
      "cell_type": "code",
      "execution_count": 1,
      "id": "d1454a64",
      "metadata": {
        "colab": {
          "base_uri": "https://localhost:8080/"
        },
        "id": "d1454a64",
        "outputId": "aa83cd8b-e3f1-41c4-c0a8-bccbc823bffa"
      },
      "outputs": [
        {
          "name": "stdout",
          "output_type": "stream",
          "text": [
            "hope AI\n"
          ]
        }
      ],
      "source": [
        "print(\"Welcome to Hope AI\")"
      ]
    },
    {
      "cell_type": "code",
      "execution_count": null,
      "id": "EZgrm64zwhJ3",
      "metadata": {
        "id": "EZgrm64zwhJ3"
      },
      "outputs": [],
      "source": [
        "### print arg can accept any junk character as long as it is within the string\n",
        "## print junk character inside print\n",
        "print(\"2398659871239 %(*(*&(*&(^%(*&(*&))))))\")"
      ]
    },
    {
      "cell_type": "markdown",
      "id": "woV8wg78x4eM",
      "metadata": {
        "id": "woV8wg78x4eM"
      },
      "source": [
        "#### **all the syntax in the Python are case sensitive so make sure to use 'print' as lower p if not you will get into an error output e.g. as show below**\n",
        "\n",
        "- whenever using print syntax write it as print open bracket ( and close bracket ) don't try to use any other brackets, use only as mentioned\n",
        "\n"
      ]
    },
    {
      "cell_type": "code",
      "execution_count": 3,
      "id": "-bmYZclHxeLJ",
      "metadata": {
        "colab": {
          "base_uri": "https://localhost:8080/",
          "height": 144
        },
        "id": "-bmYZclHxeLJ",
        "outputId": "c30dfb52-8ec0-4526-9b22-d2497ee7797e"
      },
      "outputs": [
        {
          "ename": "NameError",
          "evalue": "name 'Print' is not defined",
          "output_type": "error",
          "traceback": [
            "\u001b[0;31m---------------------------------------------------------------------------\u001b[0m",
            "\u001b[0;31mNameError\u001b[0m                                 Traceback (most recent call last)",
            "\u001b[0;32m/tmp/ipython-input-244804411.py\u001b[0m in \u001b[0;36m<cell line: 0>\u001b[0;34m()\u001b[0m\n\u001b[0;32m----> 1\u001b[0;31m \u001b[0mPrint\u001b[0m\u001b[0;34m(\u001b[0m\u001b[0;34m\"Hello\"\u001b[0m\u001b[0;34m)\u001b[0m\u001b[0;34m\u001b[0m\u001b[0;34m\u001b[0m\u001b[0m\n\u001b[0m",
            "\u001b[0;31mNameError\u001b[0m: name 'Print' is not defined"
          ]
        }
      ],
      "source": [
        "Print(\"Hello\")"
      ]
    },
    {
      "cell_type": "code",
      "execution_count": null,
      "id": "FDfSuUmgyKEn",
      "metadata": {
        "id": "FDfSuUmgyKEn"
      },
      "outputs": [],
      "source": []
    },
    {
      "cell_type": "code",
      "execution_count": null,
      "id": "MLz18xn68K98",
      "metadata": {
        "id": "MLz18xn68K98"
      },
      "outputs": [],
      "source": []
    }
  ],
  "metadata": {
    "colab": {
      "provenance": []
    },
    "kernelspec": {
      "display_name": "3.13.0",
      "language": "python",
      "name": "python3"
    },
    "language_info": {
      "codemirror_mode": {
        "name": "ipython",
        "version": 3
      },
      "file_extension": ".py",
      "mimetype": "text/x-python",
      "name": "python",
      "nbconvert_exporter": "python",
      "pygments_lexer": "ipython3",
      "version": "3.13.0"
    }
  },
  "nbformat": 4,
  "nbformat_minor": 5
}
