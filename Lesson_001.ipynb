{
  "cells": [
    {
      "cell_type": "markdown",
      "metadata": {
        "id": "view-in-github",
        "colab_type": "text"
      },
      "source": [
        "<a href=\"https://colab.research.google.com/github/solobt777/Python_solobt777/blob/main/Lesson_001.ipynb\" target=\"_parent\"><img src=\"https://colab.research.google.com/assets/colab-badge.svg\" alt=\"Open In Colab\"/></a>"
      ]
    },
    {
      "cell_type": "code",
      "execution_count": 1,
      "id": "d1454a64",
      "metadata": {
        "id": "d1454a64",
        "outputId": "aa83cd8b-e3f1-41c4-c0a8-bccbc823bffa",
        "colab": {
          "base_uri": "https://localhost:8080/"
        }
      },
      "outputs": [
        {
          "output_type": "stream",
          "name": "stdout",
          "text": [
            "hope AI\n"
          ]
        }
      ],
      "source": [
        "print(\"Welcome to Hope AI\")"
      ]
    },
    {
      "cell_type": "code",
      "source": [
        "### print arg can accept any junk character as long as it is within the string\n",
        "## print junk character inside print\n",
        "print(\"2398659871239 %(*(*&(*&(^%(*&(*&))))))\")"
      ],
      "metadata": {
        "id": "EZgrm64zwhJ3"
      },
      "id": "EZgrm64zwhJ3",
      "execution_count": null,
      "outputs": []
    }
  ],
  "metadata": {
    "kernelspec": {
      "display_name": "3.13.0",
      "language": "python",
      "name": "python3"
    },
    "language_info": {
      "codemirror_mode": {
        "name": "ipython",
        "version": 3
      },
      "file_extension": ".py",
      "mimetype": "text/x-python",
      "name": "python",
      "nbconvert_exporter": "python",
      "pygments_lexer": "ipython3",
      "version": "3.13.0"
    },
    "colab": {
      "provenance": [],
      "include_colab_link": true
    }
  },
  "nbformat": 4,
  "nbformat_minor": 5
}