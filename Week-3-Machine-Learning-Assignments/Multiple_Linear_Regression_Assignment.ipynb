{
  "cells": [
    {
      "cell_type": "markdown",
      "id": "f90f1c7a",
      "metadata": {
        "colab_type": "text",
        "id": "view-in-github"
      },
      "source": [
        "<a href=\"https://colab.research.google.com/github/solobt777/Python_solobt777/blob/main/Week-3-Machine-Learning-Assignments/Multiple_Linear_Regression_Assignment.ipynb\" target=\"_parent\"><img src=\"https://colab.research.google.com/assets/colab-badge.svg\" alt=\"Open In Colab\"/></a>"
      ]
    },
    {
      "cell_type": "markdown",
      "id": "8eef38c7",
      "metadata": {},
      "source": [
        "#### After creating Multiple Linear Regression Model  loading the saved pickle object and show casing the prediction with unseen data"
      ]
    },
    {
      "cell_type": "code",
      "execution_count": 4,
      "id": "9bbfb3a4",
      "metadata": {
        "id": "9bbfb3a4"
      },
      "outputs": [],
      "source": [
        "import pickle\n",
        "import pandas as pd"
      ]
    },
    {
      "cell_type": "code",
      "execution_count": 6,
      "id": "14ecf19f",
      "metadata": {
        "id": "14ecf19f",
        "outputId": "04b92868-a571-43ef-c2f8-9b2e386b57fd"
      },
      "outputs": [
        {
          "name": "stderr",
          "output_type": "stream",
          "text": [
            "/Users/solomon/Documents/Solo_docs/INTO_United_States/Learning_Path/Hope AI /Start Course/Week_2_Python/myevn/lib/python3.13/site-packages/sklearn/utils/validation.py:2749: UserWarning: X does not have valid feature names, but LinearRegression was fitted with feature names\n",
            "  warnings.warn(\n"
          ]
        },
        {
          "data": {
            "text/plain": [
              "array([[183804.77995626]])"
            ]
          },
          "execution_count": 6,
          "metadata": {},
          "output_type": "execute_result"
        }
      ],
      "source": [
        "filename = 'multiple_linear_regression_model.pkl'\n",
        "inputData = pd.DataFrame({\n",
        "    'R&D Spend': [153441],\n",
        "    'Administration': [101145],\n",
        "    'Marketing Spend': [407934],\n",
        "    'State_California': [1],\n",
        "    'State_Florida': [0]\n",
        "})\n",
        "input = inputData[['R&D Spend', 'Administration', 'Marketing Spend', 'State_California', 'State_Florida']]\n",
        "\n",
        "\n",
        "with open(filename, 'rb') as file:\n",
        "    regressor = pickle.load(file)\n",
        "regressor.predict(input.values)"
      ]
    }
  ],
  "metadata": {
    "colab": {
      "include_colab_link": true,
      "provenance": []
    },
    "kernelspec": {
      "display_name": "myevn",
      "language": "python",
      "name": "python3"
    },
    "language_info": {
      "codemirror_mode": {
        "name": "ipython",
        "version": 3
      },
      "file_extension": ".py",
      "mimetype": "text/x-python",
      "name": "python",
      "nbconvert_exporter": "python",
      "pygments_lexer": "ipython3",
      "version": "3.13.0"
    }
  },
  "nbformat": 4,
  "nbformat_minor": 5
}
