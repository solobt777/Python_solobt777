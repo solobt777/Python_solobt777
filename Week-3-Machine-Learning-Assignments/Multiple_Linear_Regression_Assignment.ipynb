{
 "cells": [
  {
   "cell_type": "code",
   "execution_count": 2,
   "id": "9bbfb3a4",
   "metadata": {},
   "outputs": [],
   "source": [
    "import pickle\n",
    "import pandas as pd"
   ]
  },
  {
   "cell_type": "code",
   "execution_count": 3,
   "id": "14ecf19f",
   "metadata": {},
   "outputs": [
    {
     "name": "stderr",
     "output_type": "stream",
     "text": [
      "/Users/solomon/Documents/Solo_docs/INTO_United_States/Learning_Path/Hope AI /Start Course/Week_2_Python/myevn/lib/python3.13/site-packages/sklearn/utils/validation.py:2749: UserWarning: X does not have valid feature names, but LinearRegression was fitted with feature names\n",
      "  warnings.warn(\n"
     ]
    },
    {
     "data": {
      "text/plain": [
       "array([[183804.77995626]])"
      ]
     },
     "execution_count": 3,
     "metadata": {},
     "output_type": "execute_result"
    }
   ],
   "source": [
    "filename = 'multiple_linear_regression_model.pkl'\n",
    "inputData = pd.DataFrame({\n",
    "    'R&D Spend': [153441],\n",
    "    'Administration': [101145],\n",
    "    'Marketing Spend': [407934],\n",
    "    'State_California': [1],\n",
    "    'State_Florida': [0]\n",
    "})\n",
    "input = inputData[['R&D Spend', 'Administration', 'Marketing Spend', 'State_California', 'State_Florida']]\n",
    "\n",
    "\n",
    "with open(filename, 'rb') as file:\n",
    "    regressor = pickle.load(file)\n",
    "regressor.predict(input.values)"
   ]
  }
 ],
 "metadata": {
  "kernelspec": {
   "display_name": "myevn",
   "language": "python",
   "name": "python3"
  },
  "language_info": {
   "codemirror_mode": {
    "name": "ipython",
    "version": 3
   },
   "file_extension": ".py",
   "mimetype": "text/x-python",
   "name": "python",
   "nbconvert_exporter": "python",
   "pygments_lexer": "ipython3",
   "version": "3.13.0"
  }
 },
 "nbformat": 4,
 "nbformat_minor": 5
}
