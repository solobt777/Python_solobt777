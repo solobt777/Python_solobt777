{
 "cells": [
  {
   "cell_type": "code",
   "execution_count": 1,
   "id": "ff7613e6",
   "metadata": {},
   "outputs": [],
   "source": [
    "import pandas as pd\n",
    "\n",
    "from sklearn.preprocessing import StandardScaler\n",
    "from sklearn.model_selection import train_test_split\n"
   ]
  },
  {
   "cell_type": "code",
   "execution_count": 2,
   "id": "df5d72c0",
   "metadata": {},
   "outputs": [],
   "source": [
    "df = pd.read_csv(\"50_Startups.csv\")\n",
    "df = pd.get_dummies(df, drop_first=True)\n",
    "independent = df.drop(\"Profit\", axis=1)\n",
    "dependent = df[\"Profit\"]\n"
   ]
  },
  {
   "cell_type": "code",
   "execution_count": 4,
   "id": "55955017",
   "metadata": {},
   "outputs": [],
   "source": [
    "from sklearn.model_selection import train_test_split\n",
    "X_train, X_test, y_train, y_test = train_test_split(independent, dependent, test_size=0.2, random_state=42)"
   ]
  },
  {
   "cell_type": "code",
   "execution_count": 8,
   "id": "e8f4b793",
   "metadata": {},
   "outputs": [],
   "source": [
    "from sklearn.preprocessing import StandardScaler\n",
    "sc = StandardScaler()\n",
    "X_train = sc.fit_transform(X_train)\n",
    "X_test = sc.transform(X_test)\n"
   ]
  },
  {
   "cell_type": "code",
   "execution_count": 10,
   "id": "eb19b6d9",
   "metadata": {},
   "outputs": [],
   "source": [
    "scy = StandardScaler()\n",
    "y_train = scy.fit_transform(y_train.values.reshape(-1, 1))\n",
    "y_test = scy.transform(y_test.values.reshape(-1, 1))"
   ]
  },
  {
   "cell_type": "code",
   "execution_count": 11,
   "id": "a1cc9ca9",
   "metadata": {},
   "outputs": [
    {
     "data": {
      "text/plain": [
       "array([[1.30000000e+03, 1.20000000e+04, 4.00000000e+03, 1.00000000e+00,\n",
       "        2.22044605e-17]])"
      ]
     },
     "execution_count": 11,
     "metadata": {},
     "output_type": "execute_result"
    }
   ],
   "source": [
    "preinput = sc.transform([[1300, 12000, 4000, 1, 0]])\n",
    "preinput\n",
    "\n"
   ]
  },
  {
   "cell_type": "code",
   "execution_count": 14,
   "id": "8ad50e0b",
   "metadata": {},
   "outputs": [
    {
     "data": {
      "text/plain": [
       "array([232457.31014326])"
      ]
     },
     "execution_count": 14,
     "metadata": {},
     "output_type": "execute_result"
    }
   ],
   "source": [
    "import pickle\n",
    "loaded_model = pickle.load(open('finalsvmmodel.pkl','rb'))\n",
    "result = loaded_model.predict(preinput)\n",
    "result"
   ]
  }
 ],
 "metadata": {
  "kernelspec": {
   "display_name": "myevn",
   "language": "python",
   "name": "python3"
  },
  "language_info": {
   "codemirror_mode": {
    "name": "ipython",
    "version": 3
   },
   "file_extension": ".py",
   "mimetype": "text/x-python",
   "name": "python",
   "nbconvert_exporter": "python",
   "pygments_lexer": "ipython3",
   "version": "3.13.0"
  }
 },
 "nbformat": 4,
 "nbformat_minor": 5
}
