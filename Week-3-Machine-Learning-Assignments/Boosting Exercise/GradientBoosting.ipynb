{
  "cells": [
    {
      "cell_type": "markdown",
      "metadata": {
        "id": "view-in-github",
        "colab_type": "text"
      },
      "source": [
        "<a href=\"https://colab.research.google.com/github/solobt777/Python_solobt777/blob/main/Week-3-Machine-Learning-Assignments/Boosting%20Exercise/GradientBoosting.ipynb\" target=\"_parent\"><img src=\"https://colab.research.google.com/assets/colab-badge.svg\" alt=\"Open In Colab\"/></a>"
      ]
    },
    {
      "cell_type": "markdown",
      "id": "8934591e",
      "metadata": {
        "id": "8934591e"
      },
      "source": [
        "#### Grandient Boosting Model"
      ]
    },
    {
      "cell_type": "code",
      "execution_count": null,
      "id": "7094336b",
      "metadata": {
        "id": "7094336b"
      },
      "outputs": [],
      "source": [
        "!pip install seaborn"
      ]
    },
    {
      "cell_type": "code",
      "execution_count": null,
      "id": "6ebf65d0",
      "metadata": {
        "id": "6ebf65d0"
      },
      "outputs": [],
      "source": [
        "\n",
        "import pandas as pd\n",
        "import numpy as np\n",
        "from sklearn.datasets import load_diabetes\n",
        "import matplotlib.pyplot as plt\n",
        "import seaborn as sns\n",
        "from sklearn.model_selection import train_test_split\n",
        "from sklearn.metrics import r2_score, mean_absolute_error, mean_squared_error"
      ]
    },
    {
      "cell_type": "code",
      "execution_count": null,
      "id": "8c305daf",
      "metadata": {
        "id": "8c305daf"
      },
      "outputs": [],
      "source": [
        "# pd.Series(data.target) creates a pandas Series object from the 'target' values in the diabetes dataset.\n",
        "# A pandas Series is a one-dimensional labeled array, useful for storing and manipulating a single column of data.\n",
        "# In this case, 'data.target' contains the target variable (disease progression) for each sample.\n",
        "\n",
        "data = load_diabetes()\n",
        "X = pd.DataFrame(data.data, columns=data.feature_names)\n",
        "y = pd.Series(data.target)\n",
        "\n",
        "\n",
        "df = pd.DataFrame(data.data, columns=data.feature_names)\n",
        "df['target'] = data.target"
      ]
    },
    {
      "cell_type": "code",
      "execution_count": null,
      "id": "d8793447",
      "metadata": {
        "id": "d8793447",
        "outputId": "d31940df-d8ed-4acc-cb79-15e77e76c76c"
      },
      "outputs": [
        {
          "data": {
            "text/html": [
              "<div>\n",
              "<style scoped>\n",
              "    .dataframe tbody tr th:only-of-type {\n",
              "        vertical-align: middle;\n",
              "    }\n",
              "\n",
              "    .dataframe tbody tr th {\n",
              "        vertical-align: top;\n",
              "    }\n",
              "\n",
              "    .dataframe thead th {\n",
              "        text-align: right;\n",
              "    }\n",
              "</style>\n",
              "<table border=\"1\" class=\"dataframe\">\n",
              "  <thead>\n",
              "    <tr style=\"text-align: right;\">\n",
              "      <th></th>\n",
              "      <th>age</th>\n",
              "      <th>sex</th>\n",
              "      <th>bmi</th>\n",
              "      <th>bp</th>\n",
              "      <th>s1</th>\n",
              "      <th>s2</th>\n",
              "      <th>s3</th>\n",
              "      <th>s4</th>\n",
              "      <th>s5</th>\n",
              "      <th>s6</th>\n",
              "      <th>target</th>\n",
              "    </tr>\n",
              "  </thead>\n",
              "  <tbody>\n",
              "    <tr>\n",
              "      <th>0</th>\n",
              "      <td>0.038076</td>\n",
              "      <td>0.050680</td>\n",
              "      <td>0.061696</td>\n",
              "      <td>0.021872</td>\n",
              "      <td>-0.044223</td>\n",
              "      <td>-0.034821</td>\n",
              "      <td>-0.043401</td>\n",
              "      <td>-0.002592</td>\n",
              "      <td>0.019907</td>\n",
              "      <td>-0.017646</td>\n",
              "      <td>151.0</td>\n",
              "    </tr>\n",
              "    <tr>\n",
              "      <th>1</th>\n",
              "      <td>-0.001882</td>\n",
              "      <td>-0.044642</td>\n",
              "      <td>-0.051474</td>\n",
              "      <td>-0.026328</td>\n",
              "      <td>-0.008449</td>\n",
              "      <td>-0.019163</td>\n",
              "      <td>0.074412</td>\n",
              "      <td>-0.039493</td>\n",
              "      <td>-0.068332</td>\n",
              "      <td>-0.092204</td>\n",
              "      <td>75.0</td>\n",
              "    </tr>\n",
              "    <tr>\n",
              "      <th>2</th>\n",
              "      <td>0.085299</td>\n",
              "      <td>0.050680</td>\n",
              "      <td>0.044451</td>\n",
              "      <td>-0.005670</td>\n",
              "      <td>-0.045599</td>\n",
              "      <td>-0.034194</td>\n",
              "      <td>-0.032356</td>\n",
              "      <td>-0.002592</td>\n",
              "      <td>0.002861</td>\n",
              "      <td>-0.025930</td>\n",
              "      <td>141.0</td>\n",
              "    </tr>\n",
              "    <tr>\n",
              "      <th>3</th>\n",
              "      <td>-0.089063</td>\n",
              "      <td>-0.044642</td>\n",
              "      <td>-0.011595</td>\n",
              "      <td>-0.036656</td>\n",
              "      <td>0.012191</td>\n",
              "      <td>0.024991</td>\n",
              "      <td>-0.036038</td>\n",
              "      <td>0.034309</td>\n",
              "      <td>0.022688</td>\n",
              "      <td>-0.009362</td>\n",
              "      <td>206.0</td>\n",
              "    </tr>\n",
              "    <tr>\n",
              "      <th>4</th>\n",
              "      <td>0.005383</td>\n",
              "      <td>-0.044642</td>\n",
              "      <td>-0.036385</td>\n",
              "      <td>0.021872</td>\n",
              "      <td>0.003935</td>\n",
              "      <td>0.015596</td>\n",
              "      <td>0.008142</td>\n",
              "      <td>-0.002592</td>\n",
              "      <td>-0.031988</td>\n",
              "      <td>-0.046641</td>\n",
              "      <td>135.0</td>\n",
              "    </tr>\n",
              "  </tbody>\n",
              "</table>\n",
              "</div>"
            ],
            "text/plain": [
              "        age       sex       bmi        bp        s1        s2        s3  \\\n",
              "0  0.038076  0.050680  0.061696  0.021872 -0.044223 -0.034821 -0.043401   \n",
              "1 -0.001882 -0.044642 -0.051474 -0.026328 -0.008449 -0.019163  0.074412   \n",
              "2  0.085299  0.050680  0.044451 -0.005670 -0.045599 -0.034194 -0.032356   \n",
              "3 -0.089063 -0.044642 -0.011595 -0.036656  0.012191  0.024991 -0.036038   \n",
              "4  0.005383 -0.044642 -0.036385  0.021872  0.003935  0.015596  0.008142   \n",
              "\n",
              "         s4        s5        s6  target  \n",
              "0 -0.002592  0.019907 -0.017646   151.0  \n",
              "1 -0.039493 -0.068332 -0.092204    75.0  \n",
              "2 -0.002592  0.002861 -0.025930   141.0  \n",
              "3  0.034309  0.022688 -0.009362   206.0  \n",
              "4 -0.002592 -0.031988 -0.046641   135.0  "
            ]
          },
          "execution_count": 6,
          "metadata": {},
          "output_type": "execute_result"
        }
      ],
      "source": [
        "df.head()"
      ]
    },
    {
      "cell_type": "code",
      "execution_count": null,
      "id": "2a30e6b6",
      "metadata": {
        "id": "2a30e6b6",
        "outputId": "7247049c-a6aa-43bd-cca6-63fa6217639c"
      },
      "outputs": [
        {
          "name": "stdout",
          "output_type": "stream",
          "text": [
            "<class 'pandas.core.frame.DataFrame'>\n",
            "RangeIndex: 442 entries, 0 to 441\n",
            "Data columns (total 11 columns):\n",
            " #   Column  Non-Null Count  Dtype  \n",
            "---  ------  --------------  -----  \n",
            " 0   age     442 non-null    float64\n",
            " 1   sex     442 non-null    float64\n",
            " 2   bmi     442 non-null    float64\n",
            " 3   bp      442 non-null    float64\n",
            " 4   s1      442 non-null    float64\n",
            " 5   s2      442 non-null    float64\n",
            " 6   s3      442 non-null    float64\n",
            " 7   s4      442 non-null    float64\n",
            " 8   s5      442 non-null    float64\n",
            " 9   s6      442 non-null    float64\n",
            " 10  target  442 non-null    float64\n",
            "dtypes: float64(11)\n",
            "memory usage: 38.1 KB\n"
          ]
        }
      ],
      "source": [
        "df.info()"
      ]
     },
     "execution_count": 7,
     "metadata": {},
     "output_type": "execute_result"
    }
   ],
   "source": [
    "df.duplicated()\n",
    "df[df.duplicated()]"
   ]
  },
  {
   "cell_type": "code",
   "execution_count": 9,
   "id": "ff30a436",
   "metadata": {},
   "outputs": [],
   "source": [
    "y = df['target']\n",
    "X = df.drop('target', axis=1)\n",
    "\n",
    "X_train, X_test, y_train, y_test = train_test_split(X, y, test_size=0.2, random_state=42)\n"
   ]
  },
  {
   "cell_type": "code",
   "execution_count": null,
   "id": "639fdf51",
   "metadata": {},
   "outputs": [
    {
     "data": {
      "text/plain": [
       "0.3204499981235972"
      ]
     },
     "execution_count": 54,
     "metadata": {},
     "output_type": "execute_result"
    }
   ],
   "source": [
    "from sklearn.ensemble import GradientBoostingRegressor\n",
    "gbr = GradientBoostingRegressor(criterion='squared_error',n_estimators=1000, learning_rate=0.001, max_depth=20, random_state=0)\n",
    "gbr.fit(X_train, y_train)\n",
    "y_pred = gbr.predict(X_test)\n",
    "\n",
    "r2 = r2_score(y_test, y_pred)\n",
    "mae = mean_absolute_error(y_test, y_pred)\n",
    "r2"
   ]
  },
  {
   "cell_type": "markdown",
   "id": "04bd51e2",
   "metadata": {},
   "source": [
    "#### This code extracts the feature importance scores from the trained Gradient Boosting Regressor model (`gbr`). It creates a pandas Series (`feature_score`) that maps each feature name to its corresponding importance score, then sorts the features in descending order of importance. The resulting `feature_score` Series helps identify which features have the greatest impact on the model's predictions."
   ]
  },
  {
   "cell_type": "code",
   "execution_count": 32,
   "id": "4a762c6b",
   "metadata": {},
   "outputs": [
    {
     "data": {
      "text/plain": [
       "bmi    0.419224\n",
       "s5     0.153667\n",
       "s1     0.084755\n",
       "bp     0.066296\n",
       "s6     0.064813\n",
       "age    0.063820\n",
       "s3     0.060000\n",
       "s2     0.046980\n",
       "s4     0.034211\n",
       "sex    0.006236\n",
       "dtype: float64"
      ]
     },
     "execution_count": 32,
     "metadata": {},
     "output_type": "execute_result"
    }
   ],
   "source": [
    "feature_importances = gbr.feature_importances_\n",
    "feature_score = pd.Series(feature_importances, index=X.columns).sort_values(ascending=False)\n",
    "feature_score"
   ]
  },
  {
   "cell_type": "markdown",
   "id": "110be699",
   "metadata": {},
   "source": [
    "#### This code visualizes the importance of each feature in the dataset as determined by the trained Gradient Boosting Regressor model. It uses Seaborn's barplot to display the feature importance scores, with features listed on the y-axis and their corresponding importance scores on the x-axis. The plot helps to quickly identify which features contribute most to the model's predictions.\n",
    "\n"
   ]
  },
  {
   "cell_type": "code",
   "execution_count": 33,
   "id": "3c3b39a8",
   "metadata": {},
   "outputs": [
    {
     "data": {
      "image/png": "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",
      "text/plain": [
       "<Figure size 640x480 with 1 Axes>"
      ]
    }
   ],
   "source": [
    "\n",
    "sns.barplot(x=feature_score, y=feature_score.index)\n",
    "plt.xlabel('Feature Importance Score')\n",
    "plt.ylabel('Features')\n",
    "plt.title('Visualizing Important Features')\n",
    "plt.show()"
   ]
  },
  {
   "cell_type": "code",
   "execution_count": 55,
   "id": "1ade5f8a",
   "metadata": {},
   "outputs": [
    {
     "data": {
      "text/plain": [
       "0.3204499981235972"
      ]
     },
     "execution_count": 55,
     "metadata": {},
     "output_type": "execute_result"
    }
   ],
   "source": [
    "gbr.score(X_test, y_test)"
   ]
  }
 ],
 "metadata": {
  "kernelspec": {
   "display_name": "myevn",
   "language": "python",
   "name": "python3"
  },
  "nbformat": 4,
  "nbformat_minor": 5
}