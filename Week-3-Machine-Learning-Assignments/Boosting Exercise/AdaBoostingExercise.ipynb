{
 "cells": [
  {
   "cell_type": "code",
   "execution_count": 20,
   "id": "423945b2",
   "metadata": {},
   "outputs": [],
   "source": [
    "import pandas as pd\n",
    "import numpy as np\n",
    "from sklearn.model_selection import train_test_split\n",
    "from sklearn.preprocessing import StandardScaler\n",
    "from sklearn.linear_model import LogisticRegression\n",
    "from sklearn.metrics import accuracy_score, classification_report, r2_score\n",
    "import joblib\n",
    "from sklearn.ensemble import AdaBoostRegressor"
   ]
  },
  {
   "cell_type": "code",
   "execution_count": 25,
   "id": "71e12c9e",
   "metadata": {},
   "outputs": [],
   "source": [
    "# create adaboost classifier\n",
    "adb_clf = AdaBoostRegressor(\n",
    "    n_estimators=50,\n",
    "    learning_rate=1.0\n",
    ")"
   ]
  },
  {
   "cell_type": "code",
   "execution_count": 42,
   "id": "5314ad0c",
   "metadata": {},
   "outputs": [
    {
     "name": "stdout",
     "output_type": "stream",
     "text": [
      "R2 Score: 0.9259425429642973\n",
      "R2 Score from loaded model: 0.9353718391228414\n"
     ]
    }
   ],
   "source": [
    "# load the dataset\n",
    "data = pd.read_csv('50_Startups.csv')\n",
    "data = pd.get_dummies(data, drop_first=True)\n",
    "\n",
    "X = data.drop('Profit', axis=1)\n",
    "y = data['Profit']\n",
    "\n",
    "# split the dataset into features and target variable\n",
    "X_train, X_test, y_train, y_test = train_test_split(X, y, test_size=0.2, random_state=0)\n",
    "# feature scaling\n",
    "scaler = StandardScaler()\n",
    "X_train = scaler.fit_transform(X_train)\n",
    "X_test = scaler.transform(X_test)\n",
    "# fit the model\n",
    "adb_clf.fit(X_train, y_train)\n",
    "# make predictions\n",
    "y_pred = adb_clf.predict(X_test)\n",
    "# evaluate the model\n",
    "print(\"R2 Score:\", r2_score(y_test, y_pred))\n",
    "\n",
    "\n",
    "\n",
    "\n",
    "# save the model\n",
    "joblib.dump(adb_clf, 'adb_model.pkl')\n",
    "\n",
    "# load the model\n",
    "loaded_model = joblib.load('adb_model.pkl')\n",
    "loaded_model.fit(X_train, y_train)\n",
    "y_pred_loaded = loaded_model.predict(X_test)\n",
    "print(\"R2 Score from loaded model:\", r2_score(y_test, y_pred_loaded))\n",
    "# The code above creates an AdaBoost regressor, trains it on the '50_Startups.csv' dataset, evaluates its performance using R2 score, and saves the trained model to a file\n",
    "\n",
    "\n"
   ]
  }
 ],
 "metadata": {
  "kernelspec": {
   "display_name": "myevn",
   "language": "python",
   "name": "python3"
  },
  "language_info": {
   "codemirror_mode": {
    "name": "ipython",
    "version": 3
   },
   "file_extension": ".py",
   "mimetype": "text/x-python",
   "name": "python",
   "nbconvert_exporter": "python",
   "pygments_lexer": "ipython3",
   "version": "3.13.0"
  }
 },
 "nbformat": 4,
 "nbformat_minor": 5
}
