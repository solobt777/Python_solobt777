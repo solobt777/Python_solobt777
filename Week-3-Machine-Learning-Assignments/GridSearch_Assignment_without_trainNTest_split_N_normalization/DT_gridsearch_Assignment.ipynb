{
 "cells": [
  {
   "cell_type": "code",
   "execution_count": null,
   "id": "56354e42",
   "metadata": {},
   "outputs": [],
   "source": [
    "#### Gridsearch Assignment using Decision Tree without train test split and without Normalization"
   ]
  },
  {
   "cell_type": "code",
   "execution_count": null,
   "id": "dc595c72",
   "metadata": {},
   "outputs": [],
   "source": [
    "import pandas as pd\n",
    "import numpy as np\n",
    "from sklearn.model_selection import GridSearchCV\n",
    "from sklearn.tree import DecisionTreeRegressor\n",
    "from sklearn.metrics import classification_report"
   ]
  },
  {
   "cell_type": "code",
   "execution_count": null,
   "id": "f891f14f",
   "metadata": {},
   "outputs": [],
   "source": [
    "df = pd.read_csv(\"insurance_pre.csv\")\n",
    "X = df.drop('charges', axis=1)\n",
    "y = df['charges']"
   ]
  },
  {
   "cell_type": "code",
   "execution_count": null,
   "id": "8a9ea7b7",
   "metadata": {},
   "outputs": [],
   "source": [
    "decisionTree = DecisionTreeRegressor()\n",
    "param_grid = {\n",
    "    'criterion': ['squared_error', 'friedman_mse', 'absolute_error', 'poisson'],\n",
    "    'splitter': ['best', 'random'],\n",
    "    'max_depth': [None, 10, 20, 30, 40, 50],\n",
    "    'min_samples_split': [2, 5, 10],\n",
    "}\n",
    "\n",
    "grid = GridSearchCV(decisionTree, param_grid, refit=True, cv=3, verbose=1, n_jobs=2)\n",
    "\n",
    "# fitting the model for grid search\n",
    "grid.fit(X, y)"
   ]
  },
  {
   "cell_type": "code",
   "execution_count": null,
   "id": "0cf02358",
   "metadata": {},
   "outputs": [],
   "source": [
    "from sklearn.metrics import r2_score\n",
    "# Predicting the Test set results\n",
    "\n",
    "y_pred=gs2.predict(X)\n",
    "r2score = r2_score(y,y_pred)\n",
    "# print best parameter after tuning\n",
    "#print(grid.best_params_)\n",
    "re=grid.cv_results_\n",
    "re\n",
    "print(\"The R_score value for best parameter {}:\".format(grid.best_params_), r2score)"
   ]
  }
 ],
 "metadata": {
  "language_info": {
   "name": "python"
  }
 },
 "nbformat": 4,
 "nbformat_minor": 5
}
