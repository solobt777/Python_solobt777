{
  "cells": [
    {
      "cell_type": "markdown",
      "metadata": {
        "id": "view-in-github",
        "colab_type": "text"
      },
      "source": [
        "<a href=\"https://colab.research.google.com/github/solobt777/Python_solobt777/blob/main/Week-3-Machine-Learning-Assignments/GridSearch_Assignment_without_trainNTest_split_N_normalization/RF_gridsearch_Assignment_.ipynb\" target=\"_parent\"><img src=\"https://colab.research.google.com/assets/colab-badge.svg\" alt=\"Open In Colab\"/></a>"
      ]
    },
    {
      "cell_type": "markdown",
      "id": "367e25a1",
      "metadata": {
        "id": "367e25a1"
      },
      "source": [
        "#### Gridsearch Assignment using RandomForest Tree without train test split and without Normalization"
      ]
    },
    {
      "cell_type": "code",
      "execution_count": 3,
      "id": "b2078f5c",
      "metadata": {
        "id": "b2078f5c"
      },
      "outputs": [],
      "source": [
        "import pandas as pd\n",
        "import numpy as np\n",
        "from sklearn.model_selection import GridSearchCV\n",
        "from sklearn.ensemble import RandomForestRegressor\n",
        "from sklearn.metrics import classification_report"
      ]
    },
    {
      "cell_type": "code",
      "source": [
        "from google.colab import drive\n",
        "drive.mount('/content/drive')"
      ],
      "metadata": {
        "id": "TcbutvQReo_V",
        "outputId": "d6fc19aa-a24e-480f-ca9c-2e1167b08f3b",
        "colab": {
          "base_uri": "https://localhost:8080/"
        }
      },
      "id": "TcbutvQReo_V",
      "execution_count": 1,
      "outputs": [
        {
          "output_type": "stream",
          "name": "stdout",
          "text": [
            "Mounted at /content/drive\n"
          ]
        }
      ]
    },
    {
      "cell_type": "code",
      "execution_count": 4,
      "id": "df577936",
      "metadata": {
        "id": "df577936"
      },
      "outputs": [],
      "source": [
        "df = pd.read_csv(\"/content/drive/MyDrive/Colab Notebooks/Hope AI by Ramisha/data/insurance_pre.csv\")\n",
        "X = pd.get_dummies(df.drop('charges', axis=1))\n",
        "y = df['charges']"
      ]
    },
    {
      "cell_type": "code",
      "execution_count": null,
      "id": "7cae9bc1",
      "metadata": {
        "id": "7cae9bc1",
        "outputId": "15799bd4-c425-41e7-d91b-797db04d3ecf"
      },
      "outputs": [
        {
          "data": {
            "text/html": [
              "<div>\n",
              "<style scoped>\n",
              "    .dataframe tbody tr th:only-of-type {\n",
              "        vertical-align: middle;\n",
              "    }\n",
              "\n",
              "    .dataframe tbody tr th {\n",
              "        vertical-align: top;\n",
              "    }\n",
              "\n",
              "    .dataframe thead th {\n",
              "        text-align: right;\n",
              "    }\n",
              "</style>\n",
              "<table border=\"1\" class=\"dataframe\">\n",
              "  <thead>\n",
              "    <tr style=\"text-align: right;\">\n",
              "      <th></th>\n",
              "      <th>age</th>\n",
              "      <th>sex</th>\n",
              "      <th>bmi</th>\n",
              "      <th>children</th>\n",
              "      <th>smoker</th>\n",
              "      <th>charges</th>\n",
              "    </tr>\n",
              "  </thead>\n",
              "  <tbody>\n",
              "    <tr>\n",
              "      <th>0</th>\n",
              "      <td>19</td>\n",
              "      <td>female</td>\n",
              "      <td>27.900</td>\n",
              "      <td>0</td>\n",
              "      <td>yes</td>\n",
              "      <td>16884.92400</td>\n",
              "    </tr>\n",
              "    <tr>\n",
              "      <th>1</th>\n",
              "      <td>18</td>\n",
              "      <td>male</td>\n",
              "      <td>33.770</td>\n",
              "      <td>1</td>\n",
              "      <td>no</td>\n",
              "      <td>1725.55230</td>\n",
              "    </tr>\n",
              "    <tr>\n",
              "      <th>2</th>\n",
              "      <td>28</td>\n",
              "      <td>male</td>\n",
              "      <td>33.000</td>\n",
              "      <td>3</td>\n",
              "      <td>no</td>\n",
              "      <td>4449.46200</td>\n",
              "    </tr>\n",
              "    <tr>\n",
              "      <th>3</th>\n",
              "      <td>33</td>\n",
              "      <td>male</td>\n",
              "      <td>22.705</td>\n",
              "      <td>0</td>\n",
              "      <td>no</td>\n",
              "      <td>21984.47061</td>\n",
              "    </tr>\n",
              "    <tr>\n",
              "      <th>4</th>\n",
              "      <td>32</td>\n",
              "      <td>male</td>\n",
              "      <td>28.880</td>\n",
              "      <td>0</td>\n",
              "      <td>no</td>\n",
              "      <td>3866.85520</td>\n",
              "    </tr>\n",
              "  </tbody>\n",
              "</table>\n",
              "</div>"
            ],
            "text/plain": [
              "   age     sex     bmi  children smoker      charges\n",
              "0   19  female  27.900         0    yes  16884.92400\n",
              "1   18    male  33.770         1     no   1725.55230\n",
              "2   28    male  33.000         3     no   4449.46200\n",
              "3   33    male  22.705         0     no  21984.47061\n",
              "4   32    male  28.880         0     no   3866.85520"
            ]
          },
          "execution_count": 6,
          "metadata": {},
          "output_type": "execute_result"
        }
      ],
      "source": [
        "df.head()"
      ]
    },
    {
      "cell_type": "code",
      "execution_count": 5,
      "id": "d26f4026",
      "metadata": {
        "id": "d26f4026"
      },
      "outputs": [],
      "source": [
        "rf = RandomForestRegressor()\n",
        "parameters = {'n_estimators': [10, 50, 100], 'max_depth': [None, 10, 20], 'min_samples_split': [2, 5, 10]}\n",
        "grid = GridSearchCV(rf, parameters, cv=5, scoring='r2')\n",
        "grid.fit(X, y)\n",
        "y_pred = grid.predict(X)"
      ]
    },
    {
      "cell_type": "code",
      "execution_count": 6,
      "id": "a20a6801",
      "metadata": {
        "id": "a20a6801",
        "outputId": "0e89f3af-1b09-402e-9e61-3e28efa383b6",
        "colab": {
          "base_uri": "https://localhost:8080/"
        }
      },
      "outputs": [
        {
          "output_type": "stream",
          "name": "stdout",
          "text": [
            "The R_score value for best parameter {'max_depth': 10, 'min_samples_split': 10, 'n_estimators': 50}: 0.9245737279002612\n"
          ]
        }
      ],
      "source": [
        "from sklearn.metrics import r2_score\n",
        "# Predicting the Test set results\n",
        "\n",
        "y_pred=grid.predict(X)\n",
        "r2score = r2_score(y,y_pred)\n",
        "# print best parameter after tuning\n",
        "#print(grid.best_params_)\n",
        "re=grid.cv_results_\n",
        "re\n",
        "print(\"The R_score value for best parameter {}:\".format(grid.best_params_), r2score)"
      ]
    }
  ],
  "metadata": {
    "kernelspec": {
      "display_name": "myevn",
      "language": "python",
      "name": "python3"
    },
    "language_info": {
      "codemirror_mode": {
        "name": "ipython",
        "version": 3
      },
      "file_extension": ".py",
      "mimetype": "text/x-python",
      "name": "python",
      "nbconvert_exporter": "python",
      "pygments_lexer": "ipython3",
      "version": "3.13.0"
    },
    "colab": {
      "provenance": [],
      "include_colab_link": true
    }
  },
  "nbformat": 4,
  "nbformat_minor": 5
}