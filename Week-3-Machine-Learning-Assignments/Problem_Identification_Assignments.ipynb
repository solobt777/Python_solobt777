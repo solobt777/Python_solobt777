{
  "cells": [
    {
      "cell_type": "markdown",
      "id": "09aec105",
      "metadata": {
        "colab_type": "text",
        "id": "view-in-github"
      },
      "source": [
        "<a href=\"https://colab.research.google.com/github/solobt777/Python_solobt777/blob/main/Week-3-Machine-Learning-Assignments/Problem_Identification_Assignments.ipynb\" target=\"_parent\"><img src=\"https://colab.research.google.com/assets/colab-badge.svg\" alt=\"Open In Colab\"/></a>"
      ]
    },
    {
      "cell_type": "markdown",
      "id": "f37d3837",
      "metadata": {
        "id": "f37d3837"
      },
      "source": [
        "## Problem Statement ASK by Hope AI and Solution Provided by Solomon\n",
        "![image.png](attachment:image.png)"
      ]
    },
    {
      "cell_type": "markdown",
      "id": "4f69d55d",
      "metadata": {
        "id": "4f69d55d"
      },
      "source": [
        "## A) Achieving this in AI:\n",
        "- Use predictive analytics and machine learning to forecast employee attrition (resignation).\n",
        "- Collect historical employee data, train a classification model (e.g., logistic regression, random forest)\n",
        "- to predict the likelihood of resignation based on features like satisfaction, tenure, performance, etc.\n",
        "\n",
        "## B) 3-Stage Problem Identification:\n",
        "- Learning Type: Supervised Learning, since it is has labeled outcomes (whether employees resigned or not)\n",
        "- Problem Type: Classification\n",
        "- Domain: Machine Learning\n",
        "\n",
        "## C) Project Name: \"Employee Attrition Prediction System\"\n",
        "\n",
        "## D) Dummy Dataset Creation"
      ]
    },
    {
      "cell_type": "markdown",
      "id": "5b9a4d83",
      "metadata": {
        "id": "5b9a4d83"
      },
      "source": [
        "### Explanation of `np.random.choice([0, 1], num_employees, p=[0.9, 0.1])`\n",
        "\n",
        "- `np.random.choice([0, 1], num_employees, p=[0.9, 0.1])` generates a random array of length `num_employees` (here, 100), where each element is either `0` or `1`.\n",
        "- The `p=[0.9, 0.1]` argument specifies the probability of selecting each value:\n",
        "    - `0` (Stay) is chosen with 90% probability.\n",
        "    - `1` (Will resign) is chosen with 10% probability.\n",
        "- This simulates employee resignation, with most employees staying and a small fraction predicted to resign next month."
      ]
    },
    {
      "cell_type": "code",
      "execution_count": null,
      "id": "ddf6c3fa",
      "metadata": {
        "id": "ddf6c3fa",
        "outputId": "fffc2af5-0799-49a7-f415-ef3ddc8e368a",
        "vscode": {
          "languageId": "markdown"
        }
      },
      "outputs": [
        {
          "name": "stdout",
          "output_type": "stream",
          "text": [
            "   EmployeeID  Age  Department  YearsAtCompany  JobSatisfaction  \\\n",
            "0           1   50          IT              10                3   \n",
            "1           2   36     Finance               3                2   \n",
            "2           3   29  Operations               2                4   \n",
            "3           4   42     Finance               9                3   \n",
            "4           5   40          IT               2                3   \n",
            "\n",
            "   PerformanceRating  MonthlyIncome OverTime  ResignedNextMonth  \n",
            "0                  4          74638      Yes                  0  \n",
            "1                  4          88666      Yes                  0  \n",
            "2                  2          82215      Yes                  0  \n",
            "3                  4          84042      Yes                  0  \n",
            "4                  2          28284       No                  0  \n"
          ]
        }
      ],
      "source": [
        "import pandas as pd\n",
        "import numpy as np\n",
        "\n",
        "\n",
        "np.random.seed(42)\n",
        "num_employees = 100\n",
        "\n",
        "dummy_data = pd.DataFrame({\n",
        "    'EmployeeID': range(1, num_employees + 1),\n",
        "    'Age': np.random.randint(22, 60, num_employees),\n",
        "    'Department': np.random.choice(['IT', 'HR', 'Finance', 'Sales', 'Operations'], num_employees),\n",
        "    'YearsAtCompany': np.random.randint(0, 15, num_employees),\n",
        "    'JobSatisfaction': np.random.randint(1, 5, num_employees),  # 1: Low, 4: High\n",
        "    'PerformanceRating': np.random.randint(1, 5, num_employees),\n",
        "    'MonthlyIncome': np.random.randint(15000, 100000, num_employees),\n",
        "    'OverTime': np.random.choice(['Yes', 'No'], num_employees),\n",
        "    'ResignedNextMonth': np.random.choice([0, 1], num_employees, p=[0.9, 0.1])  # 1: Will resign, 0: Stay\n",
        "})\n",
        "\n",
        "# Display the first few rows\n",
        "print(dummy_data.head())"
      ]
    },
    {
      "cell_type": "code",
      "execution_count": null,
      "id": "92dca19b",
      "metadata": {
        "id": "92dca19b",
        "vscode": {
          "languageId": "markdown"
        }
      },
      "outputs": [],
      "source": []
    }
  ],
  "metadata": {
    "colab": {
      "include_colab_link": true,
      "provenance": [],
      "toc_visible": true
    },
    "kernelspec": {
      "display_name": "python311env",
      "language": "python",
      "name": "python3"
    },
    "language_info": {
      "codemirror_mode": {
        "name": "ipython",
        "version": 3
      },
      "file_extension": ".py",
      "mimetype": "text/x-python",
      "name": "python",
      "nbconvert_exporter": "python",
      "pygments_lexer": "ipython3",
      "version": "3.12.2"
    }
  },
  "nbformat": 4,
  "nbformat_minor": 5
}
