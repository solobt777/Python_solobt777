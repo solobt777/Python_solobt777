{
  "cells": [
    {
      "cell_type": "markdown",
      "metadata": {
        "id": "view-in-github",
        "colab_type": "text"
      },
      "source": [
        "<a href=\"https://colab.research.google.com/github/solobt777/Python_solobt777/blob/main/Week-3-Machine-Learning-Assignments/Problem_Identification_Assignments.ipynb\" target=\"_parent\"><img src=\"https://colab.research.google.com/assets/colab-badge.svg\" alt=\"Open In Colab\"/></a>"
      ]
    },
    {
      "cell_type": "code",
      "source": [
        "from google.colab import drive\n",
        "drive.mount('/content/drive')"
      ],
      "metadata": {
        "colab": {
          "base_uri": "https://localhost:8080/"
        },
        "id": "5k3yhoHWGMW7",
        "outputId": "aae6ab1f-1a2e-4faa-d6f2-bb8c4d61b884"
      },
      "id": "5k3yhoHWGMW7",
      "execution_count": 2,
      "outputs": [
        {
          "output_type": "stream",
          "name": "stdout",
          "text": [
            "Drive already mounted at /content/drive; to attempt to forcibly remount, call drive.mount(\"/content/drive\", force_remount=True).\n"
          ]
        }
      ]
    },
    {
      "cell_type": "markdown",
      "id": "f37d3837",
      "metadata": {
        "id": "f37d3837"
      },
      "source": [
        "## Problem Statement ASKED by Hope AI and Solution Provided by Solomon\n",
        "\n",
        "## Hope Artificial Intelligence\n",
        "- Scenario Based Learning\n",
        "- A company works with number of employees, all the works are dependents on the employees. Even if one of the employees resign the job immediately then assigned work will be not finished at the time, so delivery of the project to the clients will be delayed. Company planned to make solution for this, they want to know which employee may resign this month or next. If they know previously, they can arrange alternative to avoid such problem. As an Al Engineer you must give Solution to this.\n",
        "\n",
        "#### A) How will you achieve this in Al?\n",
        "####  B) Find out the 3 -Stage of Problem Identification\n",
        "####  C) Name the project\n",
        "####  D) Create the dummy Dataset."
      ]
    },
    {
      "cell_type": "markdown",
      "id": "4f69d55d",
      "metadata": {
        "id": "4f69d55d"
      },
      "source": [
        "## A) Achieving this in AI:\n",
        "- Use predictive analytics and machine learning to forecast employee attrition (resignation).\n",
        "- Collect historical employee data, train a classification model (e.g., logistic regression, random forest)\n",
        "- to predict the likelihood of resignation based on features like satisfaction, tenure, performance, etc.\n",
        "\n",
        "## B) 3-Stage Problem Identification:\n",
        "- 1. Data Collection: Gather employee data (demographics, performance, satisfaction, attendance, etc.)\n",
        "- 2. Feature Engineering & Analysis: Identify key factors influencing resignation, preprocess data.\n",
        "- 3. Model Development & Evaluation: Build and validate a predictive model to identify at-risk employees.\n",
        "\n",
        "## C) Project Name: \"Employee Attrition Prediction System\"\n",
        "\n",
        "## D) Dummy Dataset Creation"
      ]
    },
    {
      "cell_type": "code",
      "execution_count": null,
      "id": "ddf6c3fa",
      "metadata": {
        "vscode": {
          "languageId": "markdown"
        },
        "id": "ddf6c3fa",
        "outputId": "d0243377-1288-4fab-ab87-c0e434a770a6"
      },
      "outputs": [
        {
          "name": "stdout",
          "output_type": "stream",
          "text": [
            "   EmployeeID  Age  Department  YearsAtCompany  JobSatisfaction  \\\n",
            "0           1   50          IT              10                3   \n",
            "1           2   36     Finance               3                2   \n",
            "2           3   29  Operations               2                4   \n",
            "3           4   42     Finance               9                3   \n",
            "4           5   40          IT               2                3   \n",
            "\n",
            "   PerformanceRating  MonthlyIncome OverTime  ResignedNextMonth  \n",
            "0                  4          74638      Yes                  0  \n",
            "1                  4          88666      Yes                  0  \n",
            "2                  2          82215      Yes                  0  \n",
            "3                  4          84042      Yes                  0  \n",
            "4                  2          28284       No                  0  \n"
          ]
        }
      ],
      "source": [
        "import pandas as pd\n",
        "import numpy as np\n",
        "\n",
        "\n",
        "\n",
        "np.random.seed(42)\n",
        "num_employees = 100\n",
        "\n",
        "dummy_data = pd.DataFrame({\n",
        "    'EmployeeID': range(1, num_employees + 1),\n",
        "    'Age': np.random.randint(22, 60, num_employees),\n",
        "    'Department': np.random.choice(['IT', 'HR', 'Finance', 'Sales', 'Operations'], num_employees),\n",
        "    'YearsAtCompany': np.random.randint(0, 15, num_employees),\n",
        "    'JobSatisfaction': np.random.randint(1, 5, num_employees),  # 1: Low, 4: High\n",
        "    'PerformanceRating': np.random.randint(1, 5, num_employees),\n",
        "    'MonthlyIncome': np.random.randint(15000, 100000, num_employees),\n",
        "    'OverTime': np.random.choice(['Yes', 'No'], num_employees),\n",
        "    'ResignedNextMonth': np.random.choice([0, 1], num_employees, p=[0.9, 0.1])  # 1: Will resign, 0: Stay\n",
        "})\n",
        "\n",
        "# Display the first few rows\n",
        "print(dummy_data.head())"
      ]
    }
  ],
  "metadata": {
    "kernelspec": {
      "display_name": "python311env",
      "language": "python",
      "name": "python3"
    },
    "language_info": {
      "codemirror_mode": {
        "name": "ipython",
        "version": 3
      },
      "file_extension": ".py",
      "mimetype": "text/x-python",
      "name": "python",
      "nbconvert_exporter": "python",
      "pygments_lexer": "ipython3",
      "version": "3.12.2"
    },
    "colab": {
      "provenance": [],
      "include_colab_link": true
    }
  },
  "nbformat": 4,
  "nbformat_minor": 5
}