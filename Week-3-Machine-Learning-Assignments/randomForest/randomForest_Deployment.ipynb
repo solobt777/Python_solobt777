{
 "cells": [
  {
   "cell_type": "code",
   "execution_count": 2,
   "id": "daa34ece",
   "metadata": {},
   "outputs": [],
   "source": [
    "import pandas as pd\n",
    "import numpy as np\n",
    "from sklearn.model_selection import train_test_split\n",
    "from sklearn.ensemble import RandomForestRegressor\n",
    "from sklearn.metrics import r2_score\n",
    "from sklearn.preprocessing import LabelEncoder\n",
    "import joblib\n",
    "import pickle"
   ]
  },
  {
   "cell_type": "code",
   "execution_count": null,
   "id": "9ca11381",
   "metadata": {},
   "outputs": [],
   "source": [
    "df = pd.read_csv('50_Startups.csv')\n",
    "\n",
    "df = pd.get_dummies(df, )\n",
    "df.head()"
   ]
  },
  {
   "cell_type": "code",
   "execution_count": 8,
   "id": "66a9cc8d",
   "metadata": {},
   "outputs": [],
   "source": [
    "independent = df[[d for d in df.columns if d != 'Profit']]\n",
    "dependent = df[['Profit']]"
   ]
  },
  {
   "cell_type": "code",
   "execution_count": 9,
   "id": "e3fa3e96",
   "metadata": {},
   "outputs": [],
   "source": [
    "X_train, X_test, y_train, y_test = train_test_split(independent, dependent, test_size=0.2, random_state=42)"
   ]
  },
  {
   "cell_type": "code",
   "execution_count": 10,
   "id": "4a839da7",
   "metadata": {},
   "outputs": [
    {
     "name": "stdout",
     "output_type": "stream",
     "text": [
      "R2 Score (Joblib): 0.9564282599572764\n",
      "R2 Score (Pickle): 0.9564282599572764\n"
     ]
    },
    {
     "name": "stderr",
     "output_type": "stream",
     "text": [
      "/Users/solomon/Documents/Solo_docs/INTO_United_States/Learning_Path/Hope AI /Start Course/Hope AI hands on Solomon/myevn/lib/python3.13/site-packages/sklearn/base.py:1365: DataConversionWarning: A column-vector y was passed when a 1d array was expected. Please change the shape of y to (n_samples,), for example using ravel().\n",
      "  return fit_method(estimator, *args, **kwargs)\n"
     ]
    }
   ],
   "source": [
    "regressor = RandomForestRegressor(n_estimators=10, random_state=42)\n",
    "regressor.fit(X_train, y_train)\n",
    "y_pred = regressor.predict(X_test)\n",
    "r2_score(y_test, y_pred)\n",
    "# Save the model using joblib\n",
    "joblib.dump(regressor, 'random_forest_model_joblib.pkl')\n",
    "# Save the model using pickle\n",
    "with open('random_forest_model_pickle.pkl', 'wb') as f:\n",
    "    pickle.dump(regressor, f)\n",
    "# Load the model using joblib\n",
    "loaded_model_joblib = joblib.load('random_forest_model_joblib.pkl')\n",
    "# Load the model using pickle\n",
    "with open('random_forest_model_pickle.pkl', 'rb') as f:\n",
    "    loaded_model_pickle = pickle.load(f)\n",
    "# Verify that the loaded models give the same predictions\n",
    "y_pred_joblib = loaded_model_joblib.predict(X_test)\n",
    "y_pred_pickle = loaded_model_pickle.predict(X_test)\n",
    "print(\"R2 Score (Joblib):\", r2_score(y_test, y_pred_joblib))\n",
    "print(\"R2 Score (Pickle):\", r2_score(y_test, y_pred_pickle))"
   ]
  }
 ],
 "metadata": {
  "kernelspec": {
   "display_name": "myevn",
   "language": "python",
   "name": "python3"
  },
  "language_info": {
   "codemirror_mode": {
    "name": "ipython",
    "version": 3
   },
   "file_extension": ".py",
   "mimetype": "text/x-python",
   "name": "python",
   "nbconvert_exporter": "python",
   "pygments_lexer": "ipython3",
   "version": "3.13.0"
  }
 },
 "nbformat": 4,
 "nbformat_minor": 5
}
