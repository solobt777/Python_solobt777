{
 "cells": [
  {
   "cell_type": "markdown",
   "id": "d1c11d1a",
   "metadata": {},
   "source": [
    "#### Regression Assignment\n",
    "- 1. Domain -- Supervise Learning\n",
    "- 2. Type - Regression\n",
    "- 3. Multiple Linear Regression"
   ]
  },
  {
   "cell_type": "markdown",
   "id": "bf6210e4",
   "metadata": {},
   "source": [
    "- fit_intercept - Controls whether to calculate the intercept term (default: True)\n",
    "- copy_X - Whether to copy the input data (default: True)\n",
    "- n_jobs - Number of CPU cores to use for computation (default: None, -1 uses all)\n",
    "- positive - Forces all coefficients to be non-negative (default: False)"
   ]
  },
  {
   "cell_type": "code",
   "execution_count": 21,
   "id": "a3f4384f",
   "metadata": {},
   "outputs": [],
   "source": [
    "import pandas as pd\n",
    "from sklearn.model_selection import train_test_split\n",
    "from sklearn.linear_model import LinearRegression\n",
    "from sklearn.metrics import mean_squared_error, mean_absolute_error, r2_score\n",
    "import numpy as np\n",
    "from sklearn.preprocessing import StandardScaler\n"
   ]
  },
  {
   "cell_type": "code",
   "execution_count": 22,
   "id": "84534a8f",
   "metadata": {},
   "outputs": [],
   "source": [
    "df = pd.read_csv('insurance_pre.csv')\n",
    "df = pd.get_dummies(df, drop_first=True)\n",
    "X = df.drop('charges', axis=1)\n",
    "y = df['charges']\n",
    "X_train, X_test, y_train, y_test = train_test_split(X, y, test_size=0.2, random_state=42)"
   ]
  },
  {
   "cell_type": "code",
   "execution_count": 23,
   "id": "f962661e",
   "metadata": {},
   "outputs": [],
   "source": [
    "X_train = StandardScaler().fit_transform(X_train)\n",
    "X_test = StandardScaler().fit_transform(X_test)"
   ]
  },
  {
   "cell_type": "code",
   "execution_count": 28,
   "id": "a4b7a4ea",
   "metadata": {},
   "outputs": [],
   "source": [
    "# Define different parameter combinations\n",
    "param_combinations = [\n",
    "    {'fit_intercept': True, 'copy_X': True, 'n_jobs': None, 'positive': False},\n",
    "    {'fit_intercept': False, 'copy_X': True, 'n_jobs': None, 'positive': False},\n",
    "    {'fit_intercept': True, 'copy_X': True, 'n_jobs': -1, 'positive': False},\n",
    "    {'fit_intercept': True, 'copy_X': True, 'n_jobs': None, 'positive': True},\n",
    "]"
   ]
  },
  {
   "cell_type": "code",
   "execution_count": 32,
   "id": "10063b0f",
   "metadata": {},
   "outputs": [
    {
     "name": "stdout",
     "output_type": "stream",
     "text": [
      "\n",
      "--- Configuration 0 ---\n",
      "Parameters: {'fit_intercept': True, 'copy_X': True, 'n_jobs': None, 'positive': False}\n",
      "Coefficients: [ 3.61628729e+03  1.97848617e+03  5.19291478e+02 -3.97472024e+00\n",
      "  9.55960269e+03]\n",
      "Intercept: 13346.0897\n",
      "MSE: 33997720.0109\n",
      "R² Score: 0.7810\n",
      "\n",
      "--- Configuration 1 ---\n",
      "Parameters: {'fit_intercept': False, 'copy_X': True, 'n_jobs': None, 'positive': False}\n",
      "Coefficients: [ 3.61628729e+03  1.97848617e+03  5.19291478e+02 -3.97472024e+00\n",
      "  9.55960269e+03]\n",
      "Intercept: Not fitted (fit_intercept=False)\n",
      "MSE: 202032255.2612\n",
      "R² Score: -0.3013\n",
      "\n",
      "--- Configuration 2 ---\n",
      "Parameters: {'fit_intercept': True, 'copy_X': True, 'n_jobs': -1, 'positive': False}\n",
      "Coefficients: [ 3.61628729e+03  1.97848617e+03  5.19291478e+02 -3.97472024e+00\n",
      "  9.55960269e+03]\n",
      "Intercept: 13346.0897\n",
      "MSE: 33997720.0109\n",
      "R² Score: 0.7810\n",
      "\n",
      "--- Configuration 3 ---\n",
      "Parameters: {'fit_intercept': True, 'copy_X': True, 'n_jobs': None, 'positive': True}\n",
      "Coefficients: [3616.31817628 1978.4204322   519.22528737    0.         9559.32315794]\n",
      "Intercept: 13346.0897\n",
      "MSE: 34000144.7959\n",
      "R² Score: 0.7810\n"
     ]
    }
   ],
   "source": [
    "results = []\n",
    "for idx, params in enumerate(param_combinations):\n",
    "    print(f\"\\n--- Configuration {idx} ---\")\n",
    "    print(f\"Parameters: {params}\")\n",
    "    \n",
    "    # Create and train model\n",
    "    model = LinearRegression(**params)\n",
    "    model.fit(X_train, y_train)\n",
    "    \n",
    "    # Make predictions\n",
    "    y_pred = model.predict(X_test)\n",
    "    \n",
    "    # Calculate metrics\n",
    "    mse = mean_squared_error(y_test, y_pred)\n",
    "    r2 = r2_score(y_test, y_pred)\n",
    "    \n",
    "    print(f\"Coefficients: {model.coef_}\")\n",
    "    if model.fit_intercept:\n",
    "        print(f\"Intercept: {model.intercept_:.4f}\")\n",
    "    else:\n",
    "        print(f\"Intercept: Not fitted (fit_intercept=False)\")\n",
    "        \n",
    "    print(f\"MSE: {mse:.4f}\")\n",
    "    print(f\"R² Score: {r2:.4f}\")\n",
    "    \n",
    "    results.append({\n",
    "        'config': idx,\n",
    "        'params': str(params),\n",
    "        'mse': mse,\n",
    "        'r2': r2,\n",
    "        'intercept': model.intercept_ if model.fit_intercept else None\n",
    "    })\n"
   ]
  },
  {
   "cell_type": "code",
   "execution_count": 25,
   "id": "7200c0c9",
   "metadata": {},
   "outputs": [
    {
     "data": {
      "text/plain": [
       "0.7810112863132487"
      ]
     },
     "execution_count": 25,
     "metadata": {},
     "output_type": "execute_result"
    }
   ],
   "source": [
    "regressor = LinearRegression()\n",
    "regressor.fit(X_train, y_train) \n",
    "y_pred = regressor.predict(X_test)\n",
    "mse = mean_squared_error(y_test, y_pred)\n",
    "mae = mean_absolute_error(y_test, y_pred)\n",
    "r2 = r2_score(y_test, y_pred)\n",
    "\n",
    "r2"
   ]
  }
 ],
 "metadata": {
  "kernelspec": {
   "display_name": "myevn",
   "language": "python",
   "name": "python3"
  },
  "language_info": {
   "codemirror_mode": {
    "name": "ipython",
    "version": 3
   },
   "file_extension": ".py",
   "mimetype": "text/x-python",
   "name": "python",
   "nbconvert_exporter": "python",
   "pygments_lexer": "ipython3",
   "version": "3.13.0"
  }
 },
 "nbformat": 4,
 "nbformat_minor": 5
}
