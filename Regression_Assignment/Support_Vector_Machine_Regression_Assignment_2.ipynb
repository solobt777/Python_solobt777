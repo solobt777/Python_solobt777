{
  "cells": [
    {
      "cell_type": "markdown",
      "metadata": {
        "id": "view-in-github",
        "colab_type": "text"
      },
      "source": [
        "<a href=\"https://colab.research.google.com/github/solobt777/Python_solobt777/blob/main/Regression_Assignment/Support_Vector_Machine_Regression_Assignment_2.ipynb\" target=\"_parent\"><img src=\"https://colab.research.google.com/assets/colab-badge.svg\" alt=\"Open In Colab\"/></a>"
      ]
    },
    {
      "cell_type": "markdown",
      "id": "d1c11d1a",
      "metadata": {
        "id": "d1c11d1a"
      },
      "source": [
        "#### Regression Assignment\n",
        "- 1. Domain -- Supervise Learning\n",
        "- 2. Type - Regression\n",
        "- 3. Multiple Linear Regression"
      ]
    },
    {
      "cell_type": "markdown",
      "id": "cdf65b13",
      "metadata": {
        "id": "cdf65b13"
      },
      "source": [
        "- kernel - Type of kernel function: 'rbf', 'linear', 'poly', 'sigmoid'\n",
        "- C - Regularization (higher = fit data more closely, lower = more regularization)\n",
        "- epsilon - Size of epsilon-tube (predictions within this margin have no penalty)\n",
        "- gamma - Kernel coefficient affecting decision boundary curvature\n",
        "- degree - Polynomial degree (only for 'poly' kernel)\n",
        "- coef0 - Independent term for 'poly' and 'sigmoid' kernels\n",
        "- shrinking - Heuristic to speed up training\n",
        "- cache_size - Kernel cache memory in MB"
      ]
    },
    {
      "cell_type": "code",
      "execution_count": null,
      "id": "a3f4384f",
      "metadata": {
        "id": "a3f4384f"
      },
      "outputs": [],
      "source": [
        "import pandas as pd\n",
        "from sklearn.model_selection import train_test_split\n",
        "from sklearn.linear_model import LinearRegression\n",
        "from sklearn.svm import SVR\n",
        "from sklearn.metrics import mean_squared_error, mean_absolute_error, r2_score\n",
        "import numpy as np\n",
        "from sklearn.preprocessing import StandardScaler\n",
        "import time\n",
        "\n",
        "\n"
      ]
    },
    {
      "cell_type": "code",
      "execution_count": null,
      "id": "84534a8f",
      "metadata": {
        "id": "84534a8f",
        "outputId": "c3cb3428-45cc-43f9-dfef-5776ad40073e"
      },
      "outputs": [
        {
          "data": {
            "text/html": [
              "<div>\n",
              "<style scoped>\n",
              "    .dataframe tbody tr th:only-of-type {\n",
              "        vertical-align: middle;\n",
              "    }\n",
              "\n",
              "    .dataframe tbody tr th {\n",
              "        vertical-align: top;\n",
              "    }\n",
              "\n",
              "    .dataframe thead th {\n",
              "        text-align: right;\n",
              "    }\n",
              "</style>\n",
              "<table border=\"1\" class=\"dataframe\">\n",
              "  <thead>\n",
              "    <tr style=\"text-align: right;\">\n",
              "      <th></th>\n",
              "      <th>age</th>\n",
              "      <th>bmi</th>\n",
              "      <th>children</th>\n",
              "      <th>charges</th>\n",
              "      <th>sex_male</th>\n",
              "      <th>smoker_yes</th>\n",
              "    </tr>\n",
              "  </thead>\n",
              "  <tbody>\n",
              "    <tr>\n",
              "      <th>0</th>\n",
              "      <td>19</td>\n",
              "      <td>27.900</td>\n",
              "      <td>0</td>\n",
              "      <td>16884.92400</td>\n",
              "      <td>False</td>\n",
              "      <td>True</td>\n",
              "    </tr>\n",
              "    <tr>\n",
              "      <th>1</th>\n",
              "      <td>18</td>\n",
              "      <td>33.770</td>\n",
              "      <td>1</td>\n",
              "      <td>1725.55230</td>\n",
              "      <td>True</td>\n",
              "      <td>False</td>\n",
              "    </tr>\n",
              "    <tr>\n",
              "      <th>2</th>\n",
              "      <td>28</td>\n",
              "      <td>33.000</td>\n",
              "      <td>3</td>\n",
              "      <td>4449.46200</td>\n",
              "      <td>True</td>\n",
              "      <td>False</td>\n",
              "    </tr>\n",
              "    <tr>\n",
              "      <th>3</th>\n",
              "      <td>33</td>\n",
              "      <td>22.705</td>\n",
              "      <td>0</td>\n",
              "      <td>21984.47061</td>\n",
              "      <td>True</td>\n",
              "      <td>False</td>\n",
              "    </tr>\n",
              "    <tr>\n",
              "      <th>4</th>\n",
              "      <td>32</td>\n",
              "      <td>28.880</td>\n",
              "      <td>0</td>\n",
              "      <td>3866.85520</td>\n",
              "      <td>True</td>\n",
              "      <td>False</td>\n",
              "    </tr>\n",
              "  </tbody>\n",
              "</table>\n",
              "</div>"
            ],
            "text/plain": [
              "   age     bmi  children      charges  sex_male  smoker_yes\n",
              "0   19  27.900         0  16884.92400     False        True\n",
              "1   18  33.770         1   1725.55230      True       False\n",
              "2   28  33.000         3   4449.46200      True       False\n",
              "3   33  22.705         0  21984.47061      True       False\n",
              "4   32  28.880         0   3866.85520      True       False"
            ]
          },
          "execution_count": 35,
          "metadata": {},
          "output_type": "execute_result"
        }
      ],
      "source": [
        "df = pd.read_csv('insurance_pre.csv')\n",
        "df = pd.get_dummies(df, drop_first=True)\n",
        "\n",
        "# X = df.drop('charges', axis=1)\n",
        "# y = df['charges']\n",
        "X_train = df.drop('charges', axis=1).iloc[X_train.index]\n",
        "X_test = df.drop('charges', axis=1).iloc[X_test.index]\n",
        "\n",
        "X_train, X_test, y_train, y_test = train_test_split(X, y, test_size=0.2, random_state=42)\n",
        "\n",
        "df.head()"
      ]
    },
    {
      "cell_type": "code",
      "execution_count": null,
      "id": "f962661e",
      "metadata": {
        "id": "f962661e"
      },
      "outputs": [],
      "source": [
        "# Properly scale y_train and y_test using StandardScaler\n",
        "sc = StandardScaler()\n",
        "\n",
        "\n",
        "# Scale features\n",
        "X_train = sc.fit_transform(X_train)\n",
        "X_test = sc.transform(X_test)\n",
        "\n",
        "\n",
        "# Now you can use y_train_scaled for fitting\n",
        "# And use scaler_y.inverse_transform to get predictions back to original scale"
      ]
    },
    {
      "cell_type": "code",
      "execution_count": null,
      "id": "a4b7a4ea",
      "metadata": {
        "id": "a4b7a4ea"
      },
      "outputs": [],
      "source": [
        "# Define different parameter combinations\n",
        "param_combinations = [\n",
        "    # Default RBF kernel\n",
        "    {'kernel': 'rbf', 'C': 3000, 'epsilon': 0.1, 'gamma': 'scale'},\n",
        "\n",
        "    # RBF with different C values (regularization)\n",
        "    {'kernel': 'rbf', 'C': 0.1, 'epsilon': 0.1, 'gamma': 'scale'},\n",
        "    {'kernel': 'rbf', 'C': 10.0, 'epsilon': 0.1, 'gamma': 'scale'},\n",
        "\n",
        "    # RBF with different epsilon values (margin of tolerance)\n",
        "    {'kernel': 'rbf', 'C': 1.0, 'epsilon': 0.01, 'gamma': 'scale'},\n",
        "    {'kernel': 'rbf', 'C': 1.0, 'epsilon': 0.5, 'gamma': 'scale'},\n",
        "\n",
        "    # RBF with different gamma values\n",
        "    {'kernel': 'rbf', 'C': 1.0, 'epsilon': 0.1, 'gamma': 'auto'},\n",
        "    {'kernel': 'rbf', 'C': 1.0, 'epsilon': 0.1, 'gamma': 0.1},\n",
        "\n",
        "    # Linear kernel\n",
        "    {'kernel': 'linear', 'C': 1.0, 'epsilon': 0.1},\n",
        "\n",
        "    # Polynomial kernel\n",
        "    {'kernel': 'poly', 'degree': 2, 'C': 1.0, 'epsilon': 0.1, 'coef0': 1.0},\n",
        "    {'kernel': 'poly', 'degree': 3, 'C': 1.0, 'epsilon': 0.1, 'coef0': 1.0},\n",
        "\n",
        "    # Sigmoid kernel\n",
        "    {'kernel': 'sigmoid', 'C': 1.0, 'epsilon': 0.1, 'gamma': 'scale', 'coef0': 0.0},\n",
        "\n",
        "    # Advanced: shrinking and cache_size\n",
        "    {'kernel': 'rbf', 'C': 1.0, 'epsilon': 0.1, 'gamma': 'scale', 'shrinking': False, 'cache_size': 500},\n",
        "]"
      ]
    },
    {
      "cell_type": "code",
      "execution_count": null,
      "id": "10063b0f",
      "metadata": {
        "id": "10063b0f",
        "outputId": "1854b03e-06b2-402e-f039-72be966f11fd"
      },
      "outputs": [
        {
          "name": "stdout",
          "output_type": "stream",
          "text": [
            "\n",
            "--- Configuration 0 ---\n",
            "Parameters: {'kernel': 'rbf', 'C': 3000, 'epsilon': 0.1, 'gamma': 'scale'}\n",
            "R² Score: -247231295.6832\n",
            "\n",
            "--- Configuration 1 ---\n",
            "Parameters: {'kernel': 'rbf', 'C': 0.1, 'epsilon': 0.1, 'gamma': 'scale'}\n",
            "R² Score: -85221683.8562\n",
            "\n",
            "--- Configuration 2 ---\n",
            "Parameters: {'kernel': 'rbf', 'C': 10.0, 'epsilon': 0.1, 'gamma': 'scale'}\n",
            "R² Score: -82564963.5655\n",
            "\n",
            "--- Configuration 3 ---\n",
            "Parameters: {'kernel': 'rbf', 'C': 1.0, 'epsilon': 0.01, 'gamma': 'scale'}\n",
            "R² Score: -85031298.9455\n",
            "\n",
            "--- Configuration 4 ---\n",
            "Parameters: {'kernel': 'rbf', 'C': 1.0, 'epsilon': 0.5, 'gamma': 'scale'}\n",
            "R² Score: -85031298.9455\n",
            "\n",
            "--- Configuration 5 ---\n",
            "Parameters: {'kernel': 'rbf', 'C': 1.0, 'epsilon': 0.1, 'gamma': 'auto'}\n",
            "R² Score: -85031298.9455\n",
            "\n",
            "--- Configuration 6 ---\n",
            "Parameters: {'kernel': 'rbf', 'C': 1.0, 'epsilon': 0.1, 'gamma': 0.1}\n",
            "R² Score: -85100145.2597\n",
            "\n",
            "--- Configuration 7 ---\n",
            "Parameters: {'kernel': 'linear', 'C': 1.0, 'epsilon': 0.1}\n",
            "R² Score: -83262125.9485\n",
            "\n",
            "--- Configuration 8 ---\n",
            "Parameters: {'kernel': 'poly', 'degree': 2, 'C': 1.0, 'epsilon': 0.1, 'coef0': 1.0}\n",
            "R² Score: -84824878.6544\n",
            "\n",
            "--- Configuration 9 ---\n",
            "Parameters: {'kernel': 'poly', 'degree': 3, 'C': 1.0, 'epsilon': 0.1, 'coef0': 1.0}\n",
            "R² Score: -85096521.2960\n",
            "\n",
            "--- Configuration 10 ---\n",
            "Parameters: {'kernel': 'sigmoid', 'C': 1.0, 'epsilon': 0.1, 'gamma': 'scale', 'coef0': 0.0}\n",
            "R² Score: -84958796.9561\n",
            "\n",
            "--- Configuration 11 ---\n",
            "Parameters: {'kernel': 'rbf', 'C': 1.0, 'epsilon': 0.1, 'gamma': 'scale', 'shrinking': False, 'cache_size': 500}\n",
            "R² Score: -85031298.9455\n"
          ]
        }
      ],
      "source": [
        "results = []\n",
        "for idx, params in enumerate(param_combinations):\n",
        "    print(f\"\\n--- Configuration {idx} ---\")\n",
        "    print(f\"Parameters: {params}\")\n",
        "\n",
        "    # Create and train model\n",
        "    start_time = time.time()\n",
        "    model = SVR(**params)\n",
        "    model.fit(X_train, y_train)\n",
        "    train_time = time.time() - start_time\n",
        "\n",
        "    # Make predictions\n",
        "    y_pred_scaled = model.predict(X_test)\n",
        "    y_pred = scaler_y.inverse_transform(y_pred_scaled.reshape(-1, 1)).ravel()\n",
        "\n",
        "    # Calculate metrics\n",
        "    mse = mean_squared_error(y_test, y_pred)\n",
        "    mae = mean_absolute_error(y_test, y_pred)\n",
        "    r2 = r2_score(y_test, y_pred)\n",
        "\n",
        "    # print(f\"Training time: {train_time:.4f}s\")\n",
        "    # print(f\"Support vectors: {len(model.support_)}\")\n",
        "    # print(f\"MSE: {mse:.4f}\")\n",
        "    # print(f\"MAE: {mae:.4f}\")\n",
        "    print(f\"R² Score: {r2:.4f}\")\n",
        "\n",
        "    results.append({\n",
        "        'config': idx,\n",
        "        'kernel': params.get('kernel', 'rbf'),\n",
        "        'C': params.get('C', 1.0),\n",
        "        'epsilon': params.get('epsilon', 0.1),\n",
        "        'gamma': params.get('gamma', 'scale'),\n",
        "        'mse': mse,\n",
        "        'mae': mae,\n",
        "        'r2': r2,\n",
        "        'train_time': train_time,\n",
        "        'n_support': len(model.support_)\n",
        "    })\n"
      ]
    },
    {
      "cell_type": "code",
      "execution_count": null,
      "id": "7200c0c9",
      "metadata": {
        "id": "7200c0c9",
        "outputId": "3d03d80e-0a81-4b17-8ef0-29085ef5eec4"
      },
      "outputs": [
        {
          "data": {
            "text/plain": [
              "0.7810112863132487"
            ]
          },
          "execution_count": 25,
          "metadata": {},
          "output_type": "execute_result"
        }
      ],
      "source": [
        "regressor = LinearRegression()\n",
        "regressor.fit(X_train, y_train)\n",
        "y_pred = regressor.predict(X_test)\n",
        "mse = mean_squared_error(y_test, y_pred)\n",
        "mae = mean_absolute_error(y_test, y_pred)\n",
        "r2 = r2_score(y_test, y_pred)\n",
        "\n",
        "r2"
      ]
    }
  ],
  "metadata": {
    "kernelspec": {
      "display_name": "myevn",
      "language": "python",
      "name": "python3"
    },
    "language_info": {
      "codemirror_mode": {
        "name": "ipython",
        "version": 3
      },
      "file_extension": ".py",
      "mimetype": "text/x-python",
      "name": "python",
      "nbconvert_exporter": "python",
      "pygments_lexer": "ipython3",
      "version": "3.13.0"
    },
    "colab": {
      "provenance": [],
      "include_colab_link": true
    }
  },
  "nbformat": 4,
  "nbformat_minor": 5
}