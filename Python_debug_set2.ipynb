{
  "cells": [
    {
      "cell_type": "markdown",
      "metadata": {
        "id": "view-in-github",
        "colab_type": "text"
      },
      "source": [
        "<a href=\"https://colab.research.google.com/github/solobt777/Python_solobt777/blob/main/Python_debug_set2.ipynb\" target=\"_parent\"><img src=\"https://colab.research.google.com/assets/colab-badge.svg\" alt=\"Open In Colab\"/></a>"
      ]
    },
    {
      "cell_type": "code",
      "execution_count": null,
      "id": "9ab702e0",
      "metadata": {
        "id": "9ab702e0",
        "outputId": "904911d4-dce7-4e1d-9be5-9e4166d13043"
      },
      "outputs": [
        {
          "name": "stdout",
          "output_type": "stream",
          "text": [
            "3\n"
          ]
        }
      ],
      "source": [
        "print(10//3)"
      ]
    },
    {
      "cell_type": "code",
      "execution_count": null,
      "id": "de675ec4",
      "metadata": {
        "id": "de675ec4",
        "outputId": "5c81c1ab-dcdb-43f7-d367-b2491501e8f3"
      },
      "outputs": [
        {
          "data": {
            "text/plain": [
              "['h', 'e', 'l', 'l', 'o']"
            ]
          },
          "execution_count": 2,
          "metadata": {},
          "output_type": "execute_result"
        }
      ],
      "source": [
        "list(\"hello\")"
      ]
    },
    {
      "cell_type": "code",
      "execution_count": null,
      "id": "d7ce269f",
      "metadata": {
        "id": "d7ce269f",
        "outputId": "92e5abee-8875-439e-ac1e-05c449df0425"
      },
      "outputs": [
        {
          "name": "stdout",
          "output_type": "stream",
          "text": [
            "True\n"
          ]
        }
      ],
      "source": [
        "print(3 == 3.0)"
      ]
    },
    {
      "cell_type": "code",
      "execution_count": null,
      "id": "7400e724",
      "metadata": {
        "id": "7400e724",
        "outputId": "d1c4c49e-ab50-4562-b7fe-399426e966ca"
      },
      "outputs": [
        {
          "name": "stdout",
          "output_type": "stream",
          "text": [
            "Hello3\n"
          ]
        }
      ],
      "source": [
        "print(\"Hello\" + str(3))"
      ]
    },
    {
      "cell_type": "code",
      "execution_count": null,
      "id": "cbbe7344",
      "metadata": {
        "id": "cbbe7344",
        "outputId": "524b0478-0230-459b-cc90-28d96c2c1f7a"
      },
      "outputs": [
        {
          "data": {
            "text/plain": [
              "int"
            ]
          },
          "execution_count": 6,
          "metadata": {},
          "output_type": "execute_result"
        }
      ],
      "source": [
        "type(10)"
      ]
    },
    {
      "cell_type": "code",
      "execution_count": null,
      "id": "5b55811f",
      "metadata": {
        "id": "5b55811f",
        "outputId": "c780b9f6-8283-4a2d-e982-90abcdf70c2d"
      },
      "outputs": [
        {
          "data": {
            "text/plain": [
              "True"
            ]
          },
          "execution_count": 7,
          "metadata": {},
          "output_type": "execute_result"
        }
      ],
      "source": [
        "bool(\"False\")"
      ]
    },
    {
      "cell_type": "code",
      "execution_count": null,
      "id": "f35f90cd",
      "metadata": {
        "id": "f35f90cd",
        "outputId": "c3998c18-57be-483d-a7f1-a583685574d0"
      },
      "outputs": [
        {
          "data": {
            "text/plain": [
              "'asf'"
            ]
          },
          "execution_count": 8,
          "metadata": {},
          "output_type": "execute_result"
        }
      ],
      "source": [
        "input(\"Enter something: \")"
      ]
    },
    {
      "cell_type": "code",
      "execution_count": null,
      "id": "22ab86c0",
      "metadata": {
        "id": "22ab86c0"
      },
      "outputs": [],
      "source": [
        "# Correct way to declare a tuple\n",
        "my_tuple = (1, 2, 3)"
      ]
    },
    {
      "cell_type": "code",
      "execution_count": null,
      "id": "304219a5",
      "metadata": {
        "id": "304219a5",
        "outputId": "516a2752-0e2d-4d79-c14e-db2b10fd797c"
      },
      "outputs": [
        {
          "data": {
            "text/plain": [
              "65"
            ]
          },
          "execution_count": 10,
          "metadata": {},
          "output_type": "execute_result"
        }
      ],
      "source": [
        "ord('A')"
      ]
    },
    {
      "cell_type": "code",
      "execution_count": null,
      "id": "4d6d0821",
      "metadata": {
        "id": "4d6d0821",
        "outputId": "53279946-6e5a-4330-9bc7-b6972bcce204"
      },
      "outputs": [
        {
          "name": "stdout",
          "output_type": "stream",
          "text": [
            "8\n"
          ]
        }
      ],
      "source": [
        "print(2 ** 3)"
      ]
    },
    {
      "cell_type": "code",
      "execution_count": null,
      "id": "f4aa2a46",
      "metadata": {
        "id": "f4aa2a46"
      },
      "outputs": [],
      "source": [
        "# The Python keyword used to create a loop that iterates while a condition is true is 'while'"
      ]
    },
    {
      "cell_type": "code",
      "execution_count": null,
      "id": "f239c301",
      "metadata": {
        "id": "f239c301",
        "outputId": "87eb9cae-775e-43b0-eab0-e834f97e0e36"
      },
      "outputs": [
        {
          "name": "stdout",
          "output_type": "stream",
          "text": [
            "2.5\n"
          ]
        }
      ],
      "source": [
        "print(5 / 2)"
      ]
    },
    {
      "cell_type": "code",
      "execution_count": null,
      "id": "30405a86",
      "metadata": {
        "id": "30405a86"
      },
      "outputs": [],
      "source": [
        "# In Python, multiline comments are typically created using multiple single-line comments:\n",
        "# This is line 1\n",
        "# This is line 2\n",
        "\n",
        "# Alternatively, you can use triple quotes (\"\"\" or ''') for multiline strings, which are sometimes used as comments:\n",
        "\"\"\"\n",
        "This is a multiline comment.\n",
        "It spans multiple lines.\n",
        "\"\"\""
      ]
    },
    {
      "cell_type": "code",
      "execution_count": null,
      "id": "0fa7d6a2",
      "metadata": {
        "id": "0fa7d6a2"
      },
      "outputs": [],
      "source": [
        "# The function used to find the length of a string in Python is len()"
      ]
    },
    {
      "cell_type": "code",
      "execution_count": null,
      "id": "01630c58",
      "metadata": {
        "id": "01630c58",
        "outputId": "77fa734e-ad22-455e-f042-37b9595b753b"
      },
      "outputs": [
        {
          "name": "stdout",
          "output_type": "stream",
          "text": [
            "<class 'int'>\n"
          ]
        }
      ],
      "source": [
        "# The output will be: <class 'int'>\n",
        "print(type(5))"
      ]
    },
    {
      "cell_type": "code",
      "execution_count": null,
      "id": "13826525",
      "metadata": {
        "id": "13826525"
      },
      "outputs": [],
      "source": []
    }
  ],
  "metadata": {
    "kernelspec": {
      "display_name": "python311env",
      "language": "python",
      "name": "python3"
    },
    "language_info": {
      "codemirror_mode": {
        "name": "ipython",
        "version": 3
      },
      "file_extension": ".py",
      "mimetype": "text/x-python",
      "name": "python",
      "nbconvert_exporter": "python",
      "pygments_lexer": "ipython3",
      "version": "3.12.2"
    },
    "colab": {
      "provenance": [],
      "include_colab_link": true
    }
  },
  "nbformat": 4,
  "nbformat_minor": 5
}