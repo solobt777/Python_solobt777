{
 "cells": [
  {
   "cell_type": "code",
   "execution_count": 1,
   "id": "9ab702e0",
   "metadata": {},
   "outputs": [
    {
     "name": "stdout",
     "output_type": "stream",
     "text": [
      "3\n"
     ]
    }
   ],
   "source": [
    "print(10//3)"
   ]
  },
  {
   "cell_type": "code",
   "execution_count": 2,
   "id": "de675ec4",
   "metadata": {},
   "outputs": [
    {
     "data": {
      "text/plain": [
       "['h', 'e', 'l', 'l', 'o']"
      ]
     },
     "execution_count": 2,
     "metadata": {},
     "output_type": "execute_result"
    }
   ],
   "source": [
    "list(\"hello\") "
   ]
  },
  {
   "cell_type": "code",
   "execution_count": 3,
   "id": "d7ce269f",
   "metadata": {},
   "outputs": [
    {
     "name": "stdout",
     "output_type": "stream",
     "text": [
      "True\n"
     ]
    }
   ],
   "source": [
    "print(3 == 3.0)"
   ]
  },
  {
   "cell_type": "code",
   "execution_count": 2,
   "id": "7400e724",
   "metadata": {},
   "outputs": [
    {
     "name": "stdout",
     "output_type": "stream",
     "text": [
      "Hello3\n"
     ]
    }
   ],
   "source": [
    "print(\"Hello\" + str(3))"
   ]
  },
  {
   "cell_type": "code",
   "execution_count": 6,
   "id": "cbbe7344",
   "metadata": {},
   "outputs": [
    {
     "data": {
      "text/plain": [
       "int"
      ]
     },
     "execution_count": 6,
     "metadata": {},
     "output_type": "execute_result"
    }
   ],
   "source": [
    "type(10)"
   ]
  },
  {
   "cell_type": "code",
   "execution_count": 7,
   "id": "5b55811f",
   "metadata": {},
   "outputs": [
    {
     "data": {
      "text/plain": [
       "True"
      ]
     },
     "execution_count": 7,
     "metadata": {},
     "output_type": "execute_result"
    }
   ],
   "source": [
    "bool(\"False\")"
   ]
  },
  {
   "cell_type": "code",
   "execution_count": 8,
   "id": "f35f90cd",
   "metadata": {},
   "outputs": [
    {
     "data": {
      "text/plain": [
       "'asf'"
      ]
     },
     "execution_count": 8,
     "metadata": {},
     "output_type": "execute_result"
    }
   ],
   "source": [
    "input(\"Enter something: \")"
   ]
  },
  {
   "cell_type": "code",
   "execution_count": 9,
   "id": "22ab86c0",
   "metadata": {},
   "outputs": [],
   "source": [
    "# Correct way to declare a tuple\n",
    "my_tuple = (1, 2, 3)"
   ]
  },
  {
   "cell_type": "code",
   "execution_count": 10,
   "id": "304219a5",
   "metadata": {},
   "outputs": [
    {
     "data": {
      "text/plain": [
       "65"
      ]
     },
     "execution_count": 10,
     "metadata": {},
     "output_type": "execute_result"
    }
   ],
   "source": [
    "ord('A') "
   ]
  },
  {
   "cell_type": "code",
   "execution_count": 11,
   "id": "4d6d0821",
   "metadata": {},
   "outputs": [
    {
     "name": "stdout",
     "output_type": "stream",
     "text": [
      "8\n"
     ]
    }
   ],
   "source": [
    "print(2 ** 3) "
   ]
  },
  {
   "cell_type": "code",
   "execution_count": null,
   "id": "f4aa2a46",
   "metadata": {},
   "outputs": [],
   "source": [
    "# The Python keyword used to create a loop that iterates while a condition is true is 'while'"
   ]
  },
  {
   "cell_type": "code",
   "execution_count": 12,
   "id": "f239c301",
   "metadata": {},
   "outputs": [
    {
     "name": "stdout",
     "output_type": "stream",
     "text": [
      "2.5\n"
     ]
    }
   ],
   "source": [
    "print(5 / 2) "
   ]
  },
  {
   "cell_type": "code",
   "execution_count": null,
   "id": "30405a86",
   "metadata": {},
   "outputs": [],
   "source": [
    "# In Python, multiline comments are typically created using multiple single-line comments:\n",
    "# This is line 1\n",
    "# This is line 2\n",
    "\n",
    "# Alternatively, you can use triple quotes (\"\"\" or ''') for multiline strings, which are sometimes used as comments:\n",
    "\"\"\"\n",
    "This is a multiline comment.\n",
    "It spans multiple lines.\n",
    "\"\"\""
   ]
  },
  {
   "cell_type": "code",
   "execution_count": null,
   "id": "0fa7d6a2",
   "metadata": {},
   "outputs": [],
   "source": [
    "# The function used to find the length of a string in Python is len()"
   ]
  },
  {
   "cell_type": "code",
   "execution_count": 13,
   "id": "01630c58",
   "metadata": {},
   "outputs": [
    {
     "name": "stdout",
     "output_type": "stream",
     "text": [
      "<class 'int'>\n"
     ]
    }
   ],
   "source": [
    "# The output will be: <class 'int'>\n",
    "print(type(5))"
   ]
  },
  {
   "cell_type": "code",
   "execution_count": null,
   "id": "13826525",
   "metadata": {},
   "outputs": [],
   "source": []
  }
 ],
 "metadata": {
  "kernelspec": {
   "display_name": "python311env",
   "language": "python",
   "name": "python3"
  },
  "language_info": {
   "codemirror_mode": {
    "name": "ipython",
    "version": 3
   },
   "file_extension": ".py",
   "mimetype": "text/x-python",
   "name": "python",
   "nbconvert_exporter": "python",
   "pygments_lexer": "ipython3",
   "version": "3.12.2"
  }
 },
 "nbformat": 4,
 "nbformat_minor": 5
}
