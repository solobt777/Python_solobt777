{
 "cells": [
  {
   "cell_type": "markdown",
   "id": "05dccf68",
   "metadata": {},
   "source": [
    "### Python Set 1 Scenario Baseed Question -> Solutions"
   ]
  }
 ],
 "metadata": {
  "language_info": {
   "name": "python"
  }
 },
 "nbformat": 4,
 "nbformat_minor": 5
}
