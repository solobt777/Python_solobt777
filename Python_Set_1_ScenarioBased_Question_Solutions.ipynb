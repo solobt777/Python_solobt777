{
  "cells": [
    {
      "cell_type": "markdown",
      "metadata": {
        "id": "view-in-github",
        "colab_type": "text"
      },
      "source": [
        "<a href=\"https://colab.research.google.com/github/solobt777/Python_solobt777/blob/main/Python_Set_1_ScenarioBased_Question_Solutions.ipynb\" target=\"_parent\"><img src=\"https://colab.research.google.com/assets/colab-badge.svg\" alt=\"Open In Colab\"/></a>"
      ]
    },
    {
      "cell_type": "markdown",
      "id": "05dccf68",
      "metadata": {
        "id": "05dccf68"
      },
      "source": [
        "### Python Set 1 Scenario Baseed Question -> Solutions"
      ]
    },
    {
      "cell_type": "code",
      "source": [
        "# A system checks if a user is eligible to vote based on their age.\n",
        "\n",
        "def check_voting_eligibility():\n",
        "  \"\"\"Checks if a user is eligible to vote based on their age.\"\"\"\n",
        "  try:\n",
        "    age = int(input(\"Please enter your age: \"))\n",
        "    voting_age = 18 # You can change this to the relevant voting age\n",
        "\n",
        "    if age >= voting_age:\n",
        "      print(\"You are eligible to vote.\")\n",
        "    else:\n",
        "      print(f\"You are not eligible to vote yet. You can vote in {voting_age - age} years.\")\n",
        "  except ValueError:\n",
        "    print(\"Invalid input. Please enter a valid age as a number.\")\n",
        "\n",
        "check_voting_eligibility()"
      ],
      "metadata": {
        "id": "UVrfRQs8kD9u"
      },
      "id": "UVrfRQs8kD9u",
      "execution_count": null,
      "outputs": []
    },
    {
      "cell_type": "markdown",
      "source": [
        "### Scenario: A program processes a list of numbers and needs to find the largest value.\n",
        "- Write logic to identify and return the largest number from a given list."
      ],
      "metadata": {
        "id": "mGj8ph6XkJ5Y"
      },
      "id": "mGj8ph6XkJ5Y"
    },
    {
      "cell_type": "markdown",
      "source": [
        "## Here are two ways to find the largest number in a list:"
      ],
      "metadata": {
        "id": "XWRPTQ94kW8R"
      },
      "id": "XWRPTQ94kW8R"
    },
    {
      "cell_type": "code",
      "source": [
        "# Method 1: Using a loop\n",
        "def find_largest_loop(numbers):\n",
        "  \"\"\"Finds the largest number in a list using a loop.\"\"\"\n",
        "  if not numbers:\n",
        "    return None  # Handle empty list case\n",
        "\n",
        "  largest = numbers[0]\n",
        "  for number in numbers:\n",
        "    print(number,\" > \",largest)\n",
        "    if number > largest:\n",
        "      largest = number\n",
        "  return largest\n",
        "\n",
        "my_list = [10, 5, 20, 15, 25]\n",
        "largest_number = find_largest_loop(my_list)\n",
        "print(f\"The largest number using a loop is: {largest_number}\")"
      ],
      "metadata": {
        "id": "tQe_ttt1kGjV",
        "outputId": "2c7c58a3-16c4-4fe0-bc00-dbfe7aeadb33",
        "colab": {
          "base_uri": "https://localhost:8080/"
        }
      },
      "id": "tQe_ttt1kGjV",
      "execution_count": 2,
      "outputs": [
        {
          "output_type": "stream",
          "name": "stdout",
          "text": [
            "10  >  10\n",
            "5  >  10\n",
            "20  >  10\n",
            "15  >  20\n",
            "25  >  20\n",
            "The largest number using a loop is: 25\n"
          ]
        }
      ]
    },
    {
      "cell_type": "code",
      "source": [
        "## 2nd way\n",
        "# Method 2: Using the built-in max() function\n",
        "def find_largest_max(numbers):\n",
        "  \"\"\"Finds the largest number in a list using the max() function.\"\"\"\n",
        "  if not numbers:\n",
        "    return None  # Handle empty list case\n",
        "\n",
        "  return max(numbers)\n",
        "\n",
        "my_list = [10, 5, 20, 15, 25]\n",
        "largest_number = find_largest_max(my_list)\n",
        "print(f\"The largest number using max() is: {largest_number}\")"
      ],
      "metadata": {
        "id": "JnYcWvt5kbJ1",
        "outputId": "0a3cb977-b592-4fca-a0f5-79f7345effc6",
        "colab": {
          "base_uri": "https://localhost:8080/"
        }
      },
      "id": "JnYcWvt5kbJ1",
      "execution_count": 1,
      "outputs": [
        {
          "output_type": "stream",
          "name": "stdout",
          "text": [
            "The largest number using max() is: 25\n"
          ]
        }
      ]
    },
    {
      "cell_type": "code",
      "source": [],
      "metadata": {
        "id": "kyU7HjsCkeM6"
      },
      "id": "kyU7HjsCkeM6",
      "execution_count": null,
      "outputs": []
    }
  ],
  "metadata": {
    "language_info": {
      "name": "python"
    },
    "colab": {
      "provenance": [],
      "include_colab_link": true
    },
    "kernelspec": {
      "name": "python3",
      "display_name": "Python 3"
    }
  },
  "nbformat": 4,
  "nbformat_minor": 5
}