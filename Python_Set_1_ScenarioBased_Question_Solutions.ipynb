{
 "cells": [
  {
   "cell_type": "markdown",
   "id": "e7f8b17b",
   "metadata": {},
   "source": [
    "## 1. A system checks if a user is eligible to vote based on their age.\n",
    " - Write logic to ask the user for their age and determine if they are eligible to vote based on whether they are 18 or older.\n"
   ]
  },
  {
   "cell_type": "code",
   "execution_count": 1,
   "id": "062a73f9",
   "metadata": {},
   "outputs": [
    {
     "name": "stdout",
     "output_type": "stream",
     "text": [
      "Sub-fields in AI are:\n",
      "Machine Learning\n",
      "Neural Networks\n",
      "Vision\n",
      "Robotics\n",
      "Speech Processing\n",
      "Natural Language Processing\n"
     ]
    }
   ],
   "source": [
    "## # Create a class and function, and list out the items in the list\n",
    "#Sub-fields in AI are:\n",
    "aiDomains = [\"Machine Learning\",\"Neural Networks\",\"Vision\",\"Robotics\",\"Speech Processing\",\"Natural Language Processing\"]\n",
    "class AIDomains:\n",
    "    def __init__(self):\n",
    "      pass\n",
    "    def subFields(self):\n",
    "        print(\"Sub-fields in AI are:\")\n",
    "        for i in aiDomains:\n",
    "            print(i)\n",
    "AIDomains().subFields()"
   ]
  },
  {
   "cell_type": "markdown",
   "id": "fb60dfdd",
   "metadata": {},
   "source": [
    "## 2.\tScenario: A program processes a list of numbers and needs to find the largest value.\n",
    " - Write logic to identify and return the largest number from a given list.\n"
   ]
  },
  {
   "cell_type": "code",
   "execution_count": null,
   "id": "2b409ff0",
   "metadata": {},
   "outputs": [],
   "source": [
    "# Method 1: Using a loop\n",
    "def find_largest_loop(numbers):\n",
    "  \"\"\"Finds the largest number in a list using a loop.\"\"\"\n",
    "  if not numbers:\n",
    "    return None  # Handle empty list case\n",
    "\n",
    "  largest = numbers[0]\n",
    "  for number in numbers:\n",
    "    print(number,\" > \",largest)\n",
    "    if number > largest:\n",
    "      largest = number\n",
    "  return largest\n",
    "\n",
    "my_list = [10, 5, 20, 15, 25]\n",
    "largest_number = find_largest_loop(my_list)\n",
    "print(f\"The largest number using a loop is: {largest_number}\")"
   ]
  },
  {
   "cell_type": "code",
   "execution_count": null,
   "id": "44625ba4",
   "metadata": {},
   "outputs": [],
   "source": [
    "# Method 2: Using the built-in max() function\n",
    "def find_largest_max(numbers):\n",
    "  \"\"\"Finds the largest number in a list using the max() function.\"\"\"\n",
    "  if not numbers:\n",
    "    return None  # Handle empty list case\n",
    "\n",
    "  return max(numbers)\n",
    "\n",
    "my_list = [10, 5, 20, 15, 25]\n",
    "largest_number = find_largest_max(my_list)\n",
    "print(f\"The largest number using max() is: {largest_number}\")"
   ]
  },
  {
   "cell_type": "markdown",
   "id": "bb410ea5",
   "metadata": {},
   "source": [
    "## 3.Scenario: A company provides employees with a 10% bonus if their salary exceeds $50,000.\n",
    "- Write logic to determine the bonus amount based on the given salary."
   ]
  },
  {
   "cell_type": "code",
   "execution_count": null,
   "id": "27f263cf",
   "metadata": {},
   "outputs": [],
   "source": [
    "# Scenario: A company provides employees with a 10% bonus if their salary exceeds $50,000.\n",
    "# Write logic to determine the bonus amount based on the given salary.\n",
    "\n",
    "def calculate_bonus(salary):\n",
    "  \"\"\"Calculates a 10% bonus for salaries over $50,000.\"\"\"\n",
    "  bonus = 0\n",
    "  if salary > 50000:\n",
    "    bonus = salary * 0.10\n",
    "  return bonus\n",
    "\n",
    "# Example usage:\n",
    "salary1 = 60000\n",
    "bonus1 = calculate_bonus(salary1)\n",
    "print(f\"For a salary of ${salary1}, the bonus is ${bonus1}\")\n",
    "\n",
    "salary2 = 45000\n",
    "bonus2 = calculate_bonus(salary2)\n",
    "print(f\"For a salary of ${salary2}, the bonus is ${bonus2}\")"
   ]
  },
  {
   "cell_type": "markdown",
   "id": "a8634bb8",
   "metadata": {},
   "source": [
    "## 4.Scenario: A program evaluates a number to determine if it is even or odd.\n",
    "- Write logic to check whether a given number is even or odd."
   ]
  },
  {
   "cell_type": "code",
   "execution_count": null,
   "id": "c05d64b3",
   "metadata": {},
   "outputs": [],
   "source": [
    "# Scenario: A program evaluates a number to determine if it is even or odd.\n",
    "# Write logic to check whether a given number is even or odd.\n",
    "\n",
    "def check_even_or_odd(number):\n",
    "  \"\"\"Checks if a number is even or odd.\"\"\"\n",
    "  if number % 2 == 0:\n",
    "    print(f\"{number} is an even number.\")\n",
    "  else:\n",
    "    print(f\"{number} is an odd number.\")\n",
    "\n",
    "# Example usage:\n",
    "check_even_or_odd(7)\n",
    "check_even_or_odd(10)"
   ]
  },
  {
   "cell_type": "markdown",
   "id": "f89cc87b",
   "metadata": {},
   "source": [
    "## 5. Scenario: A text-processing tool reverses a given word or sentence for formatting purposes.\n",
    "-Write logic to take a word or sentence as input and produce its reversed version."
   ]
  },
  {
   "cell_type": "code",
   "execution_count": null,
   "id": "813aadc8",
   "metadata": {},
   "outputs": [],
   "source": [
    "# Scenario: A text-processing tool reverses a given word or sentence for formatting purposes.\n",
    "# Write logic to take a word or sentence as input and produce its reversed version.\n",
    "## first : is start of the slice second : is end of the slice - The -1 is the step value. A step of -1 means that the slicing should proceed from right to left, effectively reversing the sequence.\n",
    "def reverse_text(text):\n",
    "  \"\"\"Reverses a given word or sentence.\"\"\"\n",
    "  return text[::-1] \n",
    "\n",
    "# Example usage:\n",
    "word = \"hello\"\n",
    "reversed_word = reverse_text(word)\n",
    "print(f\"The reversed word of '{word}' is '{reversed_word}'\")\n",
    "\n",
    "sentence = \"This is a sentence\"\n",
    "reversed_sentence = reverse_text(sentence)\n",
    "print(f\"The reversed sentence of '{sentence}' is '{reversed_sentence}'\")"
   ]
  },
  {
   "cell_type": "markdown",
   "id": "ebd7571e",
   "metadata": {},
   "source": [
    "## 6.Scenario: A grading system determines whether a student has passed or failed based on their score.\n",
    "- Write logic to check if a student has passed a subject by scoring at least 40 marks."
   ]
  },
  {
   "cell_type": "code",
   "execution_count": null,
   "id": "4c12a178",
   "metadata": {},
   "outputs": [],
   "source": [
    "# Scenario: A grading system determines whether a student has passed or failed based on their score.\n",
    "# Write logic to check if a student has passed a subject by scoring at least 40 marks.\n",
    "\n",
    "def check_pass_fail(score):\n",
    "  \"\"\"Checks if a student has passed based on a score of at least 40.\"\"\"\n",
    "  passing_score = 40\n",
    "  if score >= passing_score:\n",
    "    print(f\"With a score of {score}, the student has Passed.\")\n",
    "  else:\n",
    "    print(f\"With a score of {score}, the student has Failed.\")\n",
    "\n",
    "# Example usage:\n",
    "check_pass_fail(55)\n",
    "check_pass_fail(38)\n",
    "check_pass_fail(40)"
   ]
  },
  {
   "cell_type": "markdown",
   "id": "1cabc93d",
   "metadata": {},
   "source": [
    "## 7. Scenario: A retail store offers a 20% discount if a customer’s total order exceeds $100. Write logic to calculate the final amount to be paid after applying the discount."
   ]
  },
  {
   "cell_type": "code",
   "execution_count": null,
   "id": "e3dcc46f",
   "metadata": {},
   "outputs": [],
   "source": [
    "# Scenario: A retail store offers a 20% discount if a customer’s total order exceeds $100.\n",
    "# Write logic to calculate the final amount to be paid after applying the discount.\n",
    "\n",
    "def calculate_final_amount(total_amount):\n",
    "  \"\"\"Calculates the final amount after applying a 20% discount if total exceeds $100.\"\"\"\n",
    "  discount_threshold = 100\n",
    "  discount_rate = 0.20 # 20%\n",
    "\n",
    "  final_amount = total_amount\n",
    "  if total_amount > discount_threshold:\n",
    "    discount_amount = total_amount * discount_rate\n",
    "    final_amount = total_amount - discount_amount\n",
    "\n",
    "  return final_amount\n",
    "\n",
    "# Example usage:\n",
    "order_total1 = 120\n",
    "final_price1 = calculate_final_amount(order_total1)\n",
    "print(f\"For an order total of ${order_total1}, the final amount is ${final_price1}\")\n",
    "\n",
    "order_total2 = 80\n",
    "final_price2 = calculate_final_amount(order_total2)\n",
    "print(f\"For an order total of ${order_total2}, the final amount is ${final_price2}\")"
   ]
  },
  {
   "cell_type": "markdown",
   "id": "fa25839d",
   "metadata": {},
   "source": [
    "## 8.Scenario: A banking system processes withdrawal requests and ensures the user has enough balance."
   ]
  },
  {
   "cell_type": "code",
   "execution_count": null,
   "id": "53ef4855",
   "metadata": {},
   "outputs": [],
   "source": [
    "# Scenario: A banking system processes withdrawal requests and ensures the user has enough balance.\n",
    "# Write logic to check if a user has enough balance before allowing a withdrawal and update the remaining balance accordingly.\n",
    "\n",
    "def withdraw(balance, amount):\n",
    "  \"\"\"Processes a withdrawal request, checking for sufficient balance.\"\"\"\n",
    "  if amount <= balance:\n",
    "    balance -= amount\n",
    "    print(f\"Withdrawal successful. Remaining balance: ${balance}\")\n",
    "  else:\n",
    "    print(\"Insufficient funds. Withdrawal denied.\")\n",
    "  return balance\n",
    "\n",
    "# Example usage:\n",
    "account_balance = 1000\n",
    "withdrawal_amount1 = 200\n",
    "account_balance = withdraw(account_balance, withdrawal_amount1)\n",
    "\n",
    "withdrawal_amount2 = 1500\n",
    "account_balance = withdraw(account_balance, withdrawal_amount2)\n",
    "\n",
    "withdrawal_amount3 = 500\n",
    "account_balance = withdraw(account_balance, withdrawal_amount3)"
   ]
  }
 ],
 "metadata": {
  "kernelspec": {
   "display_name": "python311env",
   "language": "python",
   "name": "python3"
  },
  "language_info": {
   "codemirror_mode": {
    "name": "ipython",
    "version": 3
   },
   "file_extension": ".py",
   "mimetype": "text/x-python",
   "name": "python",
   "nbconvert_exporter": "python",
   "pygments_lexer": "ipython3",
   "version": "3.12.2"
  }
 },
 "nbformat": 4,
 "nbformat_minor": 5
}
