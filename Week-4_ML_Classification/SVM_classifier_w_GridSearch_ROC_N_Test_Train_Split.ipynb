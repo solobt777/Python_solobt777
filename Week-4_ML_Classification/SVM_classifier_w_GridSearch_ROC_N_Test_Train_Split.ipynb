{
  "cells": [
    {
      "cell_type": "markdown",
      "metadata": {
        "id": "view-in-github",
        "colab_type": "text"
      },
      "source": [
        "<a href=\"https://colab.research.google.com/github/solobt777/Python_solobt777/blob/main/Week-4_ML_Classification/SVM_classifier_w_GridSearch_ROC_N_Test_Train_Split.ipynb\" target=\"_parent\"><img src=\"https://colab.research.google.com/assets/colab-badge.svg\" alt=\"Open In Colab\"/></a>"
      ]
    },
    {
      "cell_type": "markdown",
      "id": "cf9151a3",
      "metadata": {
        "id": "cf9151a3"
      },
      "source": [
        "#### SVM Classifier with Gridsearch, applied ROC (probability=True), and scoring param, finding individual scores with ROC, F1"
      ]
    },
    {
      "cell_type": "code",
      "execution_count": null,
      "id": "961698d9",
      "metadata": {
        "id": "961698d9"
      },
      "outputs": [],
      "source": [
        "#### SVM claswsificationsifier\n",
        "import pandas as pd\n",
        "import numpy as np\n",
        "import matplotlib.pyplot as plt\n",
        "from sklearn.model_selection import train_test_split, GridSearchCV\n",
        "from sklearn.svm import SVC\n",
        "from sklearn.metrics import classification_report, confusion_matrix, ConfusionMatrixDisplay, f1_score, roc_curve, auc"
      ]
    },
    {
      "cell_type": "code",
      "execution_count": null,
      "id": "f3e01305",
      "metadata": {
        "id": "f3e01305",
        "outputId": "66559e91-344e-4eca-cf4e-505a48fb7854"
      },
      "outputs": [
        {
          "data": {
            "text/html": [
              "<div>\n",
              "<style scoped>\n",
              "    .dataframe tbody tr th:only-of-type {\n",
              "        vertical-align: middle;\n",
              "    }\n",
              "\n",
              "    .dataframe tbody tr th {\n",
              "        vertical-align: top;\n",
              "    }\n",
              "\n",
              "    .dataframe thead th {\n",
              "        text-align: right;\n",
              "    }\n",
              "</style>\n",
              "<table border=\"1\" class=\"dataframe\">\n",
              "  <thead>\n",
              "    <tr style=\"text-align: right;\">\n",
              "      <th></th>\n",
              "      <th>age</th>\n",
              "      <th>bp</th>\n",
              "      <th>al</th>\n",
              "      <th>su</th>\n",
              "      <th>bgr</th>\n",
              "      <th>bu</th>\n",
              "      <th>sc</th>\n",
              "      <th>sod</th>\n",
              "      <th>pot</th>\n",
              "      <th>hrmo</th>\n",
              "      <th>...</th>\n",
              "      <th>pc_normal</th>\n",
              "      <th>pcc_present</th>\n",
              "      <th>ba_present</th>\n",
              "      <th>htn_yes</th>\n",
              "      <th>dm_yes</th>\n",
              "      <th>cad_yes</th>\n",
              "      <th>appet_yes</th>\n",
              "      <th>pe_yes</th>\n",
              "      <th>ane_yes</th>\n",
              "      <th>classification_yes</th>\n",
              "    </tr>\n",
              "  </thead>\n",
              "  <tbody>\n",
              "    <tr>\n",
              "      <th>0</th>\n",
              "      <td>2.0</td>\n",
              "      <td>76.459948</td>\n",
              "      <td>3.0</td>\n",
              "      <td>0.0</td>\n",
              "      <td>148.112676</td>\n",
              "      <td>57.482105</td>\n",
              "      <td>3.077356</td>\n",
              "      <td>137.528754</td>\n",
              "      <td>4.627244</td>\n",
              "      <td>12.518156</td>\n",
              "      <td>...</td>\n",
              "      <td>False</td>\n",
              "      <td>False</td>\n",
              "      <td>False</td>\n",
              "      <td>False</td>\n",
              "      <td>False</td>\n",
              "      <td>False</td>\n",
              "      <td>True</td>\n",
              "      <td>True</td>\n",
              "      <td>False</td>\n",
              "      <td>True</td>\n",
              "    </tr>\n",
              "    <tr>\n",
              "      <th>1</th>\n",
              "      <td>3.0</td>\n",
              "      <td>76.459948</td>\n",
              "      <td>2.0</td>\n",
              "      <td>0.0</td>\n",
              "      <td>148.112676</td>\n",
              "      <td>22.000000</td>\n",
              "      <td>0.700000</td>\n",
              "      <td>137.528754</td>\n",
              "      <td>4.627244</td>\n",
              "      <td>10.700000</td>\n",
              "      <td>...</td>\n",
              "      <td>True</td>\n",
              "      <td>False</td>\n",
              "      <td>False</td>\n",
              "      <td>False</td>\n",
              "      <td>False</td>\n",
              "      <td>False</td>\n",
              "      <td>True</td>\n",
              "      <td>False</td>\n",
              "      <td>False</td>\n",
              "      <td>True</td>\n",
              "    </tr>\n",
              "    <tr>\n",
              "      <th>2</th>\n",
              "      <td>4.0</td>\n",
              "      <td>76.459948</td>\n",
              "      <td>1.0</td>\n",
              "      <td>0.0</td>\n",
              "      <td>99.000000</td>\n",
              "      <td>23.000000</td>\n",
              "      <td>0.600000</td>\n",
              "      <td>138.000000</td>\n",
              "      <td>4.400000</td>\n",
              "      <td>12.000000</td>\n",
              "      <td>...</td>\n",
              "      <td>True</td>\n",
              "      <td>False</td>\n",
              "      <td>False</td>\n",
              "      <td>False</td>\n",
              "      <td>False</td>\n",
              "      <td>False</td>\n",
              "      <td>True</td>\n",
              "      <td>False</td>\n",
              "      <td>False</td>\n",
              "      <td>True</td>\n",
              "    </tr>\n",
              "    <tr>\n",
              "      <th>3</th>\n",
              "      <td>5.0</td>\n",
              "      <td>76.459948</td>\n",
              "      <td>1.0</td>\n",
              "      <td>0.0</td>\n",
              "      <td>148.112676</td>\n",
              "      <td>16.000000</td>\n",
              "      <td>0.700000</td>\n",
              "      <td>138.000000</td>\n",
              "      <td>3.200000</td>\n",
              "      <td>8.100000</td>\n",
              "      <td>...</td>\n",
              "      <td>True</td>\n",
              "      <td>False</td>\n",
              "      <td>False</td>\n",
              "      <td>False</td>\n",
              "      <td>False</td>\n",
              "      <td>False</td>\n",
              "      <td>True</td>\n",
              "      <td>False</td>\n",
              "      <td>True</td>\n",
              "      <td>True</td>\n",
              "    </tr>\n",
              "    <tr>\n",
              "      <th>4</th>\n",
              "      <td>5.0</td>\n",
              "      <td>50.000000</td>\n",
              "      <td>0.0</td>\n",
              "      <td>0.0</td>\n",
              "      <td>148.112676</td>\n",
              "      <td>25.000000</td>\n",
              "      <td>0.600000</td>\n",
              "      <td>137.528754</td>\n",
              "      <td>4.627244</td>\n",
              "      <td>11.800000</td>\n",
              "      <td>...</td>\n",
              "      <td>True</td>\n",
              "      <td>False</td>\n",
              "      <td>False</td>\n",
              "      <td>False</td>\n",
              "      <td>False</td>\n",
              "      <td>False</td>\n",
              "      <td>True</td>\n",
              "      <td>False</td>\n",
              "      <td>False</td>\n",
              "      <td>True</td>\n",
              "    </tr>\n",
              "  </tbody>\n",
              "</table>\n",
              "<p>5 rows × 28 columns</p>\n",
              "</div>"
            ],
            "text/plain": [
              "   age         bp   al   su         bgr         bu        sc         sod  \\\n",
              "0  2.0  76.459948  3.0  0.0  148.112676  57.482105  3.077356  137.528754   \n",
              "1  3.0  76.459948  2.0  0.0  148.112676  22.000000  0.700000  137.528754   \n",
              "2  4.0  76.459948  1.0  0.0   99.000000  23.000000  0.600000  138.000000   \n",
              "3  5.0  76.459948  1.0  0.0  148.112676  16.000000  0.700000  138.000000   \n",
              "4  5.0  50.000000  0.0  0.0  148.112676  25.000000  0.600000  137.528754   \n",
              "\n",
              "        pot       hrmo  ...  pc_normal  pcc_present  ba_present  htn_yes  \\\n",
              "0  4.627244  12.518156  ...      False        False       False    False   \n",
              "1  4.627244  10.700000  ...       True        False       False    False   \n",
              "2  4.400000  12.000000  ...       True        False       False    False   \n",
              "3  3.200000   8.100000  ...       True        False       False    False   \n",
              "4  4.627244  11.800000  ...       True        False       False    False   \n",
              "\n",
              "   dm_yes  cad_yes  appet_yes  pe_yes  ane_yes  classification_yes  \n",
              "0   False    False       True    True    False                True  \n",
              "1   False    False       True   False    False                True  \n",
              "2   False    False       True   False    False                True  \n",
              "3   False    False       True   False     True                True  \n",
              "4   False    False       True   False    False                True  \n",
              "\n",
              "[5 rows x 28 columns]"
            ]
          },
          "execution_count": 22,
          "metadata": {},
          "output_type": "execute_result"
        }
      ],
      "source": [
        "df = pd.read_csv('CKD.csv')\n",
        "\n",
        "df = pd.get_dummies(df, drop_first=True)\n",
        "\n",
        "# df = df.drop('User ID', axis=1)\n",
        "    # X = df.drop('Purchased', axis=1)\n",
        "    # y = df['Purchased']\n",
        "#df = df.drop(['User ID'], axis=1)\n",
        "\n",
        "X = df.drop('classification_yes', axis=1)\n",
        "y = df['classification_yes']\n",
        "df.head()\n"
      ]
    },
    {
      "cell_type": "code",
      "execution_count": null,
      "id": "a8a52ec8",
      "metadata": {
        "id": "a8a52ec8"
      },
      "outputs": [],
      "source": [
        "X_train, X_test, y_train, y_test = train_test_split(X, y, test_size=0.2, random_state=42)"
      ]
    },
    {
      "cell_type": "code",
      "execution_count": null,
      "id": "7fc05f03",
      "metadata": {
        "id": "7fc05f03",
        "outputId": "7ae01401-de33-4615-92bf-dcca4c2493d2"
      },
      "outputs": [
        {
          "name": "stdout",
          "output_type": "stream",
          "text": [
            "Fitting 3 folds for each of 16 candidates, totalling 48 fits\n"
          ]
        },
        {
          "data": {
            "text/plain": [
              "{'C': 100, 'kernel': 'linear'}"
            ]
          },
          "execution_count": 25,
          "metadata": {},
          "output_type": "execute_result"
        }
      ],
      "source": [
        "###  Grid Search CV to find the best parameters for SVC\n",
        "\n",
        "# Stage 1: Quick search with reduced grid\n",
        "param_grid = {'kernel':['rbf','poly','sigmoid','linear'],\n",
        "                'C':[100,1000,2000,3000]}\n",
        "\n",
        "\n",
        "# from sklearn.model_selection import GridSearchCV\n",
        "# gsv = GridSearchCV(SVC(probability=True), param_grid, scoring='f1_weighted', cv=3, verbose=1, n_jobs=4)\n",
        "gsv = GridSearchCV(SVC(probability=True), param_grid, cv=3, verbose=1, n_jobs=4)\n",
        "gsv.fit(X_train, y_train)\n",
        "gsv.best_params_\n"
      ]
    },
    {
      "cell_type": "code",
      "execution_count": null,
      "id": "dd3d0b9f",
      "metadata": {
        "id": "dd3d0b9f",
        "outputId": "fcab7904-cf24-40a5-c4bb-a7427c0a4158"
      },
      "outputs": [
        {
          "name": "stdout",
          "output_type": "stream",
          "text": [
            "Best parameters found:  {'C': 100, 'kernel': 'linear'}\n",
            "Best estimator found:  SVC(C=100, kernel='linear', probability=True)\n"
          ]
        },
        {
          "data": {
            "image/png": "[encoded data removed]",
            "text/plain": [
              "<Figure size 640x480 with 2 Axes>"
            ]
          },
          "metadata": {},
          "output_type": "display_data"
        },
        {
          "name": "stdout",
          "output_type": "stream",
          "text": [
            "              precision    recall  f1-score   support\n",
            "\n",
            "       False       0.95      1.00      0.97        39\n",
            "        True       1.00      0.95      0.97        41\n",
            "\n",
            "    accuracy                           0.97        80\n",
            "   macro avg       0.98      0.98      0.97        80\n",
            "weighted avg       0.98      0.97      0.97        80\n",
            "\n"
          ]
        }
      ],
      "source": [
        "# print the best parameters after tuning\n",
        "print(\"Best parameters found: \", gsv.best_params_)\n",
        "# print how our model looks after hyper-parameter tuning\n",
        "print(\"Best estimator found: \", gsv.best_estimator_)\n",
        "re = gsv.cv_results_\n",
        "\n",
        "gsv.predict(X_test)\n",
        "y_pred_grid = gsv.predict(X_test)\n",
        "\n",
        "cm = confusion_matrix(y_test, y_pred_grid)\n",
        "disp = ConfusionMatrixDisplay(confusion_matrix=cm)\n",
        "disp.plot()\n",
        "plt.show()\n",
        "\n",
        "print(classification_report(y_test, y_pred_grid))\n"
      ]
    },
    {
      "cell_type": "code",
      "execution_count": null,
      "id": "779ef13d",
      "metadata": {
        "id": "779ef13d",
        "outputId": "08d93c48-af82-4431-f9d4-24254bc7f8e7"
      },
      "outputs": [
        {
          "name": "stdout",
          "output_type": "stream",
          "text": [
            "F1 Score:  0.975\n"
          ]
        }
      ],
      "source": [
        "f1 = f1_score(y_test, y_pred_grid)\n",
        "print(\"F1 Score: \", f1)"
      ]
    }
  ],
  "metadata": {
    "kernelspec": {
      "display_name": "3.13.3",
      "language": "python",
      "name": "python3"
    },
    "language_info": {
      "codemirror_mode": {
        "name": "ipython",
        "version": 3
      },
      "file_extension": ".py",
      "mimetype": "text/x-python",
      "name": "python",
      "nbconvert_exporter": "python",
      "pygments_lexer": "ipython3",
      "version": "3.13.3"
    },
    "colab": {
      "provenance": [],
      "include_colab_link": true
    }
  },
  "nbformat": 4,
  "nbformat_minor": 5
}