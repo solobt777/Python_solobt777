{
 "cells": [
  {
   "cell_type": "code",
   "execution_count": null,
   "id": "30b0b55d",
   "metadata": {},
   "outputs": [],
   "source": [
    "#### KNN - K Nearest Neighbor\n",
    "!pip install matplotlib scikit-learn"
   ]
  },
  {
   "cell_type": "code",
   "execution_count": 15,
   "id": "7b2bbe42",
   "metadata": {},
   "outputs": [],
   "source": [
    "import pandas as pd\n",
    "import numpy as np\n",
    "import matplotlib.pyplot as plt\n",
    "from sklearn.model_selection import train_test_split, GridSearchCV\n",
    "from sklearn.neighbors import KNeighborsClassifier\n",
    "from sklearn.metrics import classification_report, confusion_matrix\n"
   ]
  },
  {
   "cell_type": "code",
   "execution_count": null,
   "id": "191c6abd",
   "metadata": {},
   "outputs": [],
   "source": [
    "df = pd.read_csv('Social_Network_Ads.csv')\n",
    "df = pd.get_dummies(df, drop_first=True)\n",
    "df = df.drop(['User ID'], axis=1)\n",
    "X = df[['Age', 'EstimatedSalary']]\n",
    "y = df['Purchased']\n",
    "\n",
    "df.Purchased.value_counts()"
   ]
  },
  {
   "cell_type": "code",
   "execution_count": null,
   "id": "c106a2e0",
   "metadata": {},
   "outputs": [],
   "source": [
    "X_train, X_test, y_train, y_test = train_test_split(X, y, test_size=0.3, random_state=40)\n",
    "### minkowski distance with p=2 is equivalent to euclidean distance\n"
   ]
  },
  {
   "cell_type": "code",
   "execution_count": 27,
   "id": "f0863ca6",
   "metadata": {},
   "outputs": [
    {
     "name": "stdout",
     "output_type": "stream",
     "text": [
      "[[65 12]\n",
      " [11 32]]\n",
      "              precision    recall  f1-score   support\n",
      "\n",
      "           0       0.86      0.84      0.85        77\n",
      "           1       0.73      0.74      0.74        43\n",
      "\n",
      "    accuracy                           0.81       120\n",
      "   macro avg       0.79      0.79      0.79       120\n",
      "weighted avg       0.81      0.81      0.81       120\n",
      "\n"
     ]
    }
   ],
   "source": [
    "#knn = KNeighborsClassifier(n_neighbors=7, metric='minkowski', p=2)\n",
    "param_grid = {'n_neighbors': range(1, 31), 'metric': ['euclidean', 'manhattan', 'minkowski']}\n",
    "gsv = GridSearchCV(KNeighborsClassifier(), param_grid, cv=5)\n",
    "gsv.fit(X, y)\n",
    "gsv.best_params_\n",
    "\n",
    "knn = KNeighborsClassifier(**gsv.best_params_)\n",
    "knn.fit(X_train, y_train)\n",
    "y_pred = knn.predict(X_test)\n",
    "print(confusion_matrix(y_test, y_pred))\n",
    "print(classification_report(y_test, y_pred))"
   ]
  }
 ],
 "metadata": {
  "kernelspec": {
   "display_name": "3.13.3",
   "language": "python",
   "name": "python3"
  },
  "language_info": {
   "codemirror_mode": {
    "name": "ipython",
    "version": 3
   },
   "file_extension": ".py",
   "mimetype": "text/x-python",
   "name": "python",
   "nbconvert_exporter": "python",
   "pygments_lexer": "ipython3",
   "version": "3.13.3"
  }
 },
 "nbformat": 4,
 "nbformat_minor": 5
}
