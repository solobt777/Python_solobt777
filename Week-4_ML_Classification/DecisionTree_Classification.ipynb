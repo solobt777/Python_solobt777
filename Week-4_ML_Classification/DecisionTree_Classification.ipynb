{
  "cells": [
    {
      "cell_type": "markdown",
      "metadata": {
        "id": "view-in-github",
        "colab_type": "text"
      },
      "source": [
        "<a href=\"https://colab.research.google.com/github/solobt777/Python_solobt777/blob/main/Week-4_ML_Classification/DecisionTree_Classification.ipynb\" target=\"_parent\"><img src=\"https://colab.research.google.com/assets/colab-badge.svg\" alt=\"Open In Colab\"/></a>"
      ]
    },
    {
      "cell_type": "code",
      "execution_count": null,
      "id": "0a2abfa7",
      "metadata": {
        "id": "0a2abfa7"
      },
      "outputs": [],
      "source": [
        "import pandas as pd\n",
        "import numpy as np\n",
        "import matplotlib.pyplot as plt\n",
        "from sklearn.model_selection import train_test_split\n",
        "import sklearn.tree as DecisionTreeClassifier\n",
        "import sklearn.metrics as classification_report"
      ]
    },
    {
      "cell_type": "code",
      "execution_count": null,
      "id": "5be17406",
      "metadata": {
        "id": "5be17406",
        "outputId": "eb0eb922-0f61-4078-9dd0-f995c08386e2"
      },
      "outputs": [
        {
          "name": "stdout",
          "output_type": "stream",
          "text": [
            "              precision    recall  f1-score   support\n",
            "\n",
            "           0       0.92      0.91      0.92        79\n",
            "           1       0.83      0.85      0.84        41\n",
            "\n",
            "    accuracy                           0.89       120\n",
            "   macro avg       0.88      0.88      0.88       120\n",
            "weighted avg       0.89      0.89      0.89       120\n",
            "\n"
          ]
        },
        {
          "name": "stderr",
          "output_type": "stream",
          "text": [
            "/Users/solomon/Documents/Solo_docs/INTO_United_States/Learning_Path/Hope AI /Start Course/Week_2_Python/myevn/lib/python3.13/site-packages/sklearn/utils/validation.py:2749: UserWarning: X does not have valid feature names, but DecisionTreeClassifier was fitted with feature names\n",
            "  warnings.warn(\n"
          ]
        },
        {
          "data": {
            "text/plain": [
              "Purchased\n",
              "0    79\n",
              "1    41\n",
              "Name: count, dtype: int64"
            ]
          },
          "execution_count": 91,
          "metadata": {},
          "output_type": "execute_result"
        },
        {
          "data": {
            "image/png": "[encoded data removed]",
            "text/plain": [
              "<Figure size 640x480 with 2 Axes>"
            ]
          },
          "metadata": {},
          "output_type": "display_data"
        }
      ],
      "source": [
        "pd.read_csv(\"Social_Network_Ads.csv\")\n",
        "\n",
        "df=pd.read_csv(\"Social_Network_Ads.csv\")\n",
        "df=pd.get_dummies(df,drop_first=True)\n",
        "\n",
        "X = df.drop('Purchased', axis=1)\n",
        "y = df['Purchased']\n",
        "\n",
        "X_train, X_test, y_train, y_test = train_test_split(X, y, test_size=0.3, random_state=0)\n",
        "\n",
        "decision_tree_classifier = DecisionTreeClassifier.DecisionTreeClassifier()\n",
        "decision_tree_classifier.fit(X_train, y_train)\n",
        "y_pred = decision_tree_classifier.predict(X_test)\n",
        "\n",
        "\n",
        "print(classification_report.classification_report(y_test, y_pred))\n",
        "\n",
        "\n",
        "\n",
        "final = decision_tree_classifier.predict([[40, 300, 1, 0]])\n",
        "\n",
        "from sklearn.metrics import confusion_matrix, ConfusionMatrixDisplay\n",
        "cf = confusion_matrix(y_test, y_pred)\n",
        "ConfusionMatrixDisplay(cf).plot()\n",
        "decision_tree_classifier.classes_\n",
        "pd.Series(y_test).value_counts()"
      ]
    },
    {
      "cell_type": "code",
      "execution_count": null,
      "id": "d563ee1d",
      "metadata": {
        "id": "d563ee1d",
        "outputId": "74f77582-4797-45e3-a8ff-ec8e80a5c74e"
      },
      "outputs": [
        {
          "data": {
            "text/plain": [
              "Purchased\n",
              "0    257\n",
              "1    143\n",
              "Name: count, dtype: int64"
            ]
          },
          "execution_count": 43,
          "metadata": {},
          "output_type": "execute_result"
        }
      ],
      "source": [
        "df.Purchased.value_counts()"
      ]
    },
    {
      "cell_type": "code",
      "execution_count": null,
      "id": "ec1e79b0",
      "metadata": {
        "id": "ec1e79b0",
        "outputId": "3deaff6b-10b3-44cf-e88e-c9592f0f9790"
      },
      "outputs": [
        {
          "data": {
            "text/plain": [
              "<sklearn.metrics._plot.confusion_matrix.ConfusionMatrixDisplay at 0x11eeeaf30>"
            ]
          },
          "execution_count": 84,
          "metadata": {},
          "output_type": "execute_result"
        },
        {
          "data": {
            "image/png": "[encoded data removed]",
            "text/plain": [
              "<Figure size 640x480 with 2 Axes>"
            ]
          },
          "metadata": {},
          "output_type": "display_data"
        }
      ],
      "source": [
        "from sklearn.metrics import confusion_matrix, ConfusionMatrixDisplay\n",
        "cf = confusion_matrix(y_test, y_pred)\n",
        "\n",
        "ConfusionMatrixDisplay(cf).plot()"
      ]
    },
    {
      "cell_type": "code",
      "execution_count": null,
      "id": "ab4f513a",
      "metadata": {
        "id": "ab4f513a",
        "outputId": "5a7079ac-5ae0-453c-a5d0-75d9c6609f26"
      },
      "outputs": [
        {
          "name": "stdout",
          "output_type": "stream",
          "text": [
            "              precision    recall  f1-score   support\n",
            "\n",
            "           0       0.90      0.89      0.89        79\n",
            "           1       0.79      0.80      0.80        41\n",
            "\n",
            "    accuracy                           0.86       120\n",
            "   macro avg       0.84      0.85      0.84       120\n",
            "weighted avg       0.86      0.86      0.86       120\n",
            "\n"
          ]
        }
      ],
      "source": [
        "print(classification_report.classification_report(y_test, y_pred))"
      ]
    },
    {
      "cell_type": "code",
      "execution_count": null,
      "id": "6b563cbe",
      "metadata": {
        "id": "6b563cbe",
        "outputId": "62db074a-ab28-43ff-d77a-044aeeba128e"
      },
      "outputs": [
        {
          "name": "stderr",
          "output_type": "stream",
          "text": [
            "/Users/solomon/Documents/Solo_docs/INTO_United_States/Learning_Path/Hope AI /Start Course/Week_2_Python/myevn/lib/python3.13/site-packages/sklearn/utils/validation.py:2749: UserWarning: X does not have valid feature names, but DecisionTreeClassifier was fitted with feature names\n",
            "  warnings.warn(\n"
          ]
        },
        {
          "data": {
            "text/plain": [
              "array([0, 1])"
            ]
          },
          "execution_count": 30,
          "metadata": {},
          "output_type": "execute_result"
        }
      ],
      "source": [
        "final = decision_tree_classifier.predict([[40, 300, 1, 0]])\n",
        "decision_tree_classifier.classes_\n"
      ]
    }
  ],
  "metadata": {
    "kernelspec": {
      "display_name": "myevn",
      "language": "python",
      "name": "python3"
    },
    "language_info": {
      "codemirror_mode": {
        "name": "ipython",
        "version": 3
      },
      "file_extension": ".py",
      "mimetype": "text/x-python",
      "name": "python",
      "nbconvert_exporter": "python",
      "pygments_lexer": "ipython3",
      "version": "3.13.0"
    },
    "colab": {
      "provenance": [],
      "include_colab_link": true
    }
  },
  "nbformat": 4,
  "nbformat_minor": 5
}