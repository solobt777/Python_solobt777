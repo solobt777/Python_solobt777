{
  "cells": [
    {
      "cell_type": "markdown",
      "metadata": {
        "colab_type": "text",
        "id": "view-in-github"
      },
      "source": [
        "<a href=\"https://colab.research.google.com/github/solobt777/Python_solobt777/blob/main/Week-4_ML_Classification/DecisionTree_Classification.ipynb\" target=\"_parent\"><img src=\"https://colab.research.google.com/assets/colab-badge.svg\" alt=\"Open In Colab\"/></a>"
      ]
    },
    {
      "cell_type": "code",
      "execution_count": 21,
      "id": "0a2abfa7",
      "metadata": {
        "id": "0a2abfa7"
      },
      "outputs": [],
      "source": [
        "import pandas as pd\n",
        "import numpy as np\n",
        "import matplotlib.pyplot as plt\n",
        "from sklearn.model_selection import train_test_split, GridSearchCV\n",
        "import sklearn.tree as DecisionTreeClassifier\n",
        "import sklearn.metrics as classification_report"
      ]
    },
    {
      "cell_type": "code",
      "execution_count": null,
      "id": "5be17406",
      "metadata": {
        "id": "5be17406",
        "outputId": "eb0eb922-0f61-4078-9dd0-f995c08386e2"
      },
      "outputs": [],
      "source": [
        "#pd.read_csv(\"Social_Network_Ads.csv\")\n",
        "\n",
        "df=pd.read_csv(\"Social_Network_Ads.csv\")\n",
        "df=pd.get_dummies(df,drop_first=True)\n",
        "\n",
        "X = df.drop('Purchased', axis=1)\n",
        "y = df['Purchased']\n",
        "\n",
        "X_train, X_test, y_train, y_test = train_test_split(X, y, test_size=0.3, random_state=0)\n",
        "\n"
      ]
    },
    {
      "cell_type": "code",
      "execution_count": null,
      "id": "e6afdf28",
      "metadata": {},
      "outputs": [
        {
          "name": "stdout",
          "output_type": "stream",
          "text": [
            "              precision    recall  f1-score   support\n",
            "\n",
            "           0       0.90      0.95      0.93        79\n",
            "           1       0.89      0.80      0.85        41\n",
            "\n",
            "    accuracy                           0.90       120\n",
            "   macro avg       0.90      0.88      0.89       120\n",
            "weighted avg       0.90      0.90      0.90       120\n",
            "\n"
          ]
        },
        {
          "name": "stderr",
          "output_type": "stream",
          "text": [
            "/Users/solomonrajkumar.sathianandaraj/.pyenv/versions/3.13.3/lib/python3.13/site-packages/sklearn/utils/validation.py:2749: UserWarning: X does not have valid feature names, but DecisionTreeClassifier was fitted with feature names\n",
            "  warnings.warn(\n"
          ]
        },
        {
          "data": {
            "text/plain": [
              "Purchased\n",
              "0    79\n",
              "1    41\n",
              "Name: count, dtype: int64"
            ]
          },
          "execution_count": 27,
          "metadata": {},
          "output_type": "execute_result"
        },
        {
          "data": {
            "image/png": "[encoded data removed]",
            "text/plain": [
              "<Figure size 640x480 with 2 Axes>"
            ]
          },
          "metadata": {},
          "output_type": "display_data"
        }
      ],
      "source": [
        "from sklearn.tree import DecisionTreeClassifier\n",
        "from sklearn.model_selection import GridSearchCV\n",
        "from sklearn.metrics import classification_report, confusion_matrix, ConfusionMatrixDisplay\n",
        "\n",
        "\n",
        "param_grid = {\n",
        "    'criterion': ['gini', 'entropy'],\n",
        "    'max_depth': [None, 5, 10, 15, 20],\n",
        "    'min_samples_split': [2, 5, 10],\n",
        "    'min_samples_leaf': [1, 2, 4]\n",
        "}\n",
        "\n",
        "gsv = GridSearchCV(DecisionTreeClassifier(), param_grid, cv=5)\n",
        "gsv.fit(X, y)\n",
        "gsv.best_params_\n",
        "\n",
        "decision_tree_classifier = DecisionTreeClassifier(**gsv.best_params_)\n",
        "decision_tree_classifier.fit(X_train, y_train)\n",
        "y_pred = decision_tree_classifier.predict(X_test)\n",
        "\n",
        "\n",
        "print(classification_report(y_test, y_pred))\n",
        "\n",
        "\n",
        "\n",
        "final = decision_tree_classifier.predict([[40, 300, 1, 0]])\n",
        "\n",
        "cf = confusion_matrix(y_test, y_pred)\n",
        "ConfusionMatrixDisplay(cf).plot()\n",
        "decision_tree_classifier.classes_\n",
        "pd.Series(y_test).value_counts()"
      ]
    },
    {
      "cell_type": "code",
      "execution_count": 17,
      "id": "d563ee1d",
      "metadata": {
        "id": "d563ee1d",
        "outputId": "74f77582-4797-45e3-a8ff-ec8e80a5c74e"
      },
      "outputs": [
        {
          "data": {
            "text/plain": [
              "Purchased\n",
              "0    257\n",
              "1    143\n",
              "Name: count, dtype: int64"
            ]
          },
          "execution_count": 17,
          "metadata": {},
          "output_type": "execute_result"
        }
      ],
      "source": [
        "df.Purchased.value_counts()"
      ]
    },
    {
      "cell_type": "code",
      "execution_count": 24,
      "id": "ec1e79b0",
      "metadata": {
        "id": "ec1e79b0",
        "outputId": "3deaff6b-10b3-44cf-e88e-c9592f0f9790"
      },
      "outputs": [],
      "source": [
        "#from sklearn.metrics import confusion_matrix, ConfusionMatrixDisplay\n",
        "#cf = confusion_matrix(y_test, y_pred)\n",
        "\n",
        "#ConfusionMatrixDisplay(cf).plot()"
      ]
    },
    {
      "cell_type": "code",
      "execution_count": 25,
      "id": "ab4f513a",
      "metadata": {
        "id": "ab4f513a",
        "outputId": "5a7079ac-5ae0-453c-a5d0-75d9c6609f26"
      },
      "outputs": [],
      "source": [
        "#print(classification_report.classification_report(y_test, y_pred))"
      ]
    },
    {
      "cell_type": "code",
      "execution_count": 26,
      "id": "6b563cbe",
      "metadata": {
        "id": "6b563cbe",
        "outputId": "62db074a-ab28-43ff-d77a-044aeeba128e"
      },
      "outputs": [
        {
          "name": "stderr",
          "output_type": "stream",
          "text": [
            "/Users/solomonrajkumar.sathianandaraj/.pyenv/versions/3.13.3/lib/python3.13/site-packages/sklearn/utils/validation.py:2749: UserWarning: X does not have valid feature names, but DecisionTreeClassifier was fitted with feature names\n",
            "  warnings.warn(\n"
          ]
        },
        {
          "data": {
            "text/plain": [
              "array([0, 1])"
            ]
          },
          "execution_count": 26,
          "metadata": {},
          "output_type": "execute_result"
        }
      ],
      "source": [
        "final = decision_tree_classifier.predict([[40, 300, 1, 0]])\n",
        "decision_tree_classifier.classes_\n"
      ]
    }
  ],
  "metadata": {
    "colab": {
      "include_colab_link": true,
      "provenance": []
    },
    "kernelspec": {
      "display_name": "3.13.3",
      "language": "python",
      "name": "python3"
    },
    "language_info": {
      "codemirror_mode": {
        "name": "ipython",
        "version": 3
      },
      "file_extension": ".py",
      "mimetype": "text/x-python",
      "name": "python",
      "nbconvert_exporter": "python",
      "pygments_lexer": "ipython3",
      "version": "3.13.3"
    }
  },
  "nbformat": 4,
  "nbformat_minor": 5
}
