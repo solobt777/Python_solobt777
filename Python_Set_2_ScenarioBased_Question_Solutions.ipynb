{
 "cells": [
  {
   "cell_type": "markdown",
   "id": "f3e1ef10",
   "metadata": {},
   "source": [
    "## Scenario: You are developing a banking application that categorizes transactions based on the amount entered.\n",
    " -Write logic to determine whether the amount is positive, negative, or zero.\n"
   ]
  },
  {
   "cell_type": "code",
   "execution_count": 5,
   "id": "fd3c208a",
   "metadata": {},
   "outputs": [
    {
     "name": "stdout",
     "output_type": "stream",
     "text": [
      "Transaction amount: 100, Category: Negative\n"
     ]
    }
   ],
   "source": [
    "def categorize_transaction(amount):\n",
    "    input_amount = float(input(\"Enter transaction amount: \"))\n",
    "    if input_amount > 0:\n",
    "        return \"Positive\"\n",
    "    elif input_amount < 0:\n",
    "        return \"Negative\"\n",
    "    else:\n",
    "        return \"Zero\"\n",
    "\n",
    "# Example usage\n",
    "amount = 100\n",
    "category = categorize_transaction(amount)\n",
    "print(f\"Transaction amount: {amount}, Category: {category}\")"
   ]
  },
  {
   "cell_type": "markdown",
   "id": "ba62a922",
   "metadata": {},
   "source": [
    "## 2.\tScenario: A digital locker requires users to enter a numerical passcode. As part of a security feature, the system checks the sum of the digits of the passcode.\n",
    " -Write logic to compute the sum of the digits of a given number.\n"
   ]
  },
  {
   "cell_type": "code",
   "execution_count": 7,
   "id": "a37de930",
   "metadata": {},
   "outputs": [
    {
     "name": "stdout",
     "output_type": "stream",
     "text": [
      "Passcode: 12345, Sum of digits: 15\n"
     ]
    }
   ],
   "source": [
    "def sum_of_digits(number):\n",
    "    return sum(int(digit) for digit in str(abs(number)))\n",
    "\n",
    "# Example usage\n",
    "passcode = 12345\n",
    "digit_sum = sum_of_digits(passcode)\n",
    "print(f\"Passcode: {passcode}, Sum of digits: {digit_sum}\")"
   ]
  },
  {
   "cell_type": "markdown",
   "id": "4f37714e",
   "metadata": {},
   "source": [
    "## 3.\tScenario: A mobile payment app uses a simple checksum validation where reversing a transaction ID helps detect fraud.\n",
    "- Write logic to take a number and return its reverse.\n"
   ]
  },
  {
   "cell_type": "code",
   "execution_count": 14,
   "id": "329097ba",
   "metadata": {},
   "outputs": [
    {
     "name": "stdout",
     "output_type": "stream",
     "text": [
      "Transaction ID: -12345, Reversed: -54321\n"
     ]
    }
   ],
   "source": [
    "def reverse_number(number):\n",
    "    return int(str(abs(int(number)))[::-1]) if int(number) >= 0 else -int(str(abs(int(number)))[::-1])\n",
    "\n",
    "# Example usage\n",
    "transaction_id = -12345\n",
    "reversed_id = reverse_number(transaction_id)\n",
    "print(f\"Transaction ID: {transaction_id}, Reversed: {reversed_id}\")"
   ]
  },
  {
   "cell_type": "markdown",
   "id": "0730a7ee",
   "metadata": {},
   "source": [
    "## 4.\tScenario: In a secure login system, certain features are enabled only for users with prime-numbered user IDs.\n",
    " -Write logic to check if a given number is prime.\n"
   ]
  },
  {
   "cell_type": "code",
   "execution_count": 31,
   "id": "f6356d8a",
   "metadata": {},
   "outputs": [
    {
     "name": "stdout",
     "output_type": "stream",
     "text": [
      "17 % 2\n",
      "17 % 3\n",
      "17 % 4\n",
      "Is prime\n",
      "User ID: 17, Is prime: True\n"
     ]
    }
   ],
   "source": [
    "def is_prime(number):\n",
    "    if number < 2:\n",
    "        return False\n",
    "    for i in range(2, int(number ** 0.5) + 1):\n",
    "        print(number ,\"%\", i)\n",
    "        if number % i == 0:\n",
    "            print(\"Not prime\")\n",
    "            return False\n",
    "    print(\"Is prime\")\n",
    "    return True\n",
    "\n",
    "# Example usage\n",
    "user_id = 17\n",
    "print(f\"User ID: {user_id}, Is prime: {is_prime(user_id)}\")"
   ]
  },
  {
   "cell_type": "markdown",
   "id": "b9fb1b69",
   "metadata": {},
   "source": [
    "## 5.\tScenario: A scientist is working on permutations and needs to calculate the factorial of numbers frequently.\n",
    "- Write logic to find the factorial of a given number using recursion.\n"
   ]
  },
  {
   "cell_type": "code",
   "execution_count": 39,
   "id": "037cdcab",
   "metadata": {},
   "outputs": [
    {
     "name": "stdout",
     "output_type": "stream",
     "text": [
      "5 4\n",
      "4 3\n",
      "3 2\n",
      "2 1\n",
      "Number: 5, Factorial: 120\n"
     ]
    }
   ],
   "source": [
    "def factorial(n):\n",
    "    if n == 0 or n == 1:\n",
    "        return 1\n",
    "    else:\n",
    "       # print(f\"Calculating factorial({n}), need factorial({n-1})\")\n",
    "        print(n, (n - 1))\n",
    "        return n * factorial(n - 1)\n",
    "\n",
    "# Example usage\n",
    "number = 5\n",
    "fact = factorial(number)\n",
    "print(f\"Number: {number}, Factorial: {fact}\")"
   ]
  },
  {
   "cell_type": "markdown",
   "id": "2b4e3de5",
   "metadata": {},
   "source": [
    "## 6.\tScenario: A unique lottery system assigns ticket numbers where only Armstrong numbers win the jackpot.\n",
    " - Write logic to check whether a given number is an Armstrong number.\n"
   ]
  },
  {
   "cell_type": "code",
   "execution_count": 42,
   "id": "752a63ce",
   "metadata": {},
   "outputs": [
    {
     "name": "stdout",
     "output_type": "stream",
     "text": [
      "Ticket Number: 153, Is Armstrong: True\n"
     ]
    }
   ],
   "source": [
    "def is_armstrong(number):\n",
    "    num_str = str(abs(number))\n",
    "    num_len = len(num_str)\n",
    "    total = sum(int(digit) ** num_len for digit in num_str)\n",
    "    return total == abs(number)\n",
    "\n",
    "# Example usage\n",
    "ticket_number = 153\n",
    "print(f\"Ticket Number: {ticket_number}, Is Armstrong: {is_armstrong(ticket_number)}\")"
   ]
  },
  {
   "cell_type": "markdown",
   "id": "d824e3c4",
   "metadata": {},
   "source": [
    "## 7.\tScenario: A password manager needs to strengthen weak passwords by swapping the first and last characters of user-generated passwords.\n",
    " - Write logic to perform this operation on a given string.\n"
   ]
  },
  {
   "cell_type": "code",
   "execution_count": 49,
   "id": "de819c37",
   "metadata": {},
   "outputs": [
    {
     "name": "stdout",
     "output_type": "stream",
     "text": [
      "d asswor p\n",
      "Original password: password, Strengthened password: dassworp\n"
     ]
    }
   ],
   "source": [
    "def swap_first_last(password):\n",
    "    if len(password) < 2:\n",
    "        return password\n",
    "    print(password[-1] , password[1:-1] , password[0])\n",
    "    return password[-1] + password[1:-1] + password[0]\n",
    "\n",
    "# Example usage\n",
    "user_password = \"password\"\n",
    "strengthened_password = swap_first_last(user_password)\n",
    "print(f\"Original password: {user_password}, Strengthened password: {strengthened_password}\")"
   ]
  },
  {
   "cell_type": "markdown",
   "id": "93164985",
   "metadata": {},
   "source": [
    "## 8.\tScenario: A low-level networking application requires decimal numbers to be converted into binary format before transmission.\n",
    " - Write logic to convert a given decimal number into its binary equivalent.\n"
   ]
  },
  {
   "cell_type": "code",
   "execution_count": 75,
   "id": "8b9dd5d3",
   "metadata": {},
   "outputs": [
    {
     "name": "stdout",
     "output_type": "stream",
     "text": [
      "Decimal: -10, Binary: -1010\n",
      "11\n"
     ]
    }
   ],
   "source": [
    "def decimal_to_binary(number):\n",
    "    return bin(number)[2:] if number >= 0 else '-' + bin(abs(number))[2:]\n",
    "\n",
    "# Example usage\n",
    "decimal_number = -10\n",
    "binary_representation = decimal_to_binary(decimal_number)\n",
    "print(f\"Decimal: {decimal_number}, Binary: {binary_representation}\")\n",
    "\n",
    "print(bin(abs(3))[2:])  # Output: '1100100'"
   ]
  },
  {
   "cell_type": "markdown",
   "id": "95fc83bb",
   "metadata": {},
   "source": [
    "## 9.\tScenario: A text-processing tool helps summarize articles by identifying the most significant words.\n",
    " -Write logic to find the longest word in a sentence.\n"
   ]
  },
  {
   "cell_type": "code",
   "execution_count": 2,
   "id": "1242f072",
   "metadata": {},
   "outputs": [
    {
     "name": "stdout",
     "output_type": "stream",
     "text": [
      "Sentence: A text-processing tool helps summarize articles by identifying the most significant words.\n",
      "Longest word: text-processing\n"
     ]
    }
   ],
   "source": [
    "def longest_word(sentence):\n",
    "    words = sentence.split()\n",
    "    return max(words, key=len) if words else \"\"\n",
    "\n",
    "# Example usage\n",
    "article = \"A text-processing tool helps summarize articles by identifying the most significant words.\"\n",
    "longest = longest_word(article)\n",
    "print(f\"Sentence: {article}\\nLongest word: {longest}\")"
   ]
  },
  {
   "cell_type": "markdown",
   "id": "10e26c47",
   "metadata": {},
   "source": [
    "## 10.\tScenario: A plagiarism detection tool compares words from different documents and checks if they are anagrams (same characters but different order).\n",
    " -Write logic to check whether two given strings are anagrams.\n",
    "\n"
   ]
  },
  {
   "cell_type": "code",
   "execution_count": null,
   "id": "4c489685",
   "metadata": {},
   "outputs": [
    {
     "name": "stdout",
     "output_type": "stream",
     "text": [
      "['e', 'i', 'l', 'n', 's', 't']\n",
      "Are 'listen' and 'silent' anagrams? True\n"
     ]
    }
   ],
   "source": [
    "def are_anagrams(str1, str2):\n",
    "    #print(sorted(str1.replace(\" \", \"\").lower()))\n",
    "    return sorted(str1.replace(\" \", \"\").lower()) == sorted(str2.replace(\" \", \"\").lower())\n",
    "\n",
    "# Example usage\n",
    "word1 = \"listen\"\n",
    "word2 = \"silent\"\n",
    "print(f\"Are '{word1}' and '{word2}' anagrams? {are_anagrams(word1, word2)}\")"
   ]
  }
 ],
 "metadata": {
  "kernelspec": {
   "display_name": "python311env",
   "language": "python",
   "name": "python3"
  },
  "language_info": {
   "codemirror_mode": {
    "name": "ipython",
    "version": 3
   },
   "file_extension": ".py",
   "mimetype": "text/x-python",
   "name": "python",
   "nbconvert_exporter": "python",
   "pygments_lexer": "ipython3",
   "version": "3.12.2"
  }
 },
 "nbformat": 4,
 "nbformat_minor": 5
}
